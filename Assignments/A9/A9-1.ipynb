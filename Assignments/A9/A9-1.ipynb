{
 "cells": [
  {
   "cell_type": "markdown",
   "metadata": {},
   "source": [
    "# Assignment 9: Hypothesis Testing (Part 1)"
   ]
  },
  {
   "cell_type": "markdown",
   "metadata": {},
   "source": [
    "## Objective"
   ]
  },
  {
   "cell_type": "markdown",
   "metadata": {},
   "source": [
    "In many situations, we cannot get the full population but only a sample. If we derive an interesting result from a sample, how likely can we derive the same result from the entire population? In other words, we want to know whether this result is a true finding or it just happens in the sample by chance. Hypothesis testing aims to answer this fundamental question. \n",
    "\n",
    "\n",
    "**Hypothesis Testing**\n",
    "1. Why A/B testing?  \n",
    "2. What is a permutation test? How to implement it?\n",
    "3. What is p-value? How to avoid p-hacking? \n",
    "4. What is a chi-squared test? How to implement it?\n"
   ]
  },
  {
   "cell_type": "markdown",
   "metadata": {},
   "source": [
    "## Task 1. A/B Testing\n",
    "> Acknowledgment: Thank [Greg Baker](http://www.cs.sfu.ca/~ggbaker/) for helping me to prepare this task.\n",
    "\n",
    "A very common technique to evaluate changes in a user interface is A/B testing: show some users interface A, some interface B, and then look to see if one performs better than the other.\n",
    "\n",
    "Suppose I started an A/B test on CourSys. Here are the two interfaces that I want to compare with. I want to know whether a good placeholder in the search box can attract more users to use the `search` feature.\n",
    "\n",
    "\n",
    "![](img/ab-testing.png)"
   ]
  },
  {
   "cell_type": "markdown",
   "metadata": {},
   "source": [
    "The provided [searchlog.json](searchlog.json) has information about users' usage. The question I was interested in: is the number of searches per user different?"
   ]
  },
  {
   "cell_type": "markdown",
   "metadata": {},
   "source": [
    "To answer this question, we need to first pick up a **test statistic** to quantify how good an interface is. Here, we choose \"the search_count mean\". \n",
    "\n",
    "Please write the code to compute **the difference of the search_count means between interface A and Interface B.** "
   ]
  },
  {
   "cell_type": "code",
   "execution_count": 62,
   "metadata": {},
   "outputs": [
    {
     "name": "stdout",
     "output_type": "stream",
     "text": [
      "0.13500569535052287\n"
     ]
    }
   ],
   "source": [
    "import numpy as np\n",
    "import pandas as pd\n",
    "import sys\n",
    "import scipy.stats as stats\n",
    "df = pd.read_json('searchlog.json', orient='records', lines=True)\n",
    "df_a = df[df['search_ui'] == 'A']\n",
    "df_b = df[df['search_ui'] == 'B']\n",
    "print(df_b['search_count'].mean()-df_a['search_count'].mean())"
   ]
  },
  {
   "cell_type": "markdown",
   "metadata": {},
   "source": [
    "Suppose we find that the mean value increased by 0.135. Then, we wonder whether this result is just caused by random variation. \n",
    "\n",
    "We define the Null Hypothesis as\n",
    " * The difference in search_count mean between Interface A and Interface B is caused by random variation. \n",
    " \n",
    "Then the next job is to check whether we can reject the null hypothesis or not. If it does, we can adopt the alternative explanation:\n",
    " * The difference in search_count mean  between Interface A and Interface B is caused by the design differences between the two.\n",
    "\n",
    "We compute the p-value of the observed result. If p-value is low (e.g., <0.01), we can reject the null hypothesis, and adopt  the alternative explanation.  \n",
    "\n",
    "Please implement a permutation test (numSamples = 10000) to compute the p-value. Note that you are NOT allowed to use an implementation in an existing library. You have to implement it by yourself."
   ]
  },
  {
   "cell_type": "code",
   "execution_count": 65,
   "metadata": {},
   "outputs": [
    {
     "name": "stdout",
     "output_type": "stream",
     "text": [
      "0.1382\n"
     ]
    }
   ],
   "source": [
    "counter = 0.\n",
    "numSamples = 10000\n",
    "reference_stat = 0.135\n",
    "for i in range(numSamples):\n",
    "    df['search_count']=np.random.permutation(df['search_count'])\n",
    "    df_group=df.groupby('search_ui').agg('mean')\n",
    "    if  df_group['search_count'].diff().values[1] > reference_stat:\n",
    "        counter += 1.\n",
    "print(counter/numSamples)"
   ]
  },
  {
   "cell_type": "markdown",
   "metadata": {},
   "source": [
    "Suppose we want to use the same dataset to do another A/B testing. We suspect that instructors are the ones who can get more useful information from the search feature, so perhaps non-instructors didn't touch the search feature because it was genuinely not relevant to them.\n",
    "\n",
    "So we decide to repeat the above analysis looking only at instructors."
   ]
  },
  {
   "cell_type": "markdown",
   "metadata": {},
   "source": [
    "**Q. If using the same dataset to do this analysis, do you feel like we're p-hacking? If so, what can we do with it? **"
   ]
  },
  {
   "cell_type": "markdown",
   "metadata": {},
   "source": [
    "**A.**  Yes we are p-hacking because we keep doing analysis on the same data until we find something significant. We should collect new dataset like collect ui data only from instructors. \n"
   ]
  },
  {
   "cell_type": "markdown",
   "metadata": {},
   "source": [
    "## Task 2. Chi-squared Test "
   ]
  },
  {
   "cell_type": "markdown",
   "metadata": {},
   "source": [
    "There are tens of different hypothesis testing methods. It's impossible to cover all of them in one week. Given that this is an important topic in statistics, I highly recommend using your free time to learn some other popular ones such as <a href=\"https://en.wikipedia.org/wiki/Chi-squared_test\">Chi-squared test</a>, <a href=\"https://en.wikipedia.org/wiki/G-test\">G-test</a>, <a href=\"https://en.wikipedia.org/wiki/Student%27s_t-test\">T-test</a>, and <a href=\"https://en.wikipedia.org/wiki/Mann%E2%80%93Whitney_U_test\">Mann–Whitney U test</a>.\n",
    "\n",
    "On the searchlog dataset, there are two categorical columns: `is_instructor` and `search_ui`. In Task D, your job is to first learn how a Chi-Squired test works by yourself and then use it to test whether `is_instructor` and `search_ui` are correlated. "
   ]
  },
  {
   "cell_type": "markdown",
   "metadata": {},
   "source": [
    "Please write code to compute the Chi-squared stat. Note that you are **not** allowed to call an existing function (e.g., stats.chi2, chi2_contingency). "
   ]
  },
  {
   "cell_type": "code",
   "execution_count": 71,
   "metadata": {},
   "outputs": [
    {
     "name": "stdout",
     "output_type": "stream",
     "text": [
      "obs:\n",
      "[[115, 120], [233, 213]]\n",
      "exp:\n",
      "[[120.08810572687224, 114.91189427312776], [227.91189427312776, 218.08810572687224]]\n",
      "0.6731740891275046\n"
     ]
    },
    {
     "data": {
      "text/plain": [
       "(0.6731740891275046,\n",
       " 0.41194715912043356,\n",
       " 1,\n",
       " array([[120.08810573, 114.91189427],\n",
       "        [227.91189427, 218.08810573]]))"
      ]
     },
     "execution_count": 71,
     "metadata": {},
     "output_type": "execute_result"
    }
   ],
   "source": [
    "instructor_a = len(df_a[df_a['is_instructor'] == True])\n",
    "instructor_b = len(df_b[df_b['is_instructor'] == True])\n",
    "notinstructor_a = len(df_a[df_a['is_instructor'] == False])\n",
    "notinstructor_b = len(df_b[df_b['is_instructor'] == False])\n",
    "obs = [[instructor_a, instructor_b],\n",
    "               [notinstructor_a, notinstructor_b]]\n",
    "print('obs:')\n",
    "print(obs)\n",
    "\n",
    "obs_instructor_a, obs_notinstructor_b = np.sum(contingency, axis=1)\n",
    "obs_a, obs_b = np.sum(contingency, axis=0)\n",
    "total = np.sum(obs)\n",
    "exp_instructor_a = (obs_instructor*obs_a)/total\n",
    "exp_instructor_b = (obs_instructor*obs_b)/total\n",
    "exp_notinstructor_a = (obs_notinstructor*obs_a)/total\n",
    "exp_notinstructor_b = (obs_notinstructor*obs_b)/total\n",
    "exp=[[exp_instructor_a,exp_instructor_b],[exp_notinstructor_a,exp_notinstructor_b]]\n",
    "print('exp:')\n",
    "print(exp)\n",
    "chi_squared = (instructor_a-exp_instructor_a)**2/exp_instructor_a + \\\n",
    "    (instructor_b-exp_instructor_b)**2/exp_instructor_b + \\\n",
    "    (notinstructor_a-exp_notinstructor_a)**2/exp_notinstructor_a + \\\n",
    "    (notinstructor_b-exp_notinstructor_b)**2/exp_notinstructor_b\n",
    "print(chi_squared)\n",
    "#compare to the API\n",
    "stats.chi2_contingency(obs,correction=False)"
   ]
  },
  {
   "cell_type": "markdown",
   "metadata": {},
   "source": [
    "Please explain how to use Chi-squared test to determine whether `is_instructor` and `search_ui` are correlated. "
   ]
  },
  {
   "cell_type": "markdown",
   "metadata": {},
   "source": [
    "**A.** After we got the chi squared stat 0.67, we look up the chi square table to get p-value (0.41) based on critical value 0.67 and degree of freedom 1 (clumns - 1)  which is much greater than 0.05. So we can't reject the Null Hypothesis the two columns are independent. The correlation of the two columns is weak."
   ]
  },
  {
   "cell_type": "markdown",
   "metadata": {},
   "source": [
    "## Submission"
   ]
  },
  {
   "cell_type": "markdown",
   "metadata": {},
   "source": [
    "Complete the code in this notebook, and submit it to the CourSys activity Assignment 7."
   ]
  },
  {
   "cell_type": "code",
   "execution_count": null,
   "metadata": {},
   "outputs": [],
   "source": []
  }
 ],
 "metadata": {
  "kernelspec": {
   "display_name": "Python 3",
   "language": "python",
   "name": "python3"
  },
  "language_info": {
   "codemirror_mode": {
    "name": "ipython",
    "version": 3
   },
   "file_extension": ".py",
   "mimetype": "text/x-python",
   "name": "python",
   "nbconvert_exporter": "python",
   "pygments_lexer": "ipython3",
   "version": "3.7.4"
  },
  "toc": {
   "base_numbering": 1,
   "nav_menu": {},
   "number_sections": true,
   "sideBar": true,
   "skip_h1_title": false,
   "title_cell": "Table of Contents",
   "title_sidebar": "Contents",
   "toc_cell": false,
   "toc_position": {},
   "toc_section_display": true,
   "toc_window_display": false
  }
 },
 "nbformat": 4,
 "nbformat_minor": 2
}
