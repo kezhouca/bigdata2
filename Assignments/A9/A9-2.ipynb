{
 "cells": [
  {
   "cell_type": "markdown",
   "metadata": {},
   "source": [
    "# Assignment 9: Causal Inference (Part 2)\n",
    "\n",
    "## Objective:\n",
    "\n",
    "Causal inference is the process of drawing a conclusion about a causal connection based on the conditions of the occurrence of an effect. It is a very powerful and widely-used tool in real-world applications and scenarios. In this assignment, you are expected to apply the basic concepts of causal inference to solve problems on real datasets and be able to achieve the following goals.\n",
    "\n",
    "* Understand why causality is needed.\n",
    "* Understand what is causality, particularly the difference between causality and correlation.\n",
    "* Understand how to estimate counterfactual results.\n",
    "* Understand how to use the graphical model to represent causality.\n",
    "* Can use some tools (e.g., dowhy) to infer causality, express causality and estimate treatment effects."
   ]
  },
  {
   "cell_type": "markdown",
   "metadata": {},
   "source": [
    "# 0. Preparation"
   ]
  },
  {
   "cell_type": "code",
   "execution_count": 88,
   "metadata": {},
   "outputs": [],
   "source": [
    "import numpy as np\n",
    "import pandas as pd\n",
    "from dataprep.eda import plot\n",
    "pd.options.mode.chained_assignment = None\n",
    "%matplotlib inline"
   ]
  },
  {
   "cell_type": "markdown",
   "metadata": {},
   "source": [
    "In this assignment, you are going to use the [Lalonde](lalonde.csv) dataset. Each tuple in the dataset represents an individual who was enrolled (or not enrolled) in a job training program. It aims to evaluate the effectiveness of a job training program (the treatment variable) on the real earnings of an individual, after completing the program for years. \n",
    "\n",
    "The dataset consists of a number of demographic variables, like age, race, academic background, marriage status, and previous real earnings in 1974, 1975 as well as a treatment indicator, and the real earnings in the year 1978 (the outcome variable)."
   ]
  },
  {
   "cell_type": "code",
   "execution_count": 89,
   "metadata": {},
   "outputs": [
    {
     "data": {
      "text/html": [
       "<div>\n",
       "<style scoped>\n",
       "    .dataframe tbody tr th:only-of-type {\n",
       "        vertical-align: middle;\n",
       "    }\n",
       "\n",
       "    .dataframe tbody tr th {\n",
       "        vertical-align: top;\n",
       "    }\n",
       "\n",
       "    .dataframe thead th {\n",
       "        text-align: right;\n",
       "    }\n",
       "</style>\n",
       "<table border=\"1\" class=\"dataframe\">\n",
       "  <thead>\n",
       "    <tr style=\"text-align: right;\">\n",
       "      <th></th>\n",
       "      <th>treat</th>\n",
       "      <th>age</th>\n",
       "      <th>educ</th>\n",
       "      <th>black</th>\n",
       "      <th>hispan</th>\n",
       "      <th>married</th>\n",
       "      <th>nodegree</th>\n",
       "      <th>re74</th>\n",
       "      <th>re75</th>\n",
       "      <th>re78</th>\n",
       "    </tr>\n",
       "    <tr>\n",
       "      <th>id</th>\n",
       "      <th></th>\n",
       "      <th></th>\n",
       "      <th></th>\n",
       "      <th></th>\n",
       "      <th></th>\n",
       "      <th></th>\n",
       "      <th></th>\n",
       "      <th></th>\n",
       "      <th></th>\n",
       "      <th></th>\n",
       "    </tr>\n",
       "  </thead>\n",
       "  <tbody>\n",
       "    <tr>\n",
       "      <th>NSW1</th>\n",
       "      <td>1</td>\n",
       "      <td>37</td>\n",
       "      <td>11</td>\n",
       "      <td>1</td>\n",
       "      <td>0</td>\n",
       "      <td>1</td>\n",
       "      <td>1</td>\n",
       "      <td>0.0</td>\n",
       "      <td>0.0</td>\n",
       "      <td>9930.0460</td>\n",
       "    </tr>\n",
       "    <tr>\n",
       "      <th>NSW2</th>\n",
       "      <td>1</td>\n",
       "      <td>22</td>\n",
       "      <td>9</td>\n",
       "      <td>0</td>\n",
       "      <td>1</td>\n",
       "      <td>0</td>\n",
       "      <td>1</td>\n",
       "      <td>0.0</td>\n",
       "      <td>0.0</td>\n",
       "      <td>3595.8940</td>\n",
       "    </tr>\n",
       "    <tr>\n",
       "      <th>NSW3</th>\n",
       "      <td>1</td>\n",
       "      <td>30</td>\n",
       "      <td>12</td>\n",
       "      <td>1</td>\n",
       "      <td>0</td>\n",
       "      <td>0</td>\n",
       "      <td>0</td>\n",
       "      <td>0.0</td>\n",
       "      <td>0.0</td>\n",
       "      <td>24909.4500</td>\n",
       "    </tr>\n",
       "    <tr>\n",
       "      <th>NSW4</th>\n",
       "      <td>1</td>\n",
       "      <td>27</td>\n",
       "      <td>11</td>\n",
       "      <td>1</td>\n",
       "      <td>0</td>\n",
       "      <td>0</td>\n",
       "      <td>1</td>\n",
       "      <td>0.0</td>\n",
       "      <td>0.0</td>\n",
       "      <td>7506.1460</td>\n",
       "    </tr>\n",
       "    <tr>\n",
       "      <th>NSW5</th>\n",
       "      <td>1</td>\n",
       "      <td>33</td>\n",
       "      <td>8</td>\n",
       "      <td>1</td>\n",
       "      <td>0</td>\n",
       "      <td>0</td>\n",
       "      <td>1</td>\n",
       "      <td>0.0</td>\n",
       "      <td>0.0</td>\n",
       "      <td>289.7899</td>\n",
       "    </tr>\n",
       "    <tr>\n",
       "      <th>...</th>\n",
       "      <td>...</td>\n",
       "      <td>...</td>\n",
       "      <td>...</td>\n",
       "      <td>...</td>\n",
       "      <td>...</td>\n",
       "      <td>...</td>\n",
       "      <td>...</td>\n",
       "      <td>...</td>\n",
       "      <td>...</td>\n",
       "      <td>...</td>\n",
       "    </tr>\n",
       "    <tr>\n",
       "      <th>PSID420</th>\n",
       "      <td>0</td>\n",
       "      <td>39</td>\n",
       "      <td>2</td>\n",
       "      <td>1</td>\n",
       "      <td>0</td>\n",
       "      <td>1</td>\n",
       "      <td>1</td>\n",
       "      <td>0.0</td>\n",
       "      <td>0.0</td>\n",
       "      <td>964.9555</td>\n",
       "    </tr>\n",
       "    <tr>\n",
       "      <th>PSID421</th>\n",
       "      <td>0</td>\n",
       "      <td>55</td>\n",
       "      <td>8</td>\n",
       "      <td>0</td>\n",
       "      <td>0</td>\n",
       "      <td>1</td>\n",
       "      <td>1</td>\n",
       "      <td>0.0</td>\n",
       "      <td>0.0</td>\n",
       "      <td>0.0000</td>\n",
       "    </tr>\n",
       "    <tr>\n",
       "      <th>PSID422</th>\n",
       "      <td>0</td>\n",
       "      <td>16</td>\n",
       "      <td>9</td>\n",
       "      <td>0</td>\n",
       "      <td>0</td>\n",
       "      <td>0</td>\n",
       "      <td>1</td>\n",
       "      <td>0.0</td>\n",
       "      <td>0.0</td>\n",
       "      <td>5551.8190</td>\n",
       "    </tr>\n",
       "    <tr>\n",
       "      <th>PSID423</th>\n",
       "      <td>0</td>\n",
       "      <td>27</td>\n",
       "      <td>10</td>\n",
       "      <td>1</td>\n",
       "      <td>0</td>\n",
       "      <td>0</td>\n",
       "      <td>1</td>\n",
       "      <td>0.0</td>\n",
       "      <td>0.0</td>\n",
       "      <td>7543.7940</td>\n",
       "    </tr>\n",
       "    <tr>\n",
       "      <th>PSID424</th>\n",
       "      <td>0</td>\n",
       "      <td>25</td>\n",
       "      <td>14</td>\n",
       "      <td>0</td>\n",
       "      <td>0</td>\n",
       "      <td>0</td>\n",
       "      <td>0</td>\n",
       "      <td>0.0</td>\n",
       "      <td>0.0</td>\n",
       "      <td>0.0000</td>\n",
       "    </tr>\n",
       "  </tbody>\n",
       "</table>\n",
       "<p>609 rows Ã— 10 columns</p>\n",
       "</div>"
      ],
      "text/plain": [
       "         treat  age  educ  black  hispan  married  nodegree  re74  re75  \\\n",
       "id                                                                        \n",
       "NSW1         1   37    11      1       0        1         1   0.0   0.0   \n",
       "NSW2         1   22     9      0       1        0         1   0.0   0.0   \n",
       "NSW3         1   30    12      1       0        0         0   0.0   0.0   \n",
       "NSW4         1   27    11      1       0        0         1   0.0   0.0   \n",
       "NSW5         1   33     8      1       0        0         1   0.0   0.0   \n",
       "...        ...  ...   ...    ...     ...      ...       ...   ...   ...   \n",
       "PSID420      0   39     2      1       0        1         1   0.0   0.0   \n",
       "PSID421      0   55     8      0       0        1         1   0.0   0.0   \n",
       "PSID422      0   16     9      0       0        0         1   0.0   0.0   \n",
       "PSID423      0   27    10      1       0        0         1   0.0   0.0   \n",
       "PSID424      0   25    14      0       0        0         0   0.0   0.0   \n",
       "\n",
       "               re78  \n",
       "id                   \n",
       "NSW1      9930.0460  \n",
       "NSW2      3595.8940  \n",
       "NSW3     24909.4500  \n",
       "NSW4      7506.1460  \n",
       "NSW5       289.7899  \n",
       "...             ...  \n",
       "PSID420    964.9555  \n",
       "PSID421      0.0000  \n",
       "PSID422   5551.8190  \n",
       "PSID423   7543.7940  \n",
       "PSID424      0.0000  \n",
       "\n",
       "[609 rows x 10 columns]"
      ]
     },
     "execution_count": 89,
     "metadata": {},
     "output_type": "execute_result"
    }
   ],
   "source": [
    "lalonde = pd.read_csv('lalonde.csv', index_col=0)\n",
    "lalonde.head()\n",
    "lalonde.head(-5)"
   ]
  },
  {
   "cell_type": "code",
   "execution_count": 90,
   "metadata": {},
   "outputs": [
    {
     "data": {
      "text/html": [
       "\n",
       "\n",
       "\n",
       "\n",
       "\n",
       "\n",
       "  <div class=\"bk-root\" id=\"bfe51628-ecfe-462f-8d06-4e239605079e\" data-root-id=\"5003\"></div>\n"
      ]
     },
     "metadata": {},
     "output_type": "display_data"
    },
    {
     "data": {
      "application/javascript": [
       "(function(root) {\n",
       "  function embed_document(root) {\n",
       "    \n",
       "  var docs_json = {\"6c6357b1-2d59-468d-9e73-972ad80da9c6\":{\"roots\":{\"references\":[{\"attributes\":{\"children\":[[{\"id\":\"4613\",\"subtype\":\"Figure\",\"type\":\"Plot\"},0,0],[{\"id\":\"4645\",\"subtype\":\"Figure\",\"type\":\"Plot\"},0,1],[{\"id\":\"4677\",\"subtype\":\"Figure\",\"type\":\"Plot\"},0,2],[{\"id\":\"4709\",\"subtype\":\"Figure\",\"type\":\"Plot\"},1,0],[{\"id\":\"4741\",\"subtype\":\"Figure\",\"type\":\"Plot\"},1,1],[{\"id\":\"4773\",\"subtype\":\"Figure\",\"type\":\"Plot\"},1,2],[{\"id\":\"4805\",\"subtype\":\"Figure\",\"type\":\"Plot\"},2,0],[{\"id\":\"4837\",\"subtype\":\"Figure\",\"type\":\"Plot\"},2,1],[{\"id\":\"4869\",\"subtype\":\"Figure\",\"type\":\"Plot\"},2,2],[{\"id\":\"4901\",\"subtype\":\"Figure\",\"type\":\"Plot\"},3,0]]},\"id\":\"5003\",\"type\":\"GridBox\"},{\"attributes\":{\"callback\":null},\"id\":\"4808\",\"type\":\"DataRange1d\"},{\"attributes\":{},\"id\":\"4935\",\"type\":\"BasicTickFormatter\"},{\"attributes\":{\"ticks\":[0.0,6030.793,12061.586,18092.379,24123.172,30153.964999999997,36184.758,42215.551,48246.344,54277.136999999995,60307.93]},\"id\":\"4931\",\"type\":\"FixedTicker\"},{\"attributes\":{\"bottom\":{\"value\":0.01},\"fill_alpha\":{\"value\":0.1},\"fill_color\":{\"value\":\"#1f77b4\"},\"left\":{\"field\":\"left\"},\"line_alpha\":{\"value\":0.1},\"line_color\":{\"value\":\"#1f77b4\"},\"right\":{\"field\":\"right\"},\"top\":{\"field\":\"freq\"}},\"id\":\"4702\",\"type\":\"Quad\"},{\"attributes\":{},\"id\":\"4984\",\"type\":\"BasicTickFormatter\"},{\"attributes\":{\"callback\":null},\"id\":\"4746\",\"type\":\"DataRange1d\"},{\"attributes\":{},\"id\":\"4985\",\"type\":\"BasicTickFormatter\"},{\"attributes\":{\"callback\":null},\"id\":\"4650\",\"type\":\"DataRange1d\"},{\"attributes\":{\"callback\":null,\"data\":{\"freq\":[227,0,0,0,0,0,0,0,0,387],\"index\":[0,1,2,3,4,5,6,7,8,9],\"intervals\":[\"[0.0,0.1)\",\"[0.1,0.2)\",\"[0.2,0.3)\",\"[0.3,0.4)\",\"[0.4,0.5)\",\"[0.5,0.6)\",\"[0.6,0.7)\",\"[0.7,0.8)\",\"[0.8,0.9)\",\"[0.9,1.0]\"],\"left\":{\"__ndarray__\":\"AAAAAAAAAACamZmZmZm5P5qZmZmZmck/NDMzMzMz0z+amZmZmZnZPwAAAAAAAOA/NDMzMzMz4z9nZmZmZmbmP5qZmZmZmek/zczMzMzM7D8=\",\"dtype\":\"float64\",\"shape\":[10]},\"pct\":{\"__ndarray__\":\"41DlXz98QkAAAAAAAAAAAAAAAAAAAAAAAAAAAAAAAAAAAAAAAAAAAAAAAAAAAAAAAAAAAAAAAAAAAAAAAAAAAAAAAAAAAAAAHK8aoMCDT0A=\",\"dtype\":\"float64\",\"shape\":[10]},\"right\":{\"__ndarray__\":\"mpmZmZmZuT+amZmZmZnJPzQzMzMzM9M/mpmZmZmZ2T8AAAAAAADgPzQzMzMzM+M/Z2ZmZmZm5j+amZmZmZnpP83MzMzMzOw/AAAAAAAA8D8=\",\"dtype\":\"float64\",\"shape\":[10]}},\"selected\":{\"id\":\"4980\",\"type\":\"Selection\"},\"selection_policy\":{\"id\":\"4979\",\"type\":\"UnionRenderers\"}},\"id\":\"4827\",\"type\":\"ColumnDataSource\"},{\"attributes\":{},\"id\":\"4986\",\"type\":\"UnionRenderers\"},{\"attributes\":{\"below\":[{\"id\":\"4624\",\"type\":\"LinearAxis\"}],\"center\":[{\"id\":\"4628\",\"type\":\"Grid\"},{\"id\":\"4633\",\"type\":\"Grid\"}],\"left\":[{\"id\":\"4629\",\"type\":\"LinearAxis\"}],\"plot_height\":300,\"plot_width\":324,\"renderers\":[{\"id\":\"4639\",\"type\":\"GlyphRenderer\"}],\"title\":{\"id\":\"4614\",\"type\":\"Title\"},\"toolbar\":{\"id\":\"4634\",\"type\":\"Toolbar\"},\"toolbar_location\":null,\"x_range\":{\"id\":\"4616\",\"type\":\"DataRange1d\"},\"x_scale\":{\"id\":\"4620\",\"type\":\"LinearScale\"},\"y_range\":{\"id\":\"4618\",\"type\":\"DataRange1d\"},\"y_scale\":{\"id\":\"4622\",\"type\":\"LinearScale\"}},\"id\":\"4613\",\"subtype\":\"Figure\",\"type\":\"Plot\"},{\"attributes\":{\"callback\":null},\"id\":\"4744\",\"type\":\"DataRange1d\"},{\"attributes\":{\"data_source\":{\"id\":\"4699\",\"type\":\"ColumnDataSource\"},\"glyph\":{\"id\":\"4701\",\"type\":\"Quad\"},\"hover_glyph\":null,\"muted_glyph\":null,\"nonselection_glyph\":{\"id\":\"4702\",\"type\":\"Quad\"},\"selection_glyph\":null,\"view\":{\"id\":\"4704\",\"type\":\"CDSView\"}},\"id\":\"4703\",\"type\":\"GlyphRenderer\"},{\"attributes\":{},\"id\":\"4936\",\"type\":\"BasicTickFormatter\"},{\"attributes\":{\"bottom\":{\"value\":0.01},\"fill_alpha\":{\"value\":0.5},\"fill_color\":{\"value\":\"#6baed6\"},\"left\":{\"field\":\"left\"},\"line_alpha\":{\"value\":0.5},\"line_color\":{\"value\":\"#1f77b4\"},\"right\":{\"field\":\"right\"},\"top\":{\"field\":\"freq\"}},\"id\":\"4669\",\"type\":\"Quad\"},{\"attributes\":{},\"id\":\"4987\",\"type\":\"Selection\"},{\"attributes\":{\"grid_line_color\":null,\"ticker\":{\"id\":\"4657\",\"type\":\"BasicTicker\"}},\"id\":\"4660\",\"type\":\"Grid\"},{\"attributes\":{},\"id\":\"4812\",\"type\":\"LinearScale\"},{\"attributes\":{},\"id\":\"4991\",\"type\":\"BasicTickFormatter\"},{\"attributes\":{\"axis_label\":\"Frequency\",\"formatter\":{\"id\":\"4949\",\"type\":\"BasicTickFormatter\"},\"major_label_text_font_size\":{\"value\":\"0pt\"},\"major_tick_line_color\":{\"value\":null},\"minor_tick_line_color\":{\"value\":null},\"ticker\":{\"id\":\"4694\",\"type\":\"BasicTicker\"}},\"id\":\"4693\",\"type\":\"LinearAxis\"},{\"attributes\":{},\"id\":\"4992\",\"type\":\"BasicTickFormatter\"},{\"attributes\":{},\"id\":\"4937\",\"type\":\"UnionRenderers\"},{\"attributes\":{\"callback\":null,\"mode\":\"vline\",\"tooltips\":[[\"Bin\",\"@intervals\"],[\"Frequency\",\"@freq\"],[\"Percent\",\"@pct{0.2f}%\"]]},\"id\":\"4801\",\"type\":\"HoverTool\"},{\"attributes\":{},\"id\":\"4993\",\"type\":\"UnionRenderers\"},{\"attributes\":{\"below\":[{\"id\":\"4784\",\"type\":\"LinearAxis\"}],\"center\":[{\"id\":\"4788\",\"type\":\"Grid\"},{\"id\":\"4793\",\"type\":\"Grid\"}],\"left\":[{\"id\":\"4789\",\"type\":\"LinearAxis\"}],\"plot_height\":300,\"plot_width\":324,\"renderers\":[{\"id\":\"4799\",\"type\":\"GlyphRenderer\"}],\"title\":{\"id\":\"4774\",\"type\":\"Title\"},\"toolbar\":{\"id\":\"4794\",\"type\":\"Toolbar\"},\"toolbar_location\":null,\"x_range\":{\"id\":\"4776\",\"type\":\"DataRange1d\"},\"x_scale\":{\"id\":\"4780\",\"type\":\"LinearScale\"},\"y_range\":{\"id\":\"4778\",\"type\":\"DataRange1d\"},\"y_scale\":{\"id\":\"4782\",\"type\":\"LinearScale\"}},\"id\":\"4773\",\"subtype\":\"Figure\",\"type\":\"Plot\"},{\"attributes\":{},\"id\":\"4938\",\"type\":\"Selection\"},{\"attributes\":{\"dimension\":1,\"grid_line_color\":null,\"ticker\":{\"id\":\"4630\",\"type\":\"BasicTicker\"}},\"id\":\"4633\",\"type\":\"Grid\"},{\"attributes\":{},\"id\":\"4994\",\"type\":\"Selection\"},{\"attributes\":{\"below\":[{\"id\":\"4848\",\"type\":\"LinearAxis\"}],\"center\":[{\"id\":\"4852\",\"type\":\"Grid\"},{\"id\":\"4857\",\"type\":\"Grid\"}],\"left\":[{\"id\":\"4853\",\"type\":\"LinearAxis\"}],\"plot_height\":300,\"plot_width\":324,\"renderers\":[{\"id\":\"4863\",\"type\":\"GlyphRenderer\"}],\"title\":{\"id\":\"4838\",\"type\":\"Title\"},\"toolbar\":{\"id\":\"4858\",\"type\":\"Toolbar\"},\"toolbar_location\":null,\"x_range\":{\"id\":\"4840\",\"type\":\"DataRange1d\"},\"x_scale\":{\"id\":\"4844\",\"type\":\"LinearScale\"},\"y_range\":{\"id\":\"4842\",\"type\":\"DataRange1d\"},\"y_scale\":{\"id\":\"4846\",\"type\":\"LinearScale\"}},\"id\":\"4837\",\"subtype\":\"Figure\",\"type\":\"Plot\"},{\"attributes\":{},\"id\":\"4942\",\"type\":\"BasicTickFormatter\"},{\"attributes\":{\"callback\":null,\"mode\":\"vline\",\"tooltips\":[[\"Bin\",\"@intervals\"],[\"Frequency\",\"@freq\"],[\"Percent\",\"@pct{0.2f}%\"]]},\"id\":\"4769\",\"type\":\"HoverTool\"},{\"attributes\":{},\"id\":\"4956\",\"type\":\"BasicTickFormatter\"},{\"attributes\":{\"bottom\":{\"value\":0.01},\"fill_alpha\":{\"value\":0.5},\"fill_color\":{\"value\":\"#6baed6\"},\"left\":{\"field\":\"left\"},\"line_alpha\":{\"value\":0.5},\"line_color\":{\"value\":\"#1f77b4\"},\"right\":{\"field\":\"right\"},\"top\":{\"field\":\"freq\"}},\"id\":\"4893\",\"type\":\"Quad\"},{\"attributes\":{},\"id\":\"4999\",\"type\":\"BasicTickFormatter\"},{\"attributes\":{\"text\":\"age\",\"text_font_size\":{\"value\":\"10pt\"}},\"id\":\"4646\",\"type\":\"Title\"},{\"attributes\":{},\"id\":\"4943\",\"type\":\"BasicTickFormatter\"},{\"attributes\":{},\"id\":\"5000\",\"type\":\"UnionRenderers\"},{\"attributes\":{\"axis_label\":\"Frequency\",\"formatter\":{\"id\":\"4942\",\"type\":\"BasicTickFormatter\"},\"major_label_text_font_size\":{\"value\":\"0pt\"},\"major_tick_line_color\":{\"value\":null},\"minor_tick_line_color\":{\"value\":null},\"ticker\":{\"id\":\"4662\",\"type\":\"BasicTicker\"}},\"id\":\"4661\",\"type\":\"LinearAxis\"},{\"attributes\":{},\"id\":\"4944\",\"type\":\"UnionRenderers\"},{\"attributes\":{\"grid_line_color\":null,\"ticker\":{\"id\":\"4625\",\"type\":\"BasicTicker\"}},\"id\":\"4628\",\"type\":\"Grid\"},{\"attributes\":{\"active_drag\":\"auto\",\"active_inspect\":\"auto\",\"active_multi\":null,\"active_scroll\":\"auto\",\"active_tap\":\"auto\",\"tools\":[{\"id\":\"4737\",\"type\":\"HoverTool\"}]},\"id\":\"4730\",\"type\":\"Toolbar\"},{\"attributes\":{\"callback\":null,\"mode\":\"vline\",\"tooltips\":[[\"Bin\",\"@intervals\"],[\"Frequency\",\"@freq\"],[\"Percent\",\"@pct{0.2f}%\"]]},\"id\":\"4929\",\"type\":\"HoverTool\"},{\"attributes\":{},\"id\":\"5001\",\"type\":\"Selection\"},{\"attributes\":{\"callback\":null},\"id\":\"4618\",\"type\":\"DataRange1d\"},{\"attributes\":{},\"id\":\"4657\",\"type\":\"BasicTicker\"},{\"attributes\":{},\"id\":\"4945\",\"type\":\"Selection\"},{\"attributes\":{\"formatter\":{\"id\":\"4964\",\"type\":\"BasicTickFormatter\"},\"major_label_orientation\":1.0471975511965976,\"major_label_text_font_size\":{\"value\":\"9pt\"},\"minor_tick_line_color\":{\"value\":null},\"ticker\":{\"id\":\"4771\",\"type\":\"FixedTicker\"}},\"id\":\"4752\",\"type\":\"LinearAxis\"},{\"attributes\":{\"bottom\":{\"value\":0.01},\"fill_alpha\":{\"value\":0.5},\"fill_color\":{\"value\":\"#6baed6\"},\"left\":{\"field\":\"left\"},\"line_alpha\":{\"value\":0.5},\"line_color\":{\"value\":\"#1f77b4\"},\"right\":{\"field\":\"right\"},\"top\":{\"field\":\"freq\"}},\"id\":\"4861\",\"type\":\"Quad\"},{\"attributes\":{\"below\":[{\"id\":\"4880\",\"type\":\"LinearAxis\"}],\"center\":[{\"id\":\"4884\",\"type\":\"Grid\"},{\"id\":\"4889\",\"type\":\"Grid\"}],\"left\":[{\"id\":\"4885\",\"type\":\"LinearAxis\"}],\"plot_height\":300,\"plot_width\":324,\"renderers\":[{\"id\":\"4895\",\"type\":\"GlyphRenderer\"}],\"title\":{\"id\":\"4870\",\"type\":\"Title\"},\"toolbar\":{\"id\":\"4890\",\"type\":\"Toolbar\"},\"toolbar_location\":null,\"x_range\":{\"id\":\"4872\",\"type\":\"DataRange1d\"},\"x_scale\":{\"id\":\"4876\",\"type\":\"LinearScale\"},\"y_range\":{\"id\":\"4874\",\"type\":\"DataRange1d\"},\"y_scale\":{\"id\":\"4878\",\"type\":\"LinearScale\"}},\"id\":\"4869\",\"subtype\":\"Figure\",\"type\":\"Plot\"},{\"attributes\":{\"text\":\"re75\",\"text_font_size\":{\"value\":\"10pt\"}},\"id\":\"4870\",\"type\":\"Title\"},{\"attributes\":{},\"id\":\"4949\",\"type\":\"BasicTickFormatter\"},{\"attributes\":{\"callback\":null,\"data\":{\"freq\":[388,59,56,46,28,17,10,9,0,1],\"index\":[0,1,2,3,4,5,6,7,8,9],\"intervals\":[\"[0.0,3504.007)\",\"[3504.007,7008.014)\",\"[7008.014,10512.021)\",\"[10512.021,14016.028)\",\"[14016.028,17520.035)\",\"[17520.035,21024.042)\",\"[21024.042,24528.049)\",\"[24528.049,28032.056)\",\"[28032.056,31536.063)\",\"[31536.063,35040.07]\"],\"left\":{\"__ndarray__\":\"AAAAAAAAAAAlBoGVA2CrQCUGgZUDYLtAnMQgsAKIxEAlBoGVA2DLQNejcD0CHNFAnMQgsAKI1EBg5dAiA/TXQCUGgZUDYNtA6iYxCATM3kA=\",\"dtype\":\"float64\",\"shape\":[10]},\"pct\":{\"__ndarray__\":\"TdHnbpmYT0CWhBul3jcjQFLqffO0PSJAhyXhRqn3HUBS6n3ztD0SQGNT9LlbJgZAdbxqgAIP+j9pdsam6HP3PwAAAAAAAAAAXjAizc7YxD8=\",\"dtype\":\"float64\",\"shape\":[10]},\"right\":{\"__ndarray__\":\"JQaBlQNgq0AlBoGVA2C7QJzEILACiMRAJQaBlQNgy0DXo3A9AhzRQJzEILACiNRAYOXQIgP010AlBoGVA2DbQOomMQgEzN5A16NwPQIc4UA=\",\"dtype\":\"float64\",\"shape\":[10]}},\"selected\":{\"id\":\"4987\",\"type\":\"Selection\"},\"selection_policy\":{\"id\":\"4986\",\"type\":\"UnionRenderers\"}},\"id\":\"4859\",\"type\":\"ColumnDataSource\"},{\"attributes\":{\"callback\":null,\"mode\":\"vline\",\"tooltips\":[[\"Bin\",\"@intervals\"],[\"Frequency\",\"@freq\"],[\"Percent\",\"@pct{0.2f}%\"]]},\"id\":\"4705\",\"type\":\"HoverTool\"},{\"attributes\":{},\"id\":\"4950\",\"type\":\"BasicTickFormatter\"},{\"attributes\":{\"callback\":null},\"id\":\"4648\",\"type\":\"DataRange1d\"},{\"attributes\":{\"callback\":null},\"id\":\"4810\",\"type\":\"DataRange1d\"},{\"attributes\":{\"bottom\":{\"value\":0.01},\"fill_alpha\":{\"value\":0.1},\"fill_color\":{\"value\":\"#1f77b4\"},\"left\":{\"field\":\"left\"},\"line_alpha\":{\"value\":0.1},\"line_color\":{\"value\":\"#1f77b4\"},\"right\":{\"field\":\"right\"},\"top\":{\"field\":\"freq\"}},\"id\":\"4734\",\"type\":\"Quad\"},{\"attributes\":{},\"id\":\"4753\",\"type\":\"BasicTicker\"},{\"attributes\":{\"axis_label\":\"Frequency\",\"formatter\":{\"id\":\"4935\",\"type\":\"BasicTickFormatter\"},\"major_label_text_font_size\":{\"value\":\"0pt\"},\"major_tick_line_color\":{\"value\":null},\"minor_tick_line_color\":{\"value\":null},\"ticker\":{\"id\":\"4630\",\"type\":\"BasicTicker\"}},\"id\":\"4629\",\"type\":\"LinearAxis\"},{\"attributes\":{},\"id\":\"4748\",\"type\":\"LinearScale\"},{\"attributes\":{},\"id\":\"4694\",\"type\":\"BasicTicker\"},{\"attributes\":{},\"id\":\"4951\",\"type\":\"UnionRenderers\"},{\"attributes\":{\"callback\":null},\"id\":\"4776\",\"type\":\"DataRange1d\"},{\"attributes\":{\"data_source\":{\"id\":\"4827\",\"type\":\"ColumnDataSource\"},\"glyph\":{\"id\":\"4829\",\"type\":\"Quad\"},\"hover_glyph\":null,\"muted_glyph\":null,\"nonselection_glyph\":{\"id\":\"4830\",\"type\":\"Quad\"},\"selection_glyph\":null,\"view\":{\"id\":\"4832\",\"type\":\"CDSView\"}},\"id\":\"4831\",\"type\":\"GlyphRenderer\"},{\"attributes\":{},\"id\":\"4952\",\"type\":\"Selection\"},{\"attributes\":{\"axis_label\":\"Frequency\",\"formatter\":{\"id\":\"4963\",\"type\":\"BasicTickFormatter\"},\"major_label_text_font_size\":{\"value\":\"0pt\"},\"major_tick_line_color\":{\"value\":null},\"minor_tick_line_color\":{\"value\":null},\"ticker\":{\"id\":\"4758\",\"type\":\"BasicTicker\"}},\"id\":\"4757\",\"type\":\"LinearAxis\"},{\"attributes\":{\"data_source\":{\"id\":\"4795\",\"type\":\"ColumnDataSource\"},\"glyph\":{\"id\":\"4797\",\"type\":\"Quad\"},\"hover_glyph\":null,\"muted_glyph\":null,\"nonselection_glyph\":{\"id\":\"4798\",\"type\":\"Quad\"},\"selection_glyph\":null,\"view\":{\"id\":\"4800\",\"type\":\"CDSView\"}},\"id\":\"4799\",\"type\":\"GlyphRenderer\"},{\"attributes\":{\"callback\":null},\"id\":\"4904\",\"type\":\"DataRange1d\"},{\"attributes\":{},\"id\":\"4726\",\"type\":\"BasicTicker\"},{\"attributes\":{\"text\":\"nodegree\",\"text_font_size\":{\"value\":\"10pt\"}},\"id\":\"4806\",\"type\":\"Title\"},{\"attributes\":{},\"id\":\"4721\",\"type\":\"BasicTicker\"},{\"attributes\":{},\"id\":\"4957\",\"type\":\"BasicTickFormatter\"},{\"attributes\":{\"ticks\":[0.0,3504.007,7008.014,10512.021,14016.028,17520.035,21024.042,24528.049,28032.056,31536.063000000002,35040.07]},\"id\":\"4867\",\"type\":\"FixedTicker\"},{\"attributes\":{},\"id\":\"4654\",\"type\":\"LinearScale\"},{\"attributes\":{},\"id\":\"4716\",\"type\":\"LinearScale\"},{\"attributes\":{\"ticks\":[0.0,0.1,0.2,0.30000000000000004,0.4,0.5,0.6000000000000001,0.7000000000000001,0.8,0.9,1.0]},\"id\":\"4835\",\"type\":\"FixedTicker\"},{\"attributes\":{\"bottom\":{\"value\":0.01},\"fill_alpha\":{\"value\":0.5},\"fill_color\":{\"value\":\"#6baed6\"},\"left\":{\"field\":\"left\"},\"line_alpha\":{\"value\":0.5},\"line_color\":{\"value\":\"#1f77b4\"},\"right\":{\"field\":\"right\"},\"top\":{\"field\":\"freq\"}},\"id\":\"4637\",\"type\":\"Quad\"},{\"attributes\":{},\"id\":\"4958\",\"type\":\"UnionRenderers\"},{\"attributes\":{\"callback\":null,\"mode\":\"vline\",\"tooltips\":[[\"Bin\",\"@intervals\"],[\"Frequency\",\"@freq\"],[\"Percent\",\"@pct{0.2f}%\"]]},\"id\":\"4673\",\"type\":\"HoverTool\"},{\"attributes\":{},\"id\":\"4959\",\"type\":\"Selection\"},{\"attributes\":{},\"id\":\"4718\",\"type\":\"LinearScale\"},{\"attributes\":{\"grid_line_color\":null,\"ticker\":{\"id\":\"4753\",\"type\":\"BasicTicker\"}},\"id\":\"4756\",\"type\":\"Grid\"},{\"attributes\":{\"formatter\":{\"id\":\"4936\",\"type\":\"BasicTickFormatter\"},\"major_label_orientation\":1.0471975511965976,\"major_label_text_font_size\":{\"value\":\"9pt\"},\"minor_tick_line_color\":{\"value\":null},\"ticker\":{\"id\":\"4643\",\"type\":\"FixedTicker\"}},\"id\":\"4624\",\"type\":\"LinearAxis\"},{\"attributes\":{\"dimension\":1,\"grid_line_color\":null,\"ticker\":{\"id\":\"4662\",\"type\":\"BasicTicker\"}},\"id\":\"4665\",\"type\":\"Grid\"},{\"attributes\":{\"formatter\":{\"id\":\"4957\",\"type\":\"BasicTickFormatter\"},\"major_label_orientation\":1.0471975511965976,\"major_label_text_font_size\":{\"value\":\"9pt\"},\"minor_tick_line_color\":{\"value\":null},\"ticker\":{\"id\":\"4739\",\"type\":\"FixedTicker\"}},\"id\":\"4720\",\"type\":\"LinearAxis\"},{\"attributes\":{},\"id\":\"4963\",\"type\":\"BasicTickFormatter\"},{\"attributes\":{},\"id\":\"4878\",\"type\":\"LinearScale\"},{\"attributes\":{\"source\":{\"id\":\"4667\",\"type\":\"ColumnDataSource\"}},\"id\":\"4672\",\"type\":\"CDSView\"},{\"attributes\":{\"callback\":null,\"data\":{\"freq\":[371,0,0,0,0,0,0,0,0,243],\"index\":[0,1,2,3,4,5,6,7,8,9],\"intervals\":[\"[0.0,0.1)\",\"[0.1,0.2)\",\"[0.2,0.3)\",\"[0.3,0.4)\",\"[0.4,0.5)\",\"[0.5,0.6)\",\"[0.6,0.7)\",\"[0.7,0.8)\",\"[0.8,0.9)\",\"[0.9,1.0]\"],\"left\":{\"__ndarray__\":\"AAAAAAAAAACamZmZmZm5P5qZmZmZmck/NDMzMzMz0z+amZmZmZnZPwAAAAAAAOA/NDMzMzMz4z9nZmZmZmbmP5qZmZmZmek/zczMzMzM7D8=\",\"dtype\":\"float64\",\"shape\":[10]},\"pct\":{\"__ndarray__\":\"GIxIszM2TkAAAAAAAAAAAAAAAAAAAAAAAAAAAAAAAAAAAAAAAAAAAAAAAAAAAAAAAAAAAAAAAAAAAAAAAAAAAAAAAAAAAAAA6XO3TMzJQ0A=\",\"dtype\":\"float64\",\"shape\":[10]},\"right\":{\"__ndarray__\":\"mpmZmZmZuT+amZmZmZnJPzQzMzMzM9M/mpmZmZmZ2T8AAAAAAADgPzQzMzMzM+M/Z2ZmZmZm5j+amZmZmZnpP83MzMzMzOw/AAAAAAAA8D8=\",\"dtype\":\"float64\",\"shape\":[10]}},\"selected\":{\"id\":\"4959\",\"type\":\"Selection\"},\"selection_policy\":{\"id\":\"4958\",\"type\":\"UnionRenderers\"}},\"id\":\"4731\",\"type\":\"ColumnDataSource\"},{\"attributes\":{\"bottom\":{\"value\":0.01},\"fill_alpha\":{\"value\":0.1},\"fill_color\":{\"value\":\"#1f77b4\"},\"left\":{\"field\":\"left\"},\"line_alpha\":{\"value\":0.1},\"line_color\":{\"value\":\"#1f77b4\"},\"right\":{\"field\":\"right\"},\"top\":{\"field\":\"freq\"}},\"id\":\"4830\",\"type\":\"Quad\"},{\"attributes\":{\"ticks\":[0.0,1.8,3.6,5.4,7.2,9.0,10.8,12.6,14.4,16.2,18.0]},\"id\":\"4707\",\"type\":\"FixedTicker\"},{\"attributes\":{},\"id\":\"4964\",\"type\":\"BasicTickFormatter\"},{\"attributes\":{},\"id\":\"4758\",\"type\":\"BasicTicker\"},{\"attributes\":{\"formatter\":{\"id\":\"4943\",\"type\":\"BasicTickFormatter\"},\"major_label_orientation\":1.0471975511965976,\"major_label_text_font_size\":{\"value\":\"9pt\"},\"minor_tick_line_color\":{\"value\":null},\"ticker\":{\"id\":\"4675\",\"type\":\"FixedTicker\"}},\"id\":\"4656\",\"type\":\"LinearAxis\"},{\"attributes\":{\"grid_line_color\":null,\"ticker\":{\"id\":\"4721\",\"type\":\"BasicTicker\"}},\"id\":\"4724\",\"type\":\"Grid\"},{\"attributes\":{},\"id\":\"4965\",\"type\":\"UnionRenderers\"},{\"attributes\":{},\"id\":\"4652\",\"type\":\"LinearScale\"},{\"attributes\":{\"grid_line_color\":null,\"ticker\":{\"id\":\"4881\",\"type\":\"BasicTicker\"}},\"id\":\"4884\",\"type\":\"Grid\"},{\"attributes\":{\"text\":\"treat\",\"text_font_size\":{\"value\":\"10pt\"}},\"id\":\"4614\",\"type\":\"Title\"},{\"attributes\":{},\"id\":\"4966\",\"type\":\"Selection\"},{\"attributes\":{\"callback\":null,\"mode\":\"vline\",\"tooltips\":[[\"Bin\",\"@intervals\"],[\"Frequency\",\"@freq\"],[\"Percent\",\"@pct{0.2f}%\"]]},\"id\":\"4641\",\"type\":\"HoverTool\"},{\"attributes\":{\"source\":{\"id\":\"4827\",\"type\":\"ColumnDataSource\"}},\"id\":\"4832\",\"type\":\"CDSView\"},{\"attributes\":{\"callback\":null,\"data\":{\"freq\":[421,97,53,19,14,5,1,3,0,1],\"index\":[0,1,2,3,4,5,6,7,8,9],\"intervals\":[\"[0.0,2514.224)\",\"[2514.224,5028.448)\",\"[5028.448,7542.672)\",\"[7542.672,10056.896)\",\"[10056.896,12571.12)\",\"[12571.12,15085.344)\",\"[15085.344,17599.568)\",\"[17599.568,20113.792)\",\"[20113.792,22628.016)\",\"[22628.016,25142.24]\"],\"left\":{\"__ndarray__\":\"AAAAAAAAAACcxCCwcqSjQJzEILBypLNA6iYxCKx2vUCcxCCwcqTDQMP1KFyPjchA6iYxCKx2zUAIrBxa5C/RQJzEILBypNNAMN0kBgEZ1kA=\",\"dtype\":\"float64\",\"shape\":[10]},\"pct\":{\"__ndarray__\":\"xZysC0YkUUBN0edumZgvQA1Q4EGLQyFAb5mYk3XBCEBS6n3ztD0CQHW8aoACD+o/XjAizc7YxD+LSLMzNkXfPwAAAAAAAAAAXjAizc7YxD8=\",\"dtype\":\"float64\",\"shape\":[10]},\"right\":{\"__ndarray__\":\"nMQgsHKko0CcxCCwcqSzQOomMQisdr1AnMQgsHKkw0DD9Shcj43IQOomMQisds1ACKwcWuQv0UCcxCCwcqTTQDDdJAYBGdZAw/UoXI+N2EA=\",\"dtype\":\"float64\",\"shape\":[10]}},\"selected\":{\"id\":\"4994\",\"type\":\"Selection\"},\"selection_policy\":{\"id\":\"4993\",\"type\":\"UnionRenderers\"}},\"id\":\"4891\",\"type\":\"ColumnDataSource\"},{\"attributes\":{},\"id\":\"4910\",\"type\":\"LinearScale\"},{\"attributes\":{\"callback\":null,\"data\":{\"freq\":[429,0,0,0,0,0,0,0,0,185],\"index\":[0,1,2,3,4,5,6,7,8,9],\"intervals\":[\"[0.0,0.1)\",\"[0.1,0.2)\",\"[0.2,0.3)\",\"[0.3,0.4)\",\"[0.4,0.5)\",\"[0.5,0.6)\",\"[0.6,0.7)\",\"[0.7,0.8)\",\"[0.8,0.9)\",\"[0.9,1.0]\"],\"left\":{\"__ndarray__\":\"AAAAAAAAAACamZmZmZm5P5qZmZmZmck/NDMzMzMz0z+amZmZmZnZPwAAAAAAAOA/NDMzMzMz4z9nZmZmZmbmP5qZmZmZmek/zczMzMzM7D8=\",\"dtype\":\"float64\",\"shape\":[10]},\"pct\":{\"__ndarray__\":\"hiXhRql3UUAAAAAAAAAAAAAAAAAAAAAAAAAAAAAAAAAAAAAAAAAAAAAAAAAAAAAAAAAAAAAAAAAAAAAAAAAAAAAAAAAAAAAA6Gl75FohPkA=\",\"dtype\":\"float64\",\"shape\":[10]},\"right\":{\"__ndarray__\":\"mpmZmZmZuT+amZmZmZnJPzQzMzMzM9M/mpmZmZmZ2T8AAAAAAADgPzQzMzMzM+M/Z2ZmZmZm5j+amZmZmZnpP83MzMzMzOw/AAAAAAAA8D8=\",\"dtype\":\"float64\",\"shape\":[10]}},\"selected\":{\"id\":\"4938\",\"type\":\"Selection\"},\"selection_policy\":{\"id\":\"4937\",\"type\":\"UnionRenderers\"}},\"id\":\"4635\",\"type\":\"ColumnDataSource\"},{\"attributes\":{\"callback\":null,\"data\":{\"freq\":[153,124,113,62,35,35,34,23,20,15],\"index\":[0,1,2,3,4,5,6,7,8,9],\"intervals\":[\"[16.0,19.9)\",\"[19.9,23.8)\",\"[23.8,27.7)\",\"[27.7,31.6)\",\"[31.6,35.5)\",\"[35.5,39.4)\",\"[39.4,43.3)\",\"[43.3,47.2)\",\"[47.2,51.1)\",\"[51.1,55.0]\"],\"left\":{\"__ndarray__\":\"AAAAAAAAMEBmZmZmZuYzQM3MzMzMzDdAMzMzMzOzO0CamZmZmZk/QAAAAAAAwEFAMzMzMzOzQ0BmZmZmZqZFQJqZmZmZmUdAzczMzMyMSUA=\",\"dtype\":\"float64\",\"shape\":[10]},\"pct\":{\"__ndarray__\":\"0N0yMSfrOEDbHrlWCDI0QLIuGJFmZzJA2x65VggyJEDmZF0wIs0WQOZkXTAizRZAY1P0uVsmFkCHJeFGqfcNQHW8aoACDwpAWA1Q4EGLA0A=\",\"dtype\":\"float64\",\"shape\":[10]},\"right\":{\"__ndarray__\":\"ZmZmZmbmM0DNzMzMzMw3QDMzMzMzsztAmpmZmZmZP0AAAAAAAMBBQDMzMzMzs0NAZmZmZmamRUCamZmZmZlHQM3MzMzMjElAAAAAAACAS0A=\",\"dtype\":\"float64\",\"shape\":[10]}},\"selected\":{\"id\":\"4945\",\"type\":\"Selection\"},\"selection_policy\":{\"id\":\"4944\",\"type\":\"UnionRenderers\"}},\"id\":\"4667\",\"type\":\"ColumnDataSource\"},{\"attributes\":{},\"id\":\"4970\",\"type\":\"BasicTickFormatter\"},{\"attributes\":{},\"id\":\"4876\",\"type\":\"LinearScale\"},{\"attributes\":{\"bottom\":{\"value\":0.01},\"fill_alpha\":{\"value\":0.1},\"fill_color\":{\"value\":\"#1f77b4\"},\"left\":{\"field\":\"left\"},\"line_alpha\":{\"value\":0.1},\"line_color\":{\"value\":\"#1f77b4\"},\"right\":{\"field\":\"right\"},\"top\":{\"field\":\"freq\"}},\"id\":\"4670\",\"type\":\"Quad\"},{\"attributes\":{\"dimension\":1,\"grid_line_color\":null,\"ticker\":{\"id\":\"4694\",\"type\":\"BasicTicker\"}},\"id\":\"4697\",\"type\":\"Grid\"},{\"attributes\":{\"axis_label\":\"Frequency\",\"formatter\":{\"id\":\"4956\",\"type\":\"BasicTickFormatter\"},\"major_label_text_font_size\":{\"value\":\"0pt\"},\"major_tick_line_color\":{\"value\":null},\"minor_tick_line_color\":{\"value\":null},\"ticker\":{\"id\":\"4726\",\"type\":\"BasicTicker\"}},\"id\":\"4725\",\"type\":\"LinearAxis\"},{\"attributes\":{\"callback\":null},\"id\":\"4872\",\"type\":\"DataRange1d\"},{\"attributes\":{\"ticks\":[0.0,0.1,0.2,0.30000000000000004,0.4,0.5,0.6000000000000001,0.7000000000000001,0.8,0.9,1.0]},\"id\":\"4803\",\"type\":\"FixedTicker\"},{\"attributes\":{},\"id\":\"4971\",\"type\":\"BasicTickFormatter\"},{\"attributes\":{\"formatter\":{\"id\":\"4950\",\"type\":\"BasicTickFormatter\"},\"major_label_orientation\":1.0471975511965976,\"major_label_text_font_size\":{\"value\":\"9pt\"},\"minor_tick_line_color\":{\"value\":null},\"ticker\":{\"id\":\"4707\",\"type\":\"FixedTicker\"}},\"id\":\"4688\",\"type\":\"LinearAxis\"},{\"attributes\":{\"callback\":null,\"mode\":\"vline\",\"tooltips\":[[\"Bin\",\"@intervals\"],[\"Frequency\",\"@freq\"],[\"Percent\",\"@pct{0.2f}%\"]]},\"id\":\"4833\",\"type\":\"HoverTool\"},{\"attributes\":{\"dimension\":1,\"grid_line_color\":null,\"ticker\":{\"id\":\"4726\",\"type\":\"BasicTicker\"}},\"id\":\"4729\",\"type\":\"Grid\"},{\"attributes\":{\"callback\":null},\"id\":\"4874\",\"type\":\"DataRange1d\"},{\"attributes\":{},\"id\":\"4972\",\"type\":\"UnionRenderers\"},{\"attributes\":{\"source\":{\"id\":\"4795\",\"type\":\"ColumnDataSource\"}},\"id\":\"4800\",\"type\":\"CDSView\"},{\"attributes\":{},\"id\":\"4973\",\"type\":\"Selection\"},{\"attributes\":{\"below\":[{\"id\":\"4816\",\"type\":\"LinearAxis\"}],\"center\":[{\"id\":\"4820\",\"type\":\"Grid\"},{\"id\":\"4825\",\"type\":\"Grid\"}],\"left\":[{\"id\":\"4821\",\"type\":\"LinearAxis\"}],\"plot_height\":300,\"plot_width\":324,\"renderers\":[{\"id\":\"4831\",\"type\":\"GlyphRenderer\"}],\"title\":{\"id\":\"4806\",\"type\":\"Title\"},\"toolbar\":{\"id\":\"4826\",\"type\":\"Toolbar\"},\"toolbar_location\":null,\"x_range\":{\"id\":\"4808\",\"type\":\"DataRange1d\"},\"x_scale\":{\"id\":\"4812\",\"type\":\"LinearScale\"},\"y_range\":{\"id\":\"4810\",\"type\":\"DataRange1d\"},\"y_scale\":{\"id\":\"4814\",\"type\":\"LinearScale\"}},\"id\":\"4805\",\"subtype\":\"Figure\",\"type\":\"Plot\"},{\"attributes\":{},\"id\":\"4977\",\"type\":\"BasicTickFormatter\"},{\"attributes\":{\"active_drag\":\"auto\",\"active_inspect\":\"auto\",\"active_multi\":null,\"active_scroll\":\"auto\",\"active_tap\":\"auto\",\"tools\":[{\"id\":\"4673\",\"type\":\"HoverTool\"}]},\"id\":\"4666\",\"type\":\"Toolbar\"},{\"attributes\":{},\"id\":\"4684\",\"type\":\"LinearScale\"},{\"attributes\":{\"text\":\"educ\",\"text_font_size\":{\"value\":\"10pt\"}},\"id\":\"4678\",\"type\":\"Title\"},{\"attributes\":{},\"id\":\"4750\",\"type\":\"LinearScale\"},{\"attributes\":{},\"id\":\"4662\",\"type\":\"BasicTicker\"},{\"attributes\":{},\"id\":\"4978\",\"type\":\"BasicTickFormatter\"},{\"attributes\":{},\"id\":\"4998\",\"type\":\"BasicTickFormatter\"},{\"attributes\":{\"data_source\":{\"id\":\"4667\",\"type\":\"ColumnDataSource\"},\"glyph\":{\"id\":\"4669\",\"type\":\"Quad\"},\"hover_glyph\":null,\"muted_glyph\":null,\"nonselection_glyph\":{\"id\":\"4670\",\"type\":\"Quad\"},\"selection_glyph\":null,\"view\":{\"id\":\"4672\",\"type\":\"CDSView\"}},\"id\":\"4671\",\"type\":\"GlyphRenderer\"},{\"attributes\":{\"source\":{\"id\":\"4699\",\"type\":\"ColumnDataSource\"}},\"id\":\"4704\",\"type\":\"CDSView\"},{\"attributes\":{\"ticks\":[0.0,0.1,0.2,0.30000000000000004,0.4,0.5,0.6000000000000001,0.7000000000000001,0.8,0.9,1.0]},\"id\":\"4771\",\"type\":\"FixedTicker\"},{\"attributes\":{},\"id\":\"4979\",\"type\":\"UnionRenderers\"},{\"attributes\":{},\"id\":\"4980\",\"type\":\"Selection\"},{\"attributes\":{\"callback\":null,\"mode\":\"vline\",\"tooltips\":[[\"Bin\",\"@intervals\"],[\"Frequency\",\"@freq\"],[\"Percent\",\"@pct{0.2f}%\"]]},\"id\":\"4897\",\"type\":\"HoverTool\"},{\"attributes\":{\"callback\":null,\"data\":{\"freq\":[341,138,76,36,20,1,1,0,0,1],\"index\":[0,1,2,3,4,5,6,7,8,9],\"intervals\":[\"[0.0,6030.793)\",\"[6030.793,12061.586)\",\"[12061.586,18092.379)\",\"[18092.379,24123.172)\",\"[24123.172,30153.965)\",\"[30153.965,36184.758)\",\"[36184.758,42215.551)\",\"[42215.551,48246.344)\",\"[48246.344,54277.137)\",\"[54277.137,60307.93]\"],\"left\":{\"__ndarray__\":\"AAAAAAAAAAC6SQwCy463QLpJDALLjsdATDeJQRir0UC6SQwCy47XQChcj8J9ct1ATDeJQRir4UCDwMqh8ZzkQLpJDALLjudA8dJNYqSA6kA=\",\"dtype\":\"float64\",\"shape\":[10]},\"pct\":{\"__ndarray__\":\"bYo+d8vES0Ak3Cj1vnk2QG+ZmJN1wShAaXbGpuhzF0B1vGqAAg8KQF4wIs3O2MQ/XjAizc7YxD8AAAAAAAAAAAAAAAAAAAAAXjAizc7YxD8=\",\"dtype\":\"float64\",\"shape\":[10]},\"right\":{\"__ndarray__\":\"ukkMAsuOt0C6SQwCy47HQEw3iUEYq9FAukkMAsuO10AoXI/CfXLdQEw3iUEYq+FAg8DKofGc5EC6SQwCy47nQPHSTWKkgOpAKVyPwn1y7UA=\",\"dtype\":\"float64\",\"shape\":[10]}},\"selected\":{\"id\":\"5001\",\"type\":\"Selection\"},\"selection_policy\":{\"id\":\"5000\",\"type\":\"UnionRenderers\"}},\"id\":\"4923\",\"type\":\"ColumnDataSource\"},{\"attributes\":{\"callback\":null},\"id\":\"4616\",\"type\":\"DataRange1d\"},{\"attributes\":{\"callback\":null},\"id\":\"4712\",\"type\":\"DataRange1d\"},{\"attributes\":{\"grid_line_color\":null,\"ticker\":{\"id\":\"4817\",\"type\":\"BasicTicker\"}},\"id\":\"4820\",\"type\":\"Grid\"},{\"attributes\":{\"dimension\":1,\"grid_line_color\":null,\"ticker\":{\"id\":\"4758\",\"type\":\"BasicTicker\"}},\"id\":\"4761\",\"type\":\"Grid\"},{\"attributes\":{\"formatter\":{\"id\":\"4985\",\"type\":\"BasicTickFormatter\"},\"major_label_orientation\":1.0471975511965976,\"major_label_text_font_size\":{\"value\":\"9pt\"},\"minor_tick_line_color\":{\"value\":null},\"ticker\":{\"id\":\"4867\",\"type\":\"FixedTicker\"}},\"id\":\"4848\",\"type\":\"LinearAxis\"},{\"attributes\":{\"dimension\":1,\"grid_line_color\":null,\"ticker\":{\"id\":\"4886\",\"type\":\"BasicTicker\"}},\"id\":\"4889\",\"type\":\"Grid\"},{\"attributes\":{},\"id\":\"4814\",\"type\":\"LinearScale\"},{\"attributes\":{\"callback\":null,\"data\":{\"freq\":[5,7,21,39,62,158,252,48,18,4],\"index\":[0,1,2,3,4,5,6,7,8,9],\"intervals\":[\"[0.0,1.8)\",\"[1.8,3.6)\",\"[3.6,5.4)\",\"[5.4,7.2)\",\"[7.2,9.0)\",\"[9.0,10.8)\",\"[10.8,12.6)\",\"[12.6,14.4)\",\"[14.4,16.2)\",\"[16.2,18.0]\"],\"left\":{\"__ndarray__\":\"AAAAAAAAAADNzMzMzMz8P83MzMzMzAxAmpmZmZmZFUDNzMzMzMwcQAAAAAAAACJAmpmZmZmZJUAzMzMzMzMpQM3MzMzMzCxAMzMzMzMzMEA=\",\"dtype\":\"float64\",\"shape\":[10]},\"pct\":{\"__ndarray__\":\"dbxqgAIP6j9S6n3ztD3yP3vfPG2PXAtA8qoBCjxoGUDbHrlWCDIkQLMzNkWfuzlAnKftkWuFRECLSLMzNkUfQGl2xqbocwdAXjAizc7Y5D8=\",\"dtype\":\"float64\",\"shape\":[10]},\"right\":{\"__ndarray__\":\"zczMzMzM/D/NzMzMzMwMQJqZmZmZmRVAzczMzMzMHEAAAAAAAAAiQJqZmZmZmSVAMzMzMzMzKUDNzMzMzMwsQDMzMzMzMzBAAAAAAAAAMkA=\",\"dtype\":\"float64\",\"shape\":[10]}},\"selected\":{\"id\":\"4952\",\"type\":\"Selection\"},\"selection_policy\":{\"id\":\"4951\",\"type\":\"UnionRenderers\"}},\"id\":\"4699\",\"type\":\"ColumnDataSource\"},{\"attributes\":{\"active_drag\":\"auto\",\"active_inspect\":\"auto\",\"active_multi\":null,\"active_scroll\":\"auto\",\"active_tap\":\"auto\",\"tools\":[{\"id\":\"4897\",\"type\":\"HoverTool\"}]},\"id\":\"4890\",\"type\":\"Toolbar\"},{\"attributes\":{\"callback\":null,\"data\":{\"freq\":[542,0,0,0,0,0,0,0,0,72],\"index\":[0,1,2,3,4,5,6,7,8,9],\"intervals\":[\"[0.0,0.1)\",\"[0.1,0.2)\",\"[0.2,0.3)\",\"[0.3,0.4)\",\"[0.4,0.5)\",\"[0.5,0.6)\",\"[0.6,0.7)\",\"[0.7,0.8)\",\"[0.8,0.9)\",\"[0.9,1.0]\"],\"left\":{\"__ndarray__\":\"AAAAAAAAAACamZmZmZm5P5qZmZmZmck/NDMzMzMz0z+amZmZmZnZPwAAAAAAAOA/NDMzMzMz4z9nZmZmZmbmP5qZmZmZmek/zczMzMzM7D8=\",\"dtype\":\"float64\",\"shape\":[10]},\"pct\":{\"__ndarray__\":\"MjEn64IRVkAAAAAAAAAAAAAAAAAAAAAAAAAAAAAAAAAAAAAAAAAAAAAAAAAAAAAAAAAAAAAAAAAAAAAAAAAAAAAAAAAAAAAAaXbGpuhzJ0A=\",\"dtype\":\"float64\",\"shape\":[10]},\"right\":{\"__ndarray__\":\"mpmZmZmZuT+amZmZmZnJPzQzMzMzM9M/mpmZmZmZ2T8AAAAAAADgPzQzMzMzM+M/Z2ZmZmZm5j+amZmZmZnpP83MzMzMzOw/AAAAAAAA8D8=\",\"dtype\":\"float64\",\"shape\":[10]}},\"selected\":{\"id\":\"4966\",\"type\":\"Selection\"},\"selection_policy\":{\"id\":\"4965\",\"type\":\"UnionRenderers\"}},\"id\":\"4763\",\"type\":\"ColumnDataSource\"},{\"attributes\":{\"source\":{\"id\":\"4891\",\"type\":\"ColumnDataSource\"}},\"id\":\"4896\",\"type\":\"CDSView\"},{\"attributes\":{\"grid_line_color\":null,\"ticker\":{\"id\":\"4689\",\"type\":\"BasicTicker\"}},\"id\":\"4692\",\"type\":\"Grid\"},{\"attributes\":{\"source\":{\"id\":\"4763\",\"type\":\"ColumnDataSource\"}},\"id\":\"4768\",\"type\":\"CDSView\"},{\"attributes\":{},\"id\":\"4886\",\"type\":\"BasicTicker\"},{\"attributes\":{\"data_source\":{\"id\":\"4891\",\"type\":\"ColumnDataSource\"},\"glyph\":{\"id\":\"4893\",\"type\":\"Quad\"},\"hover_glyph\":null,\"muted_glyph\":null,\"nonselection_glyph\":{\"id\":\"4894\",\"type\":\"Quad\"},\"selection_glyph\":null,\"view\":{\"id\":\"4896\",\"type\":\"CDSView\"}},\"id\":\"4895\",\"type\":\"GlyphRenderer\"},{\"attributes\":{\"callback\":null},\"id\":\"4906\",\"type\":\"DataRange1d\"},{\"attributes\":{},\"id\":\"4790\",\"type\":\"BasicTicker\"},{\"attributes\":{\"axis_label\":\"Frequency\",\"formatter\":{\"id\":\"4984\",\"type\":\"BasicTickFormatter\"},\"major_label_text_font_size\":{\"value\":\"0pt\"},\"major_tick_line_color\":{\"value\":null},\"minor_tick_line_color\":{\"value\":null},\"ticker\":{\"id\":\"4854\",\"type\":\"BasicTicker\"}},\"id\":\"4853\",\"type\":\"LinearAxis\"},{\"attributes\":{},\"id\":\"4625\",\"type\":\"BasicTicker\"},{\"attributes\":{\"callback\":null},\"id\":\"4840\",\"type\":\"DataRange1d\"},{\"attributes\":{\"source\":{\"id\":\"4731\",\"type\":\"ColumnDataSource\"}},\"id\":\"4736\",\"type\":\"CDSView\"},{\"attributes\":{},\"id\":\"4817\",\"type\":\"BasicTicker\"},{\"attributes\":{\"formatter\":{\"id\":\"4978\",\"type\":\"BasicTickFormatter\"},\"major_label_orientation\":1.0471975511965976,\"major_label_text_font_size\":{\"value\":\"9pt\"},\"minor_tick_line_color\":{\"value\":null},\"ticker\":{\"id\":\"4835\",\"type\":\"FixedTicker\"}},\"id\":\"4816\",\"type\":\"LinearAxis\"},{\"attributes\":{\"formatter\":{\"id\":\"4992\",\"type\":\"BasicTickFormatter\"},\"major_label_orientation\":1.0471975511965976,\"major_label_text_font_size\":{\"value\":\"9pt\"},\"minor_tick_line_color\":{\"value\":null},\"ticker\":{\"id\":\"4899\",\"type\":\"FixedTicker\"}},\"id\":\"4880\",\"type\":\"LinearAxis\"},{\"attributes\":{\"bottom\":{\"value\":0.01},\"fill_alpha\":{\"value\":0.1},\"fill_color\":{\"value\":\"#1f77b4\"},\"left\":{\"field\":\"left\"},\"line_alpha\":{\"value\":0.1},\"line_color\":{\"value\":\"#1f77b4\"},\"right\":{\"field\":\"right\"},\"top\":{\"field\":\"freq\"}},\"id\":\"4894\",\"type\":\"Quad\"},{\"attributes\":{\"callback\":null},\"id\":\"4842\",\"type\":\"DataRange1d\"},{\"attributes\":{\"bottom\":{\"value\":0.01},\"fill_alpha\":{\"value\":0.1},\"fill_color\":{\"value\":\"#1f77b4\"},\"left\":{\"field\":\"left\"},\"line_alpha\":{\"value\":0.1},\"line_color\":{\"value\":\"#1f77b4\"},\"right\":{\"field\":\"right\"},\"top\":{\"field\":\"freq\"}},\"id\":\"4862\",\"type\":\"Quad\"},{\"attributes\":{\"data_source\":{\"id\":\"4859\",\"type\":\"ColumnDataSource\"},\"glyph\":{\"id\":\"4861\",\"type\":\"Quad\"},\"hover_glyph\":null,\"muted_glyph\":null,\"nonselection_glyph\":{\"id\":\"4862\",\"type\":\"Quad\"},\"selection_glyph\":null,\"view\":{\"id\":\"4864\",\"type\":\"CDSView\"}},\"id\":\"4863\",\"type\":\"GlyphRenderer\"},{\"attributes\":{},\"id\":\"4630\",\"type\":\"BasicTicker\"},{\"attributes\":{\"below\":[{\"id\":\"4656\",\"type\":\"LinearAxis\"}],\"center\":[{\"id\":\"4660\",\"type\":\"Grid\"},{\"id\":\"4665\",\"type\":\"Grid\"}],\"left\":[{\"id\":\"4661\",\"type\":\"LinearAxis\"}],\"plot_height\":300,\"plot_width\":324,\"renderers\":[{\"id\":\"4671\",\"type\":\"GlyphRenderer\"}],\"title\":{\"id\":\"4646\",\"type\":\"Title\"},\"toolbar\":{\"id\":\"4666\",\"type\":\"Toolbar\"},\"toolbar_location\":null,\"x_range\":{\"id\":\"4648\",\"type\":\"DataRange1d\"},\"x_scale\":{\"id\":\"4652\",\"type\":\"LinearScale\"},\"y_range\":{\"id\":\"4650\",\"type\":\"DataRange1d\"},\"y_scale\":{\"id\":\"4654\",\"type\":\"LinearScale\"}},\"id\":\"4645\",\"subtype\":\"Figure\",\"type\":\"Plot\"},{\"attributes\":{\"text\":\"married\",\"text_font_size\":{\"value\":\"10pt\"}},\"id\":\"4774\",\"type\":\"Title\"},{\"attributes\":{\"callback\":null,\"data\":{\"freq\":[359,0,0,0,0,0,0,0,0,255],\"index\":[0,1,2,3,4,5,6,7,8,9],\"intervals\":[\"[0.0,0.1)\",\"[0.1,0.2)\",\"[0.2,0.3)\",\"[0.3,0.4)\",\"[0.4,0.5)\",\"[0.5,0.6)\",\"[0.6,0.7)\",\"[0.7,0.8)\",\"[0.8,0.9)\",\"[0.9,1.0]\"],\"left\":{\"__ndarray__\":\"AAAAAAAAAACamZmZmZm5P5qZmZmZmck/NDMzMzMz0z+amZmZmZnZPwAAAAAAAOA/NDMzMzMz4z9nZmZmZmbmP5qZmZmZmek/zczMzMzM7D8=\",\"dtype\":\"float64\",\"shape\":[10]},\"pct\":{\"__ndarray__\":\"1PGqAQo8TUAAAAAAAAAAAAAAAAAAAAAAAAAAAAAAAAAAAAAAAAAAAAAAAAAAAAAAAAAAAAAAAAAAAAAAAAAAAAAAAAAAAAAALQ5V/vXDREA=\",\"dtype\":\"float64\",\"shape\":[10]},\"right\":{\"__ndarray__\":\"mpmZmZmZuT+amZmZmZnJPzQzMzMzM9M/mpmZmZmZ2T8AAAAAAADgPzQzMzMzM+M/Z2ZmZmZm5j+amZmZmZnpP83MzMzMzOw/AAAAAAAA8D8=\",\"dtype\":\"float64\",\"shape\":[10]}},\"selected\":{\"id\":\"4973\",\"type\":\"Selection\"},\"selection_policy\":{\"id\":\"4972\",\"type\":\"UnionRenderers\"}},\"id\":\"4795\",\"type\":\"ColumnDataSource\"},{\"attributes\":{\"callback\":null,\"mode\":\"vline\",\"tooltips\":[[\"Bin\",\"@intervals\"],[\"Frequency\",\"@freq\"],[\"Percent\",\"@pct{0.2f}%\"]]},\"id\":\"4865\",\"type\":\"HoverTool\"},{\"attributes\":{\"grid_line_color\":null,\"ticker\":{\"id\":\"4785\",\"type\":\"BasicTicker\"}},\"id\":\"4788\",\"type\":\"Grid\"},{\"attributes\":{\"bottom\":{\"value\":0.01},\"fill_alpha\":{\"value\":0.1},\"fill_color\":{\"value\":\"#1f77b4\"},\"left\":{\"field\":\"left\"},\"line_alpha\":{\"value\":0.1},\"line_color\":{\"value\":\"#1f77b4\"},\"right\":{\"field\":\"right\"},\"top\":{\"field\":\"freq\"}},\"id\":\"4926\",\"type\":\"Quad\"},{\"attributes\":{\"data_source\":{\"id\":\"4731\",\"type\":\"ColumnDataSource\"},\"glyph\":{\"id\":\"4733\",\"type\":\"Quad\"},\"hover_glyph\":null,\"muted_glyph\":null,\"nonselection_glyph\":{\"id\":\"4734\",\"type\":\"Quad\"},\"selection_glyph\":null,\"view\":{\"id\":\"4736\",\"type\":\"CDSView\"}},\"id\":\"4735\",\"type\":\"GlyphRenderer\"},{\"attributes\":{\"data_source\":{\"id\":\"4763\",\"type\":\"ColumnDataSource\"},\"glyph\":{\"id\":\"4765\",\"type\":\"Quad\"},\"hover_glyph\":null,\"muted_glyph\":null,\"nonselection_glyph\":{\"id\":\"4766\",\"type\":\"Quad\"},\"selection_glyph\":null,\"view\":{\"id\":\"4768\",\"type\":\"CDSView\"}},\"id\":\"4767\",\"type\":\"GlyphRenderer\"},{\"attributes\":{\"text\":\"black\",\"text_font_size\":{\"value\":\"10pt\"}},\"id\":\"4710\",\"type\":\"Title\"},{\"attributes\":{\"axis_label\":\"Frequency\",\"formatter\":{\"id\":\"4991\",\"type\":\"BasicTickFormatter\"},\"major_label_text_font_size\":{\"value\":\"0pt\"},\"major_tick_line_color\":{\"value\":null},\"minor_tick_line_color\":{\"value\":null},\"ticker\":{\"id\":\"4886\",\"type\":\"BasicTicker\"}},\"id\":\"4885\",\"type\":\"LinearAxis\"},{\"attributes\":{},\"id\":\"4908\",\"type\":\"LinearScale\"},{\"attributes\":{\"grid_line_color\":null,\"ticker\":{\"id\":\"4913\",\"type\":\"BasicTicker\"}},\"id\":\"4916\",\"type\":\"Grid\"},{\"attributes\":{},\"id\":\"4780\",\"type\":\"LinearScale\"},{\"attributes\":{\"source\":{\"id\":\"4635\",\"type\":\"ColumnDataSource\"}},\"id\":\"4640\",\"type\":\"CDSView\"},{\"attributes\":{\"formatter\":{\"id\":\"4971\",\"type\":\"BasicTickFormatter\"},\"major_label_orientation\":1.0471975511965976,\"major_label_text_font_size\":{\"value\":\"9pt\"},\"minor_tick_line_color\":{\"value\":null},\"ticker\":{\"id\":\"4803\",\"type\":\"FixedTicker\"}},\"id\":\"4784\",\"type\":\"LinearAxis\"},{\"attributes\":{},\"id\":\"4785\",\"type\":\"BasicTicker\"},{\"attributes\":{\"axis_label\":\"Frequency\",\"formatter\":{\"id\":\"4977\",\"type\":\"BasicTickFormatter\"},\"major_label_text_font_size\":{\"value\":\"0pt\"},\"major_tick_line_color\":{\"value\":null},\"minor_tick_line_color\":{\"value\":null},\"ticker\":{\"id\":\"4822\",\"type\":\"BasicTicker\"}},\"id\":\"4821\",\"type\":\"LinearAxis\"},{\"attributes\":{},\"id\":\"4849\",\"type\":\"BasicTicker\"},{\"attributes\":{\"callback\":null},\"id\":\"4714\",\"type\":\"DataRange1d\"},{\"attributes\":{},\"id\":\"4782\",\"type\":\"LinearScale\"},{\"attributes\":{\"source\":{\"id\":\"4859\",\"type\":\"ColumnDataSource\"}},\"id\":\"4864\",\"type\":\"CDSView\"},{\"attributes\":{\"ticks\":[0.0,2514.224,5028.448,7542.6720000000005,10056.896,12571.12,15085.344000000001,17599.568,20113.792,22628.016000000003,25142.24]},\"id\":\"4899\",\"type\":\"FixedTicker\"},{\"attributes\":{\"bottom\":{\"value\":0.01},\"fill_alpha\":{\"value\":0.5},\"fill_color\":{\"value\":\"#6baed6\"},\"left\":{\"field\":\"left\"},\"line_alpha\":{\"value\":0.5},\"line_color\":{\"value\":\"#1f77b4\"},\"right\":{\"field\":\"right\"},\"top\":{\"field\":\"freq\"}},\"id\":\"4797\",\"type\":\"Quad\"},{\"attributes\":{},\"id\":\"4881\",\"type\":\"BasicTicker\"},{\"attributes\":{\"callback\":null},\"id\":\"4680\",\"type\":\"DataRange1d\"},{\"attributes\":{},\"id\":\"4622\",\"type\":\"LinearScale\"},{\"attributes\":{},\"id\":\"4686\",\"type\":\"LinearScale\"},{\"attributes\":{\"bottom\":{\"value\":0.01},\"fill_alpha\":{\"value\":0.5},\"fill_color\":{\"value\":\"#6baed6\"},\"left\":{\"field\":\"left\"},\"line_alpha\":{\"value\":0.5},\"line_color\":{\"value\":\"#1f77b4\"},\"right\":{\"field\":\"right\"},\"top\":{\"field\":\"freq\"}},\"id\":\"4701\",\"type\":\"Quad\"},{\"attributes\":{\"formatter\":{\"id\":\"4999\",\"type\":\"BasicTickFormatter\"},\"major_label_orientation\":1.0471975511965976,\"major_label_text_font_size\":{\"value\":\"9pt\"},\"minor_tick_line_color\":{\"value\":null},\"ticker\":{\"id\":\"4931\",\"type\":\"FixedTicker\"}},\"id\":\"4912\",\"type\":\"LinearAxis\"},{\"attributes\":{\"active_drag\":\"auto\",\"active_inspect\":\"auto\",\"active_multi\":null,\"active_scroll\":\"auto\",\"active_tap\":\"auto\",\"tools\":[{\"id\":\"4865\",\"type\":\"HoverTool\"}]},\"id\":\"4858\",\"type\":\"Toolbar\"},{\"attributes\":{\"text\":\"re78\",\"text_font_size\":{\"value\":\"10pt\"}},\"id\":\"4902\",\"type\":\"Title\"},{\"attributes\":{\"text\":\"re74\",\"text_font_size\":{\"value\":\"10pt\"}},\"id\":\"4838\",\"type\":\"Title\"},{\"attributes\":{\"bottom\":{\"value\":0.01},\"fill_alpha\":{\"value\":0.5},\"fill_color\":{\"value\":\"#6baed6\"},\"left\":{\"field\":\"left\"},\"line_alpha\":{\"value\":0.5},\"line_color\":{\"value\":\"#1f77b4\"},\"right\":{\"field\":\"right\"},\"top\":{\"field\":\"freq\"}},\"id\":\"4765\",\"type\":\"Quad\"},{\"attributes\":{\"active_drag\":\"auto\",\"active_inspect\":\"auto\",\"active_multi\":null,\"active_scroll\":\"auto\",\"active_tap\":\"auto\",\"tools\":[{\"id\":\"4929\",\"type\":\"HoverTool\"}]},\"id\":\"4922\",\"type\":\"Toolbar\"},{\"attributes\":{},\"id\":\"4689\",\"type\":\"BasicTicker\"},{\"attributes\":{\"below\":[{\"id\":\"4688\",\"type\":\"LinearAxis\"}],\"center\":[{\"id\":\"4692\",\"type\":\"Grid\"},{\"id\":\"4697\",\"type\":\"Grid\"}],\"left\":[{\"id\":\"4693\",\"type\":\"LinearAxis\"}],\"plot_height\":300,\"plot_width\":324,\"renderers\":[{\"id\":\"4703\",\"type\":\"GlyphRenderer\"}],\"title\":{\"id\":\"4678\",\"type\":\"Title\"},\"toolbar\":{\"id\":\"4698\",\"type\":\"Toolbar\"},\"toolbar_location\":null,\"x_range\":{\"id\":\"4680\",\"type\":\"DataRange1d\"},\"x_scale\":{\"id\":\"4684\",\"type\":\"LinearScale\"},\"y_range\":{\"id\":\"4682\",\"type\":\"DataRange1d\"},\"y_scale\":{\"id\":\"4686\",\"type\":\"LinearScale\"}},\"id\":\"4677\",\"subtype\":\"Figure\",\"type\":\"Plot\"},{\"attributes\":{\"below\":[{\"id\":\"4912\",\"type\":\"LinearAxis\"}],\"center\":[{\"id\":\"4916\",\"type\":\"Grid\"},{\"id\":\"4921\",\"type\":\"Grid\"}],\"left\":[{\"id\":\"4917\",\"type\":\"LinearAxis\"}],\"plot_height\":300,\"plot_width\":324,\"renderers\":[{\"id\":\"4927\",\"type\":\"GlyphRenderer\"}],\"title\":{\"id\":\"4902\",\"type\":\"Title\"},\"toolbar\":{\"id\":\"4922\",\"type\":\"Toolbar\"},\"toolbar_location\":null,\"x_range\":{\"id\":\"4904\",\"type\":\"DataRange1d\"},\"x_scale\":{\"id\":\"4908\",\"type\":\"LinearScale\"},\"y_range\":{\"id\":\"4906\",\"type\":\"DataRange1d\"},\"y_scale\":{\"id\":\"4910\",\"type\":\"LinearScale\"}},\"id\":\"4901\",\"subtype\":\"Figure\",\"type\":\"Plot\"},{\"attributes\":{},\"id\":\"4846\",\"type\":\"LinearScale\"},{\"attributes\":{},\"id\":\"4822\",\"type\":\"BasicTicker\"},{\"attributes\":{\"active_drag\":\"auto\",\"active_inspect\":\"auto\",\"active_multi\":null,\"active_scroll\":\"auto\",\"active_tap\":\"auto\",\"tools\":[{\"id\":\"4641\",\"type\":\"HoverTool\"}]},\"id\":\"4634\",\"type\":\"Toolbar\"},{\"attributes\":{\"dimension\":1,\"grid_line_color\":null,\"ticker\":{\"id\":\"4854\",\"type\":\"BasicTicker\"}},\"id\":\"4857\",\"type\":\"Grid\"},{\"attributes\":{},\"id\":\"4918\",\"type\":\"BasicTicker\"},{\"attributes\":{\"ticks\":[16.0,19.9,23.8,27.7,31.6,35.5,39.4,43.3,47.2,51.1,55.0]},\"id\":\"4675\",\"type\":\"FixedTicker\"},{\"attributes\":{},\"id\":\"4913\",\"type\":\"BasicTicker\"},{\"attributes\":{\"active_drag\":\"auto\",\"active_inspect\":\"auto\",\"active_multi\":null,\"active_scroll\":\"auto\",\"active_tap\":\"auto\",\"tools\":[{\"id\":\"4833\",\"type\":\"HoverTool\"}]},\"id\":\"4826\",\"type\":\"Toolbar\"},{\"attributes\":{\"dimension\":1,\"grid_line_color\":null,\"ticker\":{\"id\":\"4918\",\"type\":\"BasicTicker\"}},\"id\":\"4921\",\"type\":\"Grid\"},{\"attributes\":{\"text\":\"hispan\",\"text_font_size\":{\"value\":\"10pt\"}},\"id\":\"4742\",\"type\":\"Title\"},{\"attributes\":{\"dimension\":1,\"grid_line_color\":null,\"ticker\":{\"id\":\"4790\",\"type\":\"BasicTicker\"}},\"id\":\"4793\",\"type\":\"Grid\"},{\"attributes\":{\"axis_label\":\"Frequency\",\"formatter\":{\"id\":\"4998\",\"type\":\"BasicTickFormatter\"},\"major_label_text_font_size\":{\"value\":\"0pt\"},\"major_tick_line_color\":{\"value\":null},\"minor_tick_line_color\":{\"value\":null},\"ticker\":{\"id\":\"4918\",\"type\":\"BasicTicker\"}},\"id\":\"4917\",\"type\":\"LinearAxis\"},{\"attributes\":{\"bottom\":{\"value\":0.01},\"fill_alpha\":{\"value\":0.1},\"fill_color\":{\"value\":\"#1f77b4\"},\"left\":{\"field\":\"left\"},\"line_alpha\":{\"value\":0.1},\"line_color\":{\"value\":\"#1f77b4\"},\"right\":{\"field\":\"right\"},\"top\":{\"field\":\"freq\"}},\"id\":\"4798\",\"type\":\"Quad\"},{\"attributes\":{\"active_drag\":\"auto\",\"active_inspect\":\"auto\",\"active_multi\":null,\"active_scroll\":\"auto\",\"active_tap\":\"auto\",\"tools\":[{\"id\":\"4801\",\"type\":\"HoverTool\"}]},\"id\":\"4794\",\"type\":\"Toolbar\"},{\"attributes\":{},\"id\":\"4620\",\"type\":\"LinearScale\"},{\"attributes\":{\"callback\":null,\"mode\":\"vline\",\"tooltips\":[[\"Bin\",\"@intervals\"],[\"Frequency\",\"@freq\"],[\"Percent\",\"@pct{0.2f}%\"]]},\"id\":\"4737\",\"type\":\"HoverTool\"},{\"attributes\":{},\"id\":\"4854\",\"type\":\"BasicTicker\"},{\"attributes\":{\"callback\":null},\"id\":\"4778\",\"type\":\"DataRange1d\"},{\"attributes\":{\"bottom\":{\"value\":0.01},\"fill_alpha\":{\"value\":0.1},\"fill_color\":{\"value\":\"#1f77b4\"},\"left\":{\"field\":\"left\"},\"line_alpha\":{\"value\":0.1},\"line_color\":{\"value\":\"#1f77b4\"},\"right\":{\"field\":\"right\"},\"top\":{\"field\":\"freq\"}},\"id\":\"4638\",\"type\":\"Quad\"},{\"attributes\":{\"bottom\":{\"value\":0.01},\"fill_alpha\":{\"value\":0.5},\"fill_color\":{\"value\":\"#6baed6\"},\"left\":{\"field\":\"left\"},\"line_alpha\":{\"value\":0.5},\"line_color\":{\"value\":\"#1f77b4\"},\"right\":{\"field\":\"right\"},\"top\":{\"field\":\"freq\"}},\"id\":\"4925\",\"type\":\"Quad\"},{\"attributes\":{\"callback\":null},\"id\":\"4682\",\"type\":\"DataRange1d\"},{\"attributes\":{\"active_drag\":\"auto\",\"active_inspect\":\"auto\",\"active_multi\":null,\"active_scroll\":\"auto\",\"active_tap\":\"auto\",\"tools\":[{\"id\":\"4769\",\"type\":\"HoverTool\"}]},\"id\":\"4762\",\"type\":\"Toolbar\"},{\"attributes\":{\"data_source\":{\"id\":\"4635\",\"type\":\"ColumnDataSource\"},\"glyph\":{\"id\":\"4637\",\"type\":\"Quad\"},\"hover_glyph\":null,\"muted_glyph\":null,\"nonselection_glyph\":{\"id\":\"4638\",\"type\":\"Quad\"},\"selection_glyph\":null,\"view\":{\"id\":\"4640\",\"type\":\"CDSView\"}},\"id\":\"4639\",\"type\":\"GlyphRenderer\"},{\"attributes\":{\"below\":[{\"id\":\"4752\",\"type\":\"LinearAxis\"}],\"center\":[{\"id\":\"4756\",\"type\":\"Grid\"},{\"id\":\"4761\",\"type\":\"Grid\"}],\"left\":[{\"id\":\"4757\",\"type\":\"LinearAxis\"}],\"plot_height\":300,\"plot_width\":324,\"renderers\":[{\"id\":\"4767\",\"type\":\"GlyphRenderer\"}],\"title\":{\"id\":\"4742\",\"type\":\"Title\"},\"toolbar\":{\"id\":\"4762\",\"type\":\"Toolbar\"},\"toolbar_location\":null,\"x_range\":{\"id\":\"4744\",\"type\":\"DataRange1d\"},\"x_scale\":{\"id\":\"4748\",\"type\":\"LinearScale\"},\"y_range\":{\"id\":\"4746\",\"type\":\"DataRange1d\"},\"y_scale\":{\"id\":\"4750\",\"type\":\"LinearScale\"}},\"id\":\"4741\",\"subtype\":\"Figure\",\"type\":\"Plot\"},{\"attributes\":{\"active_drag\":\"auto\",\"active_inspect\":\"auto\",\"active_multi\":null,\"active_scroll\":\"auto\",\"active_tap\":\"auto\",\"tools\":[{\"id\":\"4705\",\"type\":\"HoverTool\"}]},\"id\":\"4698\",\"type\":\"Toolbar\"},{\"attributes\":{},\"id\":\"4844\",\"type\":\"LinearScale\"},{\"attributes\":{\"data_source\":{\"id\":\"4923\",\"type\":\"ColumnDataSource\"},\"glyph\":{\"id\":\"4925\",\"type\":\"Quad\"},\"hover_glyph\":null,\"muted_glyph\":null,\"nonselection_glyph\":{\"id\":\"4926\",\"type\":\"Quad\"},\"selection_glyph\":null,\"view\":{\"id\":\"4928\",\"type\":\"CDSView\"}},\"id\":\"4927\",\"type\":\"GlyphRenderer\"},{\"attributes\":{\"bottom\":{\"value\":0.01},\"fill_alpha\":{\"value\":0.5},\"fill_color\":{\"value\":\"#6baed6\"},\"left\":{\"field\":\"left\"},\"line_alpha\":{\"value\":0.5},\"line_color\":{\"value\":\"#1f77b4\"},\"right\":{\"field\":\"right\"},\"top\":{\"field\":\"freq\"}},\"id\":\"4733\",\"type\":\"Quad\"},{\"attributes\":{\"bottom\":{\"value\":0.01},\"fill_alpha\":{\"value\":0.1},\"fill_color\":{\"value\":\"#1f77b4\"},\"left\":{\"field\":\"left\"},\"line_alpha\":{\"value\":0.1},\"line_color\":{\"value\":\"#1f77b4\"},\"right\":{\"field\":\"right\"},\"top\":{\"field\":\"freq\"}},\"id\":\"4766\",\"type\":\"Quad\"},{\"attributes\":{\"bottom\":{\"value\":0.01},\"fill_alpha\":{\"value\":0.5},\"fill_color\":{\"value\":\"#6baed6\"},\"left\":{\"field\":\"left\"},\"line_alpha\":{\"value\":0.5},\"line_color\":{\"value\":\"#1f77b4\"},\"right\":{\"field\":\"right\"},\"top\":{\"field\":\"freq\"}},\"id\":\"4829\",\"type\":\"Quad\"},{\"attributes\":{\"axis_label\":\"Frequency\",\"formatter\":{\"id\":\"4970\",\"type\":\"BasicTickFormatter\"},\"major_label_text_font_size\":{\"value\":\"0pt\"},\"major_tick_line_color\":{\"value\":null},\"minor_tick_line_color\":{\"value\":null},\"ticker\":{\"id\":\"4790\",\"type\":\"BasicTicker\"}},\"id\":\"4789\",\"type\":\"LinearAxis\"},{\"attributes\":{\"grid_line_color\":null,\"ticker\":{\"id\":\"4849\",\"type\":\"BasicTicker\"}},\"id\":\"4852\",\"type\":\"Grid\"},{\"attributes\":{\"ticks\":[0.0,0.1,0.2,0.30000000000000004,0.4,0.5,0.6000000000000001,0.7000000000000001,0.8,0.9,1.0]},\"id\":\"4643\",\"type\":\"FixedTicker\"},{\"attributes\":{\"ticks\":[0.0,0.1,0.2,0.30000000000000004,0.4,0.5,0.6000000000000001,0.7000000000000001,0.8,0.9,1.0]},\"id\":\"4739\",\"type\":\"FixedTicker\"},{\"attributes\":{\"source\":{\"id\":\"4923\",\"type\":\"ColumnDataSource\"}},\"id\":\"4928\",\"type\":\"CDSView\"},{\"attributes\":{\"dimension\":1,\"grid_line_color\":null,\"ticker\":{\"id\":\"4822\",\"type\":\"BasicTicker\"}},\"id\":\"4825\",\"type\":\"Grid\"},{\"attributes\":{\"below\":[{\"id\":\"4720\",\"type\":\"LinearAxis\"}],\"center\":[{\"id\":\"4724\",\"type\":\"Grid\"},{\"id\":\"4729\",\"type\":\"Grid\"}],\"left\":[{\"id\":\"4725\",\"type\":\"LinearAxis\"}],\"plot_height\":300,\"plot_width\":324,\"renderers\":[{\"id\":\"4735\",\"type\":\"GlyphRenderer\"}],\"title\":{\"id\":\"4710\",\"type\":\"Title\"},\"toolbar\":{\"id\":\"4730\",\"type\":\"Toolbar\"},\"toolbar_location\":null,\"x_range\":{\"id\":\"4712\",\"type\":\"DataRange1d\"},\"x_scale\":{\"id\":\"4716\",\"type\":\"LinearScale\"},\"y_range\":{\"id\":\"4714\",\"type\":\"DataRange1d\"},\"y_scale\":{\"id\":\"4718\",\"type\":\"LinearScale\"}},\"id\":\"4709\",\"subtype\":\"Figure\",\"type\":\"Plot\"}],\"root_ids\":[\"5003\"]},\"title\":\"Bokeh Application\",\"version\":\"1.4.0\"}};\n",
       "  var render_items = [{\"docid\":\"6c6357b1-2d59-468d-9e73-972ad80da9c6\",\"roots\":{\"5003\":\"bfe51628-ecfe-462f-8d06-4e239605079e\"}}];\n",
       "  root.Bokeh.embed.embed_items_notebook(docs_json, render_items);\n",
       "\n",
       "  }\n",
       "  if (root.Bokeh !== undefined) {\n",
       "    embed_document(root);\n",
       "  } else {\n",
       "    var attempts = 0;\n",
       "    var timer = setInterval(function(root) {\n",
       "      if (root.Bokeh !== undefined) {\n",
       "        clearInterval(timer);\n",
       "        embed_document(root);\n",
       "      } else {\n",
       "        attempts++;\n",
       "        if (attempts > 100) {\n",
       "          clearInterval(timer);\n",
       "          console.log(\"Bokeh: ERROR: Unable to run BokehJS code because BokehJS library is missing\");\n",
       "        }\n",
       "      }\n",
       "    }, 10, root)\n",
       "  }\n",
       "})(window);"
      ],
      "application/vnd.bokehjs_exec.v0+json": ""
     },
     "metadata": {
      "application/vnd.bokehjs_exec.v0+json": {
       "id": "5003"
      }
     },
     "output_type": "display_data"
    },
    {
     "data": {
      "text/html": [
       "<div style=\"display: table;\"><div style=\"display: table-row;\"><div style=\"display: table-cell;\"><b title=\"bokeh.models.layouts.GridBox\">GridBox</b>(</div><div style=\"display: table-cell;\">id&nbsp;=&nbsp;'5003', <span id=\"5665\" style=\"cursor: pointer;\">&hellip;)</span></div></div><div class=\"5664\" style=\"display: none;\"><div style=\"display: table-cell;\"></div><div style=\"display: table-cell;\">align&nbsp;=&nbsp;'start',</div></div><div class=\"5664\" style=\"display: none;\"><div style=\"display: table-cell;\"></div><div style=\"display: table-cell;\">aspect_ratio&nbsp;=&nbsp;None,</div></div><div class=\"5664\" style=\"display: none;\"><div style=\"display: table-cell;\"></div><div style=\"display: table-cell;\">background&nbsp;=&nbsp;None,</div></div><div class=\"5664\" style=\"display: none;\"><div style=\"display: table-cell;\"></div><div style=\"display: table-cell;\">children&nbsp;=&nbsp;[(Figure(id='4613', ...), 0, 0), (Figure(id='4645', ...), 0, 1), (Figure(id='4677', ...), 0, 2), (Figure(id='4709', ...), 1, 0), (Figure(id='4741', ...), 1, 1), (Figure(id='4773', ...), 1, 2), (Figure(id='4805', ...), 2, 0), (Figure(id='4837', ...), 2, 1), (Figure(id='4869', ...), 2, 2), (Figure(id='4901', ...), 3, 0)],</div></div><div class=\"5664\" style=\"display: none;\"><div style=\"display: table-cell;\"></div><div style=\"display: table-cell;\">cols&nbsp;=&nbsp;'auto',</div></div><div class=\"5664\" style=\"display: none;\"><div style=\"display: table-cell;\"></div><div style=\"display: table-cell;\">css_classes&nbsp;=&nbsp;[],</div></div><div class=\"5664\" style=\"display: none;\"><div style=\"display: table-cell;\"></div><div style=\"display: table-cell;\">disabled&nbsp;=&nbsp;False,</div></div><div class=\"5664\" style=\"display: none;\"><div style=\"display: table-cell;\"></div><div style=\"display: table-cell;\">height&nbsp;=&nbsp;None,</div></div><div class=\"5664\" style=\"display: none;\"><div style=\"display: table-cell;\"></div><div style=\"display: table-cell;\">height_policy&nbsp;=&nbsp;'auto',</div></div><div class=\"5664\" style=\"display: none;\"><div style=\"display: table-cell;\"></div><div style=\"display: table-cell;\">js_event_callbacks&nbsp;=&nbsp;{},</div></div><div class=\"5664\" style=\"display: none;\"><div style=\"display: table-cell;\"></div><div style=\"display: table-cell;\">js_property_callbacks&nbsp;=&nbsp;{},</div></div><div class=\"5664\" style=\"display: none;\"><div style=\"display: table-cell;\"></div><div style=\"display: table-cell;\">margin&nbsp;=&nbsp;(0, 0, 0, 0),</div></div><div class=\"5664\" style=\"display: none;\"><div style=\"display: table-cell;\"></div><div style=\"display: table-cell;\">max_height&nbsp;=&nbsp;None,</div></div><div class=\"5664\" style=\"display: none;\"><div style=\"display: table-cell;\"></div><div style=\"display: table-cell;\">max_width&nbsp;=&nbsp;None,</div></div><div class=\"5664\" style=\"display: none;\"><div style=\"display: table-cell;\"></div><div style=\"display: table-cell;\">min_height&nbsp;=&nbsp;None,</div></div><div class=\"5664\" style=\"display: none;\"><div style=\"display: table-cell;\"></div><div style=\"display: table-cell;\">min_width&nbsp;=&nbsp;None,</div></div><div class=\"5664\" style=\"display: none;\"><div style=\"display: table-cell;\"></div><div style=\"display: table-cell;\">name&nbsp;=&nbsp;None,</div></div><div class=\"5664\" style=\"display: none;\"><div style=\"display: table-cell;\"></div><div style=\"display: table-cell;\">rows&nbsp;=&nbsp;'auto',</div></div><div class=\"5664\" style=\"display: none;\"><div style=\"display: table-cell;\"></div><div style=\"display: table-cell;\">sizing_mode&nbsp;=&nbsp;None,</div></div><div class=\"5664\" style=\"display: none;\"><div style=\"display: table-cell;\"></div><div style=\"display: table-cell;\">spacing&nbsp;=&nbsp;0,</div></div><div class=\"5664\" style=\"display: none;\"><div style=\"display: table-cell;\"></div><div style=\"display: table-cell;\">subscribed_events&nbsp;=&nbsp;[],</div></div><div class=\"5664\" style=\"display: none;\"><div style=\"display: table-cell;\"></div><div style=\"display: table-cell;\">tags&nbsp;=&nbsp;[],</div></div><div class=\"5664\" style=\"display: none;\"><div style=\"display: table-cell;\"></div><div style=\"display: table-cell;\">visible&nbsp;=&nbsp;True,</div></div><div class=\"5664\" style=\"display: none;\"><div style=\"display: table-cell;\"></div><div style=\"display: table-cell;\">width&nbsp;=&nbsp;None,</div></div><div class=\"5664\" style=\"display: none;\"><div style=\"display: table-cell;\"></div><div style=\"display: table-cell;\">width_policy&nbsp;=&nbsp;'auto')</div></div></div>\n",
       "<script>\n",
       "(function() {\n",
       "  var expanded = false;\n",
       "  var ellipsis = document.getElementById(\"5665\");\n",
       "  ellipsis.addEventListener(\"click\", function() {\n",
       "    var rows = document.getElementsByClassName(\"5664\");\n",
       "    for (var i = 0; i < rows.length; i++) {\n",
       "      var el = rows[i];\n",
       "      el.style.display = expanded ? \"none\" : \"table-row\";\n",
       "    }\n",
       "    ellipsis.innerHTML = expanded ? \"&hellip;)\" : \"&lsaquo;&lsaquo;&lsaquo;\";\n",
       "    expanded = !expanded;\n",
       "  });\n",
       "})();\n",
       "</script>\n"
      ],
      "text/plain": [
       "GridBox(id='5003', ...)"
      ]
     },
     "execution_count": 90,
     "metadata": {},
     "output_type": "execute_result"
    }
   ],
   "source": [
    "plot(lalonde)"
   ]
  },
  {
   "cell_type": "markdown",
   "metadata": {},
   "source": [
    "## Task 1. Causal Graph \n",
    "In this task, you will draw a causal graph on a real-world dataset based on the information given. Please remind yourself of the difference between causality and correlation."
   ]
  },
  {
   "cell_type": "code",
   "execution_count": 91,
   "metadata": {},
   "outputs": [],
   "source": [
    "#import graphviz, the python tool we are going to use for this task\n",
    "from graphviz import Digraph"
   ]
  },
  {
   "cell_type": "markdown",
   "metadata": {},
   "source": [
    "In the Lalonde dataset, `treat` is the treatment attribute, which represents whether an individual was enrolled in the job training program or not. `re78` is the outcome attribute. `age` and `married` are confounding variables. Please draw the causal graph for these four attributes using Graphviz."
   ]
  },
  {
   "cell_type": "code",
   "execution_count": 92,
   "metadata": {},
   "outputs": [
    {
     "data": {
      "image/svg+xml": [
       "<?xml version=\"1.0\" encoding=\"UTF-8\" standalone=\"no\"?>\n",
       "<!DOCTYPE svg PUBLIC \"-//W3C//DTD SVG 1.1//EN\"\n",
       " \"http://www.w3.org/Graphics/SVG/1.1/DTD/svg11.dtd\">\n",
       "<!-- Generated by graphviz version 2.42.3 (20191010.1750)\n",
       " -->\n",
       "<!-- Title: %3 Pages: 1 -->\n",
       "<svg width=\"300pt\" height=\"44pt\"\n",
       " viewBox=\"0.00 0.00 300.00 44.00\" xmlns=\"http://www.w3.org/2000/svg\" xmlns:xlink=\"http://www.w3.org/1999/xlink\">\n",
       "<g id=\"graph0\" class=\"graph\" transform=\"scale(1 1) rotate(0) translate(4 40)\">\n",
       "<title>%3</title>\n",
       "<polygon fill=\"white\" stroke=\"transparent\" points=\"-4,4 -4,-40 296,-40 296,4 -4,4\"/>\n",
       "<!-- a -->\n",
       "<g id=\"node1\" class=\"node\">\n",
       "<title>a</title>\n",
       "<ellipse fill=\"none\" stroke=\"black\" cx=\"27\" cy=\"-18\" rx=\"27\" ry=\"18\"/>\n",
       "<text text-anchor=\"middle\" x=\"27\" y=\"-13.8\" font-family=\"Times,serif\" font-size=\"14.00\">treat</text>\n",
       "</g>\n",
       "<!-- b -->\n",
       "<g id=\"node2\" class=\"node\">\n",
       "<title>b</title>\n",
       "<ellipse fill=\"none\" stroke=\"black\" cx=\"99\" cy=\"-18\" rx=\"27\" ry=\"18\"/>\n",
       "<text text-anchor=\"middle\" x=\"99\" y=\"-13.8\" font-family=\"Times,serif\" font-size=\"14.00\">age</text>\n",
       "</g>\n",
       "<!-- c -->\n",
       "<g id=\"node3\" class=\"node\">\n",
       "<title>c</title>\n",
       "<ellipse fill=\"none\" stroke=\"black\" cx=\"182\" cy=\"-18\" rx=\"37.71\" ry=\"18\"/>\n",
       "<text text-anchor=\"middle\" x=\"182\" y=\"-13.8\" font-family=\"Times,serif\" font-size=\"14.00\">married</text>\n",
       "</g>\n",
       "<!-- d -->\n",
       "<g id=\"node4\" class=\"node\">\n",
       "<title>d</title>\n",
       "<ellipse fill=\"none\" stroke=\"black\" cx=\"265\" cy=\"-18\" rx=\"27\" ry=\"18\"/>\n",
       "<text text-anchor=\"middle\" x=\"265\" y=\"-13.8\" font-family=\"Times,serif\" font-size=\"14.00\">re78</text>\n",
       "</g>\n",
       "</g>\n",
       "</svg>\n"
      ],
      "text/plain": [
       "<graphviz.dot.Digraph at 0x1a2c9d4a90>"
      ]
     },
     "execution_count": 92,
     "metadata": {},
     "output_type": "execute_result"
    }
   ],
   "source": [
    "dot = Digraph(comment='The causal graph for Lalonde')\n",
    "dot.node('a','treat')\n",
    "dot.node('b','age')\n",
    "dot.node('c','married')\n",
    "dot.node('d','re78')\n",
    "\n",
    "dot"
   ]
  },
  {
   "cell_type": "code",
   "execution_count": 93,
   "metadata": {},
   "outputs": [
    {
     "data": {
      "image/svg+xml": [
       "<?xml version=\"1.0\" encoding=\"UTF-8\" standalone=\"no\"?>\n",
       "<!DOCTYPE svg PUBLIC \"-//W3C//DTD SVG 1.1//EN\"\n",
       " \"http://www.w3.org/Graphics/SVG/1.1/DTD/svg11.dtd\">\n",
       "<!-- Generated by graphviz version 2.42.3 (20191010.1750)\n",
       " -->\n",
       "<!-- Title: %3 Pages: 1 -->\n",
       "<svg width=\"130pt\" height=\"260pt\"\n",
       " viewBox=\"0.00 0.00 129.79 260.00\" xmlns=\"http://www.w3.org/2000/svg\" xmlns:xlink=\"http://www.w3.org/1999/xlink\">\n",
       "<g id=\"graph0\" class=\"graph\" transform=\"scale(1 1) rotate(0) translate(4 256)\">\n",
       "<title>%3</title>\n",
       "<polygon fill=\"white\" stroke=\"transparent\" points=\"-4,4 -4,-256 125.79,-256 125.79,4 -4,4\"/>\n",
       "<!-- a -->\n",
       "<g id=\"node1\" class=\"node\">\n",
       "<title>a</title>\n",
       "<ellipse fill=\"none\" stroke=\"black\" cx=\"27\" cy=\"-90\" rx=\"27\" ry=\"18\"/>\n",
       "<text text-anchor=\"middle\" x=\"27\" y=\"-85.8\" font-family=\"Times,serif\" font-size=\"14.00\">treat</text>\n",
       "</g>\n",
       "<!-- d -->\n",
       "<g id=\"node4\" class=\"node\">\n",
       "<title>d</title>\n",
       "<ellipse fill=\"none\" stroke=\"black\" cx=\"82\" cy=\"-18\" rx=\"27\" ry=\"18\"/>\n",
       "<text text-anchor=\"middle\" x=\"82\" y=\"-13.8\" font-family=\"Times,serif\" font-size=\"14.00\">re78</text>\n",
       "</g>\n",
       "<!-- a&#45;&gt;d -->\n",
       "<g id=\"edge6\" class=\"edge\">\n",
       "<title>a&#45;&gt;d</title>\n",
       "<path fill=\"none\" stroke=\"black\" d=\"M38.93,-73.81C46.21,-64.55 55.66,-52.52 63.85,-42.09\"/>\n",
       "<polygon fill=\"black\" stroke=\"black\" points=\"66.66,-44.18 70.09,-34.16 61.16,-39.86 66.66,-44.18\"/>\n",
       "</g>\n",
       "<!-- b -->\n",
       "<g id=\"node2\" class=\"node\">\n",
       "<title>b</title>\n",
       "<ellipse fill=\"none\" stroke=\"black\" cx=\"68\" cy=\"-234\" rx=\"27\" ry=\"18\"/>\n",
       "<text text-anchor=\"middle\" x=\"68\" y=\"-229.8\" font-family=\"Times,serif\" font-size=\"14.00\">age</text>\n",
       "</g>\n",
       "<!-- b&#45;&gt;a -->\n",
       "<g id=\"edge2\" class=\"edge\">\n",
       "<title>b&#45;&gt;a</title>\n",
       "<path fill=\"none\" stroke=\"black\" d=\"M51.09,-219.71C40.21,-210.03 27.02,-195.87 21,-180 13.42,-160.03 15.75,-135.74 19.51,-117.59\"/>\n",
       "<polygon fill=\"black\" stroke=\"black\" points=\"22.96,-118.22 21.83,-107.69 16.14,-116.63 22.96,-118.22\"/>\n",
       "</g>\n",
       "<!-- c -->\n",
       "<g id=\"node3\" class=\"node\">\n",
       "<title>c</title>\n",
       "<ellipse fill=\"none\" stroke=\"black\" cx=\"68\" cy=\"-162\" rx=\"37.71\" ry=\"18\"/>\n",
       "<text text-anchor=\"middle\" x=\"68\" y=\"-157.8\" font-family=\"Times,serif\" font-size=\"14.00\">married</text>\n",
       "</g>\n",
       "<!-- b&#45;&gt;c -->\n",
       "<g id=\"edge1\" class=\"edge\">\n",
       "<title>b&#45;&gt;c</title>\n",
       "<path fill=\"none\" stroke=\"black\" d=\"M68,-215.7C68,-207.98 68,-198.71 68,-190.11\"/>\n",
       "<polygon fill=\"black\" stroke=\"black\" points=\"71.5,-190.1 68,-180.1 64.5,-190.1 71.5,-190.1\"/>\n",
       "</g>\n",
       "<!-- b&#45;&gt;d -->\n",
       "<g id=\"edge3\" class=\"edge\">\n",
       "<title>b&#45;&gt;d</title>\n",
       "<path fill=\"none\" stroke=\"black\" d=\"M84.91,-219.71C95.79,-210.03 108.98,-195.87 115,-180 132.52,-133.83 111.26,-76.49 95.66,-44.19\"/>\n",
       "<polygon fill=\"black\" stroke=\"black\" points=\"98.66,-42.38 91.04,-35.01 92.41,-45.52 98.66,-42.38\"/>\n",
       "</g>\n",
       "<!-- c&#45;&gt;a -->\n",
       "<g id=\"edge4\" class=\"edge\">\n",
       "<title>c&#45;&gt;a</title>\n",
       "<path fill=\"none\" stroke=\"black\" d=\"M58.28,-144.41C53.26,-135.83 47.03,-125.19 41.45,-115.67\"/>\n",
       "<polygon fill=\"black\" stroke=\"black\" points=\"44.44,-113.85 36.36,-106.99 38.4,-117.39 44.44,-113.85\"/>\n",
       "</g>\n",
       "<!-- c&#45;&gt;d -->\n",
       "<g id=\"edge5\" class=\"edge\">\n",
       "<title>c&#45;&gt;d</title>\n",
       "<path fill=\"none\" stroke=\"black\" d=\"M69.69,-143.87C72.07,-119.67 76.46,-75.21 79.3,-46.39\"/>\n",
       "<polygon fill=\"black\" stroke=\"black\" points=\"82.81,-46.48 80.31,-36.19 75.84,-45.8 82.81,-46.48\"/>\n",
       "</g>\n",
       "</g>\n",
       "</svg>\n"
      ],
      "text/plain": [
       "<graphviz.dot.Digraph at 0x1a2c9d4a90>"
      ]
     },
     "execution_count": 93,
     "metadata": {},
     "output_type": "execute_result"
    }
   ],
   "source": [
    "#<-- Write Your Code -->\n",
    "\n",
    "#Implement your plot function here and show the graph, the output should be a causal graph\n",
    "dot.edge('b', 'c')\n",
    "dot.edge('b', 'a')\n",
    "dot.edge('b', 'd')\n",
    "dot.edge('c', 'a')\n",
    "dot.edge('c', 'd')\n",
    "dot.edge('a', 'd')\n",
    "dot"
   ]
  },
  {
   "cell_type": "markdown",
   "metadata": {},
   "source": [
    "## Task 2. ATE Estimation\n",
    "In this task, your job is to implement different AET estimation approaches and draw useful conclusions."
   ]
  },
  {
   "cell_type": "markdown",
   "metadata": {},
   "source": [
    "### 2.1 Perfect Matching\n",
    "For the PSID tuples in the dataset (i.e., those individuals who weren't enrolled in the job training program), please use perfect matching to estimate their salaries if they received treatments?\n"
   ]
  },
  {
   "cell_type": "code",
   "execution_count": 94,
   "metadata": {},
   "outputs": [],
   "source": [
    "#<-- Write Your Code -->\n",
    "\n",
    "# Implement the perfect matching method here and output the count of PSID tuples whose counterfactual can be computed\n",
    "# using perfect matching, as well as the percentage of such tuples among all PSID tuples. If there are multiple \n",
    "# tuples in the treatment group that can be matched with the control group, just select the first one\n",
    "# output: count and percentage\n",
    "df0 = lalonde[lalonde['treat']==0].reset_index()\n",
    "df1 = lalonde[lalonde['treat']==1].reset_index()\n",
    "df_matched = df0.merge(df1, on=lalonde.columns[1:-1].tolist(), suffixes=['_untreated', '_treated'], how='inner')\n",
    "df_matched = df_matched.drop_duplicates(['id_untreated'])\n",
    "count = len(df_matched)\n",
    "percentage = count/len(df0)*100\n"
   ]
  },
  {
   "cell_type": "code",
   "execution_count": 95,
   "metadata": {},
   "outputs": [
    {
     "name": "stdout",
     "output_type": "stream",
     "text": [
      "Count of tuples which can be computed by perfect matching is 12\n",
      "Percentage of such tuples among all PSID tuples is 2.797202797202797\n"
     ]
    }
   ],
   "source": [
    "# Run the following code to print out the result\n",
    "print(\"Count of tuples which can be computed by perfect matching is \" + str(count))\n",
    "print(\"Percentage of such tuples among all PSID tuples is \" + str(percentage))"
   ]
  },
  {
   "cell_type": "code",
   "execution_count": 96,
   "metadata": {},
   "outputs": [],
   "source": [
    "#<-- Write Your Code -->\n",
    "\n",
    "# Compute ATE among those PSID tuples whose counterfactual can be computed using perfect matching\n",
    "# output: value of ATE\n",
    "\n",
    "ATE = (df_matched['re78_treated']-df_matched['re78_untreated']).mean()"
   ]
  },
  {
   "cell_type": "code",
   "execution_count": 97,
   "metadata": {},
   "outputs": [
    {
     "name": "stdout",
     "output_type": "stream",
     "text": [
      "ATE by perfect matching is 1362.3939999999998\n"
     ]
    }
   ],
   "source": [
    "# Run following code to print the result\n",
    "print(\"ATE by perfect matching is \" + str(ATE))"
   ]
  },
  {
   "cell_type": "markdown",
   "metadata": {},
   "source": [
    "### 2.2 Nearest Neighbor Matching\n",
    "For the PSID tuples in the dataset (i.e., those who weren't enrolled in the job training program), please use the nearest neighbor matching to estimate their salaries if they received treatments?\n",
    "\n",
    "Please use all covariates (the attributes besides treatment and outcome) and use Euclidean distance as the distance metric."
   ]
  },
  {
   "cell_type": "code",
   "execution_count": 98,
   "metadata": {},
   "outputs": [],
   "source": [
    "#<-- Write Your Code -->\n",
    "\n",
    "# Implement the nearest neighbor matching method here and output the count of PSID tuples whose counterfactual can be\n",
    "# computed using nearest neighbor matching, when the threshold is set to 1000, as well as the percentage of such tuples among all PSID tuples\n",
    "# Output: count and percentage\n",
    "\n",
    "# Please use np.linalg.norm(x1 - x2) to compute the euclidean distance between two vectors\n",
    "\n",
    "df1 = lalonde[lalonde['treat']==1]\n",
    "df0 = lalonde[lalonde['treat']==0]\n",
    "re78_treat = []\n",
    "re78_untreat = []\n",
    "for i in range(df0.shape[0]):\n",
    "    vector1 = df0.iloc[[i]][lalonde.columns[1:-1]].values\n",
    "    dists = []\n",
    "    re78s = []\n",
    "    for j in range(df1.shape[0]):\n",
    "        vector2 = df1.iloc[[j]][lalonde.columns[1:-1]].values\n",
    "        re78 = float(df1.iloc[[j]]['re78'])\n",
    "        dist = np.linalg.norm(vector1-vector2)\n",
    "        dists.append(dist)\n",
    "        re78s.append(re78)\n",
    "    if min(dists)<1000:\n",
    "        re78_treat.append(re78s[dists.index(min(dists))])\n",
    "        re78_untreat.append(float(df0.iloc[[i]]['re78']))\n",
    "count = len(re78_treat)\n",
    "percentage = count/len(df0)*100\n"
   ]
  },
  {
   "cell_type": "code",
   "execution_count": 99,
   "metadata": {},
   "outputs": [
    {
     "name": "stdout",
     "output_type": "stream",
     "text": [
      "Count of tuples which can be computed by nearest neighbor matching is 318\n",
      "Percentage of such tuples among all PSID tuples is 74.12587412587412\n"
     ]
    }
   ],
   "source": [
    "#run following code to print the result\n",
    "print(\"Count of tuples which can be computed by nearest neighbor matching is \" + str(count))\n",
    "print(\"Percentage of such tuples among all PSID tuples is \" + str(percentage))"
   ]
  },
  {
   "cell_type": "code",
   "execution_count": 100,
   "metadata": {},
   "outputs": [],
   "source": [
    "#<-- Write Your Code -->\n",
    "\n",
    "# Compute ATE among those PSID tuples whose counterfactual can be computed using nearest neighbor matching\n",
    "# Output: value of ATE\n",
    "ATE = (np.array(re78_treat)-np.array(re78_untreat)).mean()"
   ]
  },
  {
   "cell_type": "code",
   "execution_count": 101,
   "metadata": {},
   "outputs": [
    {
     "name": "stdout",
     "output_type": "stream",
     "text": [
      "ATE by nearest neighbor matching is 519.1813407232705\n"
     ]
    }
   ],
   "source": [
    "# Run following code to print out the result\n",
    "print(\"ATE by nearest neighbor matching is \" + str(ATE))"
   ]
  },
  {
   "cell_type": "markdown",
   "metadata": {},
   "source": [
    "### 2.3 Propensity Score Matching\n",
    "For the PSID tuples in the dataset (i.e., those weren't enrolled in the job training program), please use propensity score matching to estimate their salaries if they received treatments?\n",
    "\n",
    "Please use logistic regression to fit the propensity score."
   ]
  },
  {
   "cell_type": "code",
   "execution_count": 102,
   "metadata": {},
   "outputs": [
    {
     "name": "stderr",
     "output_type": "stream",
     "text": [
      "/Users/kezhou/opt/anaconda3/lib/python3.7/site-packages/sklearn/linear_model/_logistic.py:940: ConvergenceWarning: lbfgs failed to converge (status=1):\n",
      "STOP: TOTAL NO. of ITERATIONS REACHED LIMIT.\n",
      "\n",
      "Increase the number of iterations (max_iter) or scale the data as shown in:\n",
      "    https://scikit-learn.org/stable/modules/preprocessing.html\n",
      "Please also refer to the documentation for alternative solver options:\n",
      "    https://scikit-learn.org/stable/modules/linear_model.html#logistic-regression\n",
      "  extra_warning_msg=_LOGISTIC_SOLVER_CONVERGENCE_MSG)\n"
     ]
    }
   ],
   "source": [
    "#<-- Write Your Code -->\n",
    "\n",
    "# Compute propensity score P(y = 1|X) for each tuple in the dataset. Use logistic regression.\n",
    "# Output: add the new column \"psm\" to lalonde dataframe\n",
    "from sklearn.linear_model import LogisticRegression\n",
    "\n",
    "x = lalonde[lalonde.columns[1:-1]]\n",
    "y = lalonde['treat']\n",
    "model = LogisticRegression().fit(x,y)\n",
    "lalonde['psm'] = model.predict_proba(x)[:,1]"
   ]
  },
  {
   "cell_type": "code",
   "execution_count": 103,
   "metadata": {},
   "outputs": [
    {
     "data": {
      "text/html": [
       "<div>\n",
       "<style scoped>\n",
       "    .dataframe tbody tr th:only-of-type {\n",
       "        vertical-align: middle;\n",
       "    }\n",
       "\n",
       "    .dataframe tbody tr th {\n",
       "        vertical-align: top;\n",
       "    }\n",
       "\n",
       "    .dataframe thead th {\n",
       "        text-align: right;\n",
       "    }\n",
       "</style>\n",
       "<table border=\"1\" class=\"dataframe\">\n",
       "  <thead>\n",
       "    <tr style=\"text-align: right;\">\n",
       "      <th></th>\n",
       "      <th>treat</th>\n",
       "      <th>age</th>\n",
       "      <th>educ</th>\n",
       "      <th>black</th>\n",
       "      <th>hispan</th>\n",
       "      <th>married</th>\n",
       "      <th>nodegree</th>\n",
       "      <th>re74</th>\n",
       "      <th>re75</th>\n",
       "      <th>re78</th>\n",
       "      <th>psm</th>\n",
       "    </tr>\n",
       "    <tr>\n",
       "      <th>id</th>\n",
       "      <th></th>\n",
       "      <th></th>\n",
       "      <th></th>\n",
       "      <th></th>\n",
       "      <th></th>\n",
       "      <th></th>\n",
       "      <th></th>\n",
       "      <th></th>\n",
       "      <th></th>\n",
       "      <th></th>\n",
       "      <th></th>\n",
       "    </tr>\n",
       "  </thead>\n",
       "  <tbody>\n",
       "    <tr>\n",
       "      <th>NSW1</th>\n",
       "      <td>1</td>\n",
       "      <td>37</td>\n",
       "      <td>11</td>\n",
       "      <td>1</td>\n",
       "      <td>0</td>\n",
       "      <td>1</td>\n",
       "      <td>1</td>\n",
       "      <td>0.0</td>\n",
       "      <td>0.0</td>\n",
       "      <td>9930.0460</td>\n",
       "      <td>0.432245</td>\n",
       "    </tr>\n",
       "    <tr>\n",
       "      <th>NSW2</th>\n",
       "      <td>1</td>\n",
       "      <td>22</td>\n",
       "      <td>9</td>\n",
       "      <td>0</td>\n",
       "      <td>1</td>\n",
       "      <td>0</td>\n",
       "      <td>1</td>\n",
       "      <td>0.0</td>\n",
       "      <td>0.0</td>\n",
       "      <td>3595.8940</td>\n",
       "      <td>0.133262</td>\n",
       "    </tr>\n",
       "    <tr>\n",
       "      <th>NSW3</th>\n",
       "      <td>1</td>\n",
       "      <td>30</td>\n",
       "      <td>12</td>\n",
       "      <td>1</td>\n",
       "      <td>0</td>\n",
       "      <td>0</td>\n",
       "      <td>0</td>\n",
       "      <td>0.0</td>\n",
       "      <td>0.0</td>\n",
       "      <td>24909.4500</td>\n",
       "      <td>0.724404</td>\n",
       "    </tr>\n",
       "    <tr>\n",
       "      <th>NSW4</th>\n",
       "      <td>1</td>\n",
       "      <td>27</td>\n",
       "      <td>11</td>\n",
       "      <td>1</td>\n",
       "      <td>0</td>\n",
       "      <td>0</td>\n",
       "      <td>1</td>\n",
       "      <td>0.0</td>\n",
       "      <td>0.0</td>\n",
       "      <td>7506.1460</td>\n",
       "      <td>0.660355</td>\n",
       "    </tr>\n",
       "    <tr>\n",
       "      <th>NSW5</th>\n",
       "      <td>1</td>\n",
       "      <td>33</td>\n",
       "      <td>8</td>\n",
       "      <td>1</td>\n",
       "      <td>0</td>\n",
       "      <td>0</td>\n",
       "      <td>1</td>\n",
       "      <td>0.0</td>\n",
       "      <td>0.0</td>\n",
       "      <td>289.7899</td>\n",
       "      <td>0.696809</td>\n",
       "    </tr>\n",
       "  </tbody>\n",
       "</table>\n",
       "</div>"
      ],
      "text/plain": [
       "      treat  age  educ  black  hispan  married  nodegree  re74  re75  \\\n",
       "id                                                                     \n",
       "NSW1      1   37    11      1       0        1         1   0.0   0.0   \n",
       "NSW2      1   22     9      0       1        0         1   0.0   0.0   \n",
       "NSW3      1   30    12      1       0        0         0   0.0   0.0   \n",
       "NSW4      1   27    11      1       0        0         1   0.0   0.0   \n",
       "NSW5      1   33     8      1       0        0         1   0.0   0.0   \n",
       "\n",
       "            re78       psm  \n",
       "id                          \n",
       "NSW1   9930.0460  0.432245  \n",
       "NSW2   3595.8940  0.133262  \n",
       "NSW3  24909.4500  0.724404  \n",
       "NSW4   7506.1460  0.660355  \n",
       "NSW5    289.7899  0.696809  "
      ]
     },
     "execution_count": 103,
     "metadata": {},
     "output_type": "execute_result"
    }
   ],
   "source": [
    "# Run the following code to see the result\n",
    "lalonde.head()"
   ]
  },
  {
   "cell_type": "code",
   "execution_count": 104,
   "metadata": {},
   "outputs": [],
   "source": [
    "#<-- Write Your Code -->\n",
    "\n",
    "# For each tuple in the control group, find the matching tuple in the treatment group, and then compute\n",
    "# the ATE over the population\n",
    "# Please match tuples with the metric |psm1 - psm2| to be minimum, threhold set to 0.01\n",
    "# Output: the value of ATE, the count of tuples that can be matched, as well as the percentage\n",
    "\n",
    "df1 = lalonde[lalonde['treat']==1]\n",
    "df0 = lalonde[lalonde['treat']==0]\n",
    "# create two lists to store the qualified matches' re78 for calculating ATE\n",
    "re78_treat = []\n",
    "re78_untreat = []\n",
    "for i in range(len(df0)):\n",
    "    psm1 = float(df0.iloc[[i]]['psm'])\n",
    "    diffs = []\n",
    "    re78s = []\n",
    "    for j in range(len(df1)):\n",
    "        psm2 = float(df1.iloc[[j]]['psm'])\n",
    "        re78 = float(df1.iloc[[j]]['re78'])\n",
    "        diff = abs(psm1-psm2)\n",
    "        diffs.append(diff)\n",
    "        re78s.append(re78)\n",
    "    if min(diffs)<0.01:\n",
    "        re78_treat.append(re78s[diffs.index(min(diffs))])\n",
    "        re78_untreat.append(float(df0.iloc[[i]]['re78']))\n",
    "count = len(re78_treat)\n",
    "percentage = count/len(df0)*100\n",
    "ATE = (np.array(re78_treat)-np.array(re78_untreat)).mean()"
   ]
  },
  {
   "cell_type": "code",
   "execution_count": 105,
   "metadata": {},
   "outputs": [
    {
     "name": "stdout",
     "output_type": "stream",
     "text": [
      "ATE by propensity score matching is 857.9221293103449\n",
      "Count of tuples which can be computed by propensity score matching is 377\n",
      "Percentage of such tuples among all PSID tuples is 87.87878787878788\n"
     ]
    }
   ],
   "source": [
    "# Run the following code to print out the result\n",
    "print(\"ATE by propensity score matching is \" + str(ATE))\n",
    "print(\"Count of tuples which can be computed by propensity score matching is \" + str(count))\n",
    "print(\"Percentage of such tuples among all PSID tuples is \" + str(percentage))"
   ]
  },
  {
   "cell_type": "markdown",
   "metadata": {},
   "source": [
    "### 2.4 Linear Regression\n",
    "Train two individual models to fit P(y|t = 1,X) and P(y|t = 0,X), then infer the counterfactual outcome using two models while setting treatment to the opposite value. Infer the ATE over the population."
   ]
  },
  {
   "cell_type": "code",
   "execution_count": 106,
   "metadata": {},
   "outputs": [],
   "source": [
    "# <-- Write Your Code -->\n",
    "\n",
    "# Train two individual linear regression models and infer the counterfactual result for each tuple\n",
    "# Output: the value of ATE, over the population\n",
    "\n",
    "from sklearn.linear_model import LinearRegression\n",
    "import statistics\n",
    "\n",
    "df0 = lalonde[lalonde['treat'] == 0]\n",
    "df1 = lalonde[lalonde['treat'] == 1]\n",
    "\n",
    "x0 = df0[lalonde.columns[1:-2]]\n",
    "y0 = df0[lalonde.columns[-2]]\n",
    "x1 = df1[lalonde.columns[1:-2]]\n",
    "y1 = df1[lalonde.columns[-2]]\n",
    "\n",
    "lr0 = LinearRegression().fit(x0, y0)\n",
    "lr1 = LinearRegression().fit(x1, y1)\n",
    "\n",
    "predict0 = lr1.predict(x0)\n",
    "predict1 = lr0.predict(x1)\n",
    "\n",
    "\n",
    "diff0 = predict0-df0['re78']\n",
    "diff1 = df1['re78']-predict1\n",
    "\n",
    "total = diff0.values.tolist()+diff1.values.tolist()\n",
    "ATE = statistics.mean(total)"
   ]
  },
  {
   "cell_type": "code",
   "execution_count": 107,
   "metadata": {},
   "outputs": [
    {
     "name": "stdout",
     "output_type": "stream",
     "text": [
      "ATE by linear regression is 1074.908541395932\n"
     ]
    }
   ],
   "source": [
    "# Run following code to print out the result\n",
    "print(\"ATE by linear regression is \" + str(ATE))"
   ]
  },
  {
   "cell_type": "markdown",
   "metadata": {},
   "source": [
    "# Please briefly discuss the advantages and disadvantages of the above four approaches."
   ]
  },
  {
   "cell_type": "markdown",
   "metadata": {},
   "source": [
    "**A.** \n",
    "â– Matching based:\n",
    "âž¢ Perfect matching (strickly)\n",
    "âž¢ Nearest neighbor matching(medium)\n",
    "âž¢ Propensity score matching (easy)\n",
    "â– ML based:\n",
    "âž¢ Regression method"
   ]
  },
  {
   "cell_type": "markdown",
   "metadata": {},
   "source": [
    "## Task 3. DoWhy\n",
    "In this task, you are required to apply DoWhy and analyze the dataset using two ATE estimation methods."
   ]
  },
  {
   "cell_type": "code",
   "execution_count": 108,
   "metadata": {},
   "outputs": [
    {
     "name": "stderr",
     "output_type": "stream",
     "text": [
      "Causal Graph not provided. DoWhy will construct a graph based on data inputs.\n",
      "Model to find the causal effect of treatment ['treat'] on outcome ['re78']\n"
     ]
    }
   ],
   "source": [
    "from dowhy import CausalModel\n",
    "lalonde['treat'] = lalonde['treat'].astype(bool)\n",
    "model=CausalModel(\n",
    "        data = lalonde,\n",
    "        treatment='treat',\n",
    "        outcome='re78',\n",
    "        common_causes='nodegree+black+hisp+age+educ+married'.split('+'))"
   ]
  },
  {
   "cell_type": "code",
   "execution_count": 109,
   "metadata": {},
   "outputs": [
    {
     "name": "stderr",
     "output_type": "stream",
     "text": [
      "Common causes of treatment and outcome:['educ', 'black', 'age', 'married', 'hisp', 'nodegree']\n",
      "If this is observed data (not from a randomized experiment), there might always be missing confounders. Causal effect cannot be identified perfectly.\n",
      "Continuing by ignoring these unobserved confounders because proceed_when_unidentifiable flag is True.\n",
      "Instrumental variables for treatment and outcome:[]\n",
      "INFO: Using Linear Regression Estimator\n",
      "b: re78~treat+educ+black+age+married+nodegree\n",
      "INFO: Using Propensity Score Matching Estimator\n",
      "b: re78~treat+educ+black+age+married+nodegree\n",
      "/Users/kezhou/opt/anaconda3/lib/python3.7/site-packages/sklearn/utils/validation.py:760: DataConversionWarning: A column-vector y was passed when a 1d array was expected. Please change the shape of y to (n_samples, ), for example using ravel().\n",
      "  y = column_or_1d(y, warn=True)\n"
     ]
    }
   ],
   "source": [
    "# <-- Write Your Code -->\n",
    "\n",
    "# Use the linear regression and PSM methods provided by DoWhy to estimate ATE\n",
    "# Output: ATE_linear, ATE_psm\n",
    "\n",
    "identified_estimand = model.identify_effect(proceed_when_unidentifiable=True)\n",
    "\n",
    "ATE_linear = model.estimate_effect(\n",
    "    identified_estimand, method_name=\"backdoor.linear_regression\").value\n",
    "ATE_psm = model.estimate_effect(\n",
    "    identified_estimand, method_name=\"backdoor.propensity_score_matching\").value"
   ]
  },
  {
   "cell_type": "code",
   "execution_count": 110,
   "metadata": {},
   "outputs": [
    {
     "name": "stdout",
     "output_type": "stream",
     "text": [
      "ATE by linear regression is 1203.0914513083135\n",
      "ATE by psm is 73.62268737785037\n"
     ]
    }
   ],
   "source": [
    "# Run following code to print out the result\n",
    "print(\"ATE by linear regression is \" + str(ATE_linear))\n",
    "print(\"ATE by psm is \" + str(ATE_psm))"
   ]
  },
  {
   "cell_type": "markdown",
   "metadata": {},
   "source": [
    "Briefly explain why the result by DoWhy is not same as the result by your own implementation."
   ]
  },
  {
   "cell_type": "markdown",
   "metadata": {},
   "source": [
    "**A.** Because of causal graph that Dowhy generates automatically. The variables infered to use by Dowhy is different from the ones I used"
   ]
  },
  {
   "cell_type": "markdown",
   "metadata": {},
   "source": [
    "## Submission"
   ]
  },
  {
   "cell_type": "markdown",
   "metadata": {},
   "source": [
    "Complete the code in this notebook, and submit it to the CourSys activity Assignment 9."
   ]
  },
  {
   "cell_type": "code",
   "execution_count": null,
   "metadata": {},
   "outputs": [],
   "source": [
    "estimate = model.estimate_effect(model.identify_effect(proceed_when_unidentifiable=True),method_name=\"backdoor.linear_regression\")\n",
    "\n",
    "ATE_linear=estimate.value\n",
    "\n",
    "estimate = model.estimate_effect(model.identify_effect(proceed_when_unidentifiable=True),method_name=\"backdoor.propensity_score_matching\")\n",
    "\n",
    "ATE_psm=estimate.value"
   ]
  }
 ],
 "metadata": {
  "kernelspec": {
   "display_name": "Python 3",
   "language": "python",
   "name": "python3"
  },
  "language_info": {
   "codemirror_mode": {
    "name": "ipython",
    "version": 3
   },
   "file_extension": ".py",
   "mimetype": "text/x-python",
   "name": "python",
   "nbconvert_exporter": "python",
   "pygments_lexer": "ipython3",
   "version": "3.7.4"
  },
  "toc": {
   "base_numbering": 1,
   "nav_menu": {},
   "number_sections": true,
   "sideBar": true,
   "skip_h1_title": false,
   "title_cell": "Table of Contents",
   "title_sidebar": "Contents",
   "toc_cell": false,
   "toc_position": {},
   "toc_section_display": true,
   "toc_window_display": false
  }
 },
 "nbformat": 4,
 "nbformat_minor": 2
}