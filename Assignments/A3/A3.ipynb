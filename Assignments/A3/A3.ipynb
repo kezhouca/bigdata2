<!DOCTYPE html><html>
<head>
    <title>Sign In - CAS &#8211; Central Authentication Service</title>
    <meta charset="UTF-8"/><meta http-equiv="X-UA-Compatible" content="IE=edge"/><meta name="viewport" content="width=device-width, initial-scale=1, shrink-to-fit=no"/><link rel="stylesheet" href="/cas/webjars/font-awesome/5.0.13/web-fonts-with-css/css/fontawesome-all.min.css"/><link type="text/css" rel="stylesheet" href="/cas/webjars/lato/0.3.0/css/lato.min.css"/><link rel="stylesheet" href="/cas/css/cas.css"/><link rel="shortcut icon" href="/cas/images/favicon.ico" /><script type="text/javascript" src="/cas/webjars/jquery/3.3.1/jquery.min.js"></script>

    
    <link  href="/cas/css/sfu-overlay.css" rel="stylesheet"/><script src="/cas/js/sfu-overlay.js" type="text/javascript"></script>
<meta http-equiv="X-UA-Compatible" content="IE=edge"/><meta name="viewport" content="width=device-width, initial-scale=1, shrink-to-fit=no"/><meta charset="utf-8" http-equiv="refresh" content="300;url=../lt-timeout.html" /></head>

<body class="login">
<header role="banner">
        <div class="grid sfu-header">
            <div class="row">
                <div class="col sm-12">
                    <a href="http://www.sfu.ca">
                        <div class="sfu-logo"><h1>Simon Fraser University</h1></div>
                    </a>
                    <div class="sfu-service-name">
                        <h1>CourSys</h1>
                        </div>
                </div>
            </div>
            <div class="row sm-banner"></div>
        </div>
    </header>

<main role="main" class="container mt-3 mb-3">
    <div id="content" class="row">
        <div class="col-lg">
            <div class="card form-background">
                <div class="sfu-login-form">
                    <div class="card-header text-center">
                        <h2>Sign In</h2>
                        <span class="fa-stack fa-2x hidden-xs">
                        <i class="fa fa-circle fa-stack-2x"></i>
                        <i class="fa fa-lock fa-stack-1x fa-inverse"></i>
                        </span>
                    </div>
                    <div class="card-body">
                        <form method="post" id="fm1" action="login">
                            <section class="form-group">
                                <label for="username"><span class="accesskey">U</span>sername:</label>

                                <div>
                                    <input class="form-control required"
                                        id="username"
                                        size="25"
                                        tabindex="1"
                                        type="text"
                                        accesskey="u"
                                        autocomplete="off" name="username" value=""/></div>
                            </section>

                            <section class="form-group">
                                <label for="password"><span class="accesskey">P</span>assword:</label>

                                <div>
                                    <input class="form-control required"
                                        type="password"
                                        id="password"
                                        size="25"
                                        tabindex="2"
                                        accesskey="p"
                                        autocomplete="off" name="password" value=""/><span id="capslock-on" style="display:none;">
                                    <p>
                                        <i class="fa fa-exclamation-circle"></i>
                                        <span>CAPSLOCK key is turned on!</span>
                                    </p>
                                </span>
                                </div>
                            </section>

                            <input type="hidden" name="execution" value="8e4233e9-5cd7-492c-91c1-d609ae6df594_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"/><input type="hidden" name="_eventId" value="submit"/><input type="hidden" name="geolocation"/><input class="btn btn-block btn-submit"
                                name="submit"
                                accesskey="l"
                                tabindex="6"
                                type="submit"
                                value="Sign In"
                            /></form>
                    </div>
                </div>
                <div class="sfu-password-information">
                    <div>
                        <span class="fa fa-question-circle"></span>
                        <span>Forgot your <a href="https://my.sfu.ca/ForgotPassword">password</a> or <a href="https://my.sfu.ca/ForgotUsername">computing ID</a>?<br /><a href="https://my.sfu.ca/ChangePassword">Change your password</a><br /><a href="http://www.sfu.ca/itservices.html">Need help?</a></span>
                        <p/></div>

                    <script type="text/javascript">
                        var i = "One moment please..."
                        $( document ).ready(function() {
                            $("#fm1").submit(function () {
                                $(":submit").attr("disabled", true);
                                $(":submit").attr("value", i);
                                console.log(i);
                                return true;
                            });
                        });
                    </script>

                    <div id="sidebar">
        <div class="sidebar-content">
            <p><h4>Protect your Password</h4><p>SFU will never request our users provide or confirm their Computing ID or password via email or by going to any web site. SFU users should ignore all messages requesting Computing ID and/or password information, no matter how authentic they may appear. <a href="https://www.sfu.ca/itservices/info_security/phishing_scams.html">More information on phishing</a>.</p><p>Always check that your browser shows a closed lock icon and that the URL of this page starts with <strong>https://cas.sfu.ca</strong> and not some other address.</p><p>If you're not sure, <strong>do not enter your password.</strong></p></p>
        </div>
    </div>
                </div>
            </div>
        </div>
        <!--
        <div th:replace="fragments/serviceui :: serviceUI">
            <a href="fragments/serviceui.html">service ui fragment</a>
        </div>
        --><!--
        <div id="notices" class="col-md mt-3 mt-md-0"  th:if="${delegatedAuthenticationProviderDominant == null}">
            <div th:replace="fragments/insecure :: insecure">
                <a href="fragments/insecure.html">insecure alert goeshere</a>
            </div>
            <div th:replace="fragments/defaultauthn :: staticAuthentication">
                <a href="fragments/defaultauthn.html">defaultAuthn</a>
            </div>
            <div th:replace="fragments/cookies :: cookiesDisabled">
                <a href="fragments/cookies.html">cookies fragment</a>
            </div>
            <div th:replace="fragments/serviceui :: serviceUI">
                <a href="fragments/serviceui.html">service ui fragment</a>
            </div>
            <div th:replace="fragments/cas-resources-list :: cas-resource-list">
                <a href="fragments/cas-resources-list.html">cas-resource</a> list fragment
            </div>
        </div>
        <div id="providers" class="col-md mt-3 mt-md-0">
            <div th:replace="fragments/loginProviders :: loginProviders">
                <a href="fragments/loginProviders.html">loginProviders</a>
            </div>
        </div>
        --></div>
</main>

<footer class="footer" role="contentinfo">
        <div class="sfu-home-links">
            <h4><a href="https://www.sfu.ca/itservices/publishing/publish_howto/enhanced_web_publishing/cas1.html">IT Services</a></h4>
            <ul>
                <li><a href="https://www.sfu.ca/main/admission.html">Admission</a></li>
                <li><a href="https://www.sfu.ca/main/programs.html">Programs</a></li>
                <li><a href="https://www.sfu.ca/main/learning.html">Learning</a></li>
                <li><a href="https://www.sfu.ca/main/research-at-sfu.html">Research</a></li>
                <li><a href="https://www.sfu.ca/main/sfu-community.html">Community</a></li>
                <li><a href="https://www.sfu.ca/main/about.html">About</a></li>
            </ul>
        </div>
        <div class="sfu-contact">
            <h4>Contact Us</h4>
            <p><strong>IT Services</strong></p>
            <p>
                Strand Hall 1001<br />
                8888 University Drive<br />
                Burnaby, B.C.<br />
                Canada. V5A 1S6
            </p>
        </div>

        <div class="sfu-links">
            <div class="h-line"></div>
            <ul>
                <li><a href="https://www.sfu.ca/srs">Safety &amp; Risk</a></li>
                <li><a href="https://www.sfu.ca/campuses/maps-and-directions">SFU Maps &amp; Directions</a></li>
                <li><a href="https://www.sfu.ca/admission">SFU Admissions</a></li>
                <li><a href="http://www.sfu.ca/security/sfuroadconditions/">Road Report</a></li>
                <li><a href="https://give.sfu.ca">Give to SFU</a></li>
                <li><a href="https://www.sfu.ca/contact/terms-conditions">Terms and conditions</a></li>
                <li><a href="https://www.sfu.ca/" class="muted">© Simon Fraser University</a></li>
            </ul>
        </div>
        <div class="sfu-logo-acknowledge">
            <img src="/cas/images/logo-stacked.png" id="footer-logo-img" alt=""><p style="color:#eee;">We would like to acknowledge that at Simon Fraser University we live and work on the unceded traditional territories of the Coast Salish peoples of the Musqueam, Squamish, and Tsleil-Waututh&nbsp;Nations.</p>
        </div>
                
    </footer>

<script type="text/javascript" src="/cas/webjars/zxcvbn/4.3.0/zxcvbn.js"></script>
<script type="text/javascript" src="/cas/webjars/jquery-ui/1.12.1/jquery-ui.min.js"></script>
<script type="text/javascript" src="/cas/webjars/jquery-cookie/1.4.1-1/jquery.cookie.js"></script>
<script src="/cas/webjars/bootstrap/4.1.0/js/bootstrap.bundle.min.js"></script>

<script src="/cas/webjars/headjs/1.0.3/head.min.js"></script>
<script src="/cas/webjars/store.js/1.3.17/store.min.js"></script>
<script type="text/javascript" src="/cas/js/cas.js"></script>

<script>
head.ready(document, function () {
    if (!window.jQuery) {
    	var jqueryUrl = "\/cas\/webjars\/jquery\/3.3.1\/jquery.min.js"; 
        head.load(jqueryUrl, loadjQueryUI);
    } else {
        notifyResourcesAreLoaded(resourceLoadedSuccessfully);
    }
});

function loadjQueryUI() {
	var jqueryUrl = "\/cas\/webjars\/jquery-ui\/1.12.1\/jquery-ui.min.js"; 
	head.load(jqueryUrl, loadjQueryCookies);
}

function loadjQueryCookies() {
	var jqueryUrl = "\/cas\/webjars\/jquery-cookie\/1.4.1-1\/jquery.cookie.js"; 
	head.load(jqueryUrl, notifyResourcesAreLoaded(resourceLoadedSuccessfully));
}

function notifyResourcesAreLoaded(callback) {
    if (typeof callback === "function") {
        callback();
    }
}
</script>

<script>
    /*<![CDATA[*/

    var trackGeoLocation = false;

    var googleAnalyticsTrackingId = null;

    if (googleAnalyticsTrackingId != null && googleAnalyticsTrackingId != '') {
        (function(i,s,o,g,r,a,m){i['GoogleAnalyticsObject']=r;i[r]=i[r]||function(){
            (i[r].q=i[r].q||[]).push(arguments)},i[r].l=1*new Date();a=s.createElement(o),
            m=s.getElementsByTagName(o)[0];a.async=1;a.src=g;m.parentNode.insertBefore(a,m)
        })(window, document, 'script', 'https://www.google-analytics.com/analytics.js', 'ga');

        ga('create', googleAnalyticsTrackingId, 'auto');
        ga('send', 'pageview');
    }

    /*]]>*/
</script>

<!-- /*Fragment for template-specific includes */--></body>
</html>
