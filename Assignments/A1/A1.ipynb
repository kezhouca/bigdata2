{
 "cells": [
  {
   "cell_type": "markdown",
   "metadata": {},
   "source": [
    "# Assignment 1: Web Scraping"
   ]
  },
  {
   "cell_type": "markdown",
   "metadata": {},
   "source": [
    "## Objective"
   ]
  },
  {
   "cell_type": "markdown",
   "metadata": {},
   "source": [
    "Data scientists often need to crawl data from websites and turn the crawled data (HTML pages) to structured data (tables). Thus, web scraping is an essential skill that every data scientist should master. In this assignment, you will learn the followings:\n",
    "\n",
    "\n",
    "* How to download HTML pages from a website?\n",
    "* How to extract relevant content from an HTML page? \n",
    "\n",
    "Furthermore, you will gain a deeper understanding of the data science lifecycle.\n",
    "\n",
    "**Requirements:**\n",
    "\n",
    "1. Please use [pandas.DataFrame](http://pandas.pydata.org/pandas-docs/stable/generated/pandas.DataFrame.html) rather than spark.DataFrame to manipulate data.\n",
    "\n",
    "2. Please use [BeautifulSoup](https://www.crummy.com/software/BeautifulSoup/) rather than [lxml](http://lxml.de/) to parse an HTML page and extract data from the page.\n",
    "\n",
    "3. Please follow python code style (https://www.python.org/dev/peps/pep-0008/). If TA finds your code hard to read, you will lose points. This requirement will stay for the whole semester."
   ]
  },
  {
   "cell_type": "markdown",
   "metadata": {},
   "source": [
    "## Preliminary"
   ]
  },
  {
   "cell_type": "markdown",
   "metadata": {},
   "source": [
    "If this is your first time to write a web scraper, you need to learn some basic knowledge of this topic. I found that this is a good resource: [Tutorial: Web Scraping and BeautifulSoup](https://www.dataquest.io/blog/web-scraping-beautifulsoup/). \n",
    "\n",
    "Please let me know if you find a better resource. I'll share it with the other students."
   ]
  },
  {
   "cell_type": "markdown",
   "metadata": {},
   "source": [
    "## Overview"
   ]
  },
  {
   "cell_type": "markdown",
   "metadata": {},
   "source": [
    "Imagine you are a data scientist working at SFU. Your job is to extract insights from SFU data to answer questions. \n",
    "\n",
    "In this assignment, you will do two tasks. Please recall the high-level data science lifecycle below. I suggest that when doing this assignment, please remind yourself of what data you collected and what questions you tried to answer.\n",
    "\n",
    "\n",
    "<img src=\"lifecycle.png\" width=\"500\">\n",
    "<center><h4>Figure 1. Data Science Lifecycle</h4></center>"
   ]
  },
  {
   "cell_type": "markdown",
   "metadata": {},
   "source": [
    "## Task 1: SFU CS Faculty Members"
   ]
  },
  {
   "cell_type": "markdown",
   "metadata": {},
   "source": [
    "Sometimes you don't know what questions to ask. No worries. Start collecting data first. \n",
    "\n",
    "In Task 1, your job is to write a web scraper to extract the faculty information from this page: [https://www.sfu.ca/computing/people/faculty.html](https://www.sfu.ca/computing/people/faculty.html).\n",
    "\n",
    "\n"
   ]
  },
  {
   "cell_type": "markdown",
   "metadata": {},
   "source": [
    "### (a) Crawl Web Page"
   ]
  },
  {
   "cell_type": "markdown",
   "metadata": {},
   "source": [
    "A web page is essentially a file stored in a remote machine (called web server). Please write code to download the HTML page and save it as a text file (\"csfaculty.html\")."
   ]
  },
  {
   "cell_type": "code",
   "execution_count": 1,
   "metadata": {},
   "outputs": [],
   "source": [
    "from requests import get\n",
    "url = 'https://www.sfu.ca/computing/people/faculty.html'\n",
    "response = get(url)\n",
    "with open('csfaculty.html', 'w') as file:\n",
    "    file.write(response.text)"
   ]
  },
  {
   "cell_type": "markdown",
   "metadata": {},
   "source": [
    "### (b) Extract Structured Data"
   ]
  },
  {
   "cell_type": "markdown",
   "metadata": {},
   "source": [
    "Please write code to extract relevant content (name, rank, area, profile, homepage) from \"csfaculty.html\" and save them as a CSV file (like [faculty_table.csv](./faculty_table.csv)). "
   ]
  },
  {
   "cell_type": "code",
   "execution_count": 2,
   "metadata": {},
   "outputs": [
    {
     "ename": "IndexError",
     "evalue": "list index out of range",
     "output_type": "error",
     "traceback": [
      "\u001b[0;31m---------------------------------------------------------------------------\u001b[0m",
      "\u001b[0;31mIndexError\u001b[0m                                Traceback (most recent call last)",
      "\u001b[0;32m<ipython-input-2-087aa27f5ae4>\u001b[0m in \u001b[0;36m<module>\u001b[0;34m\u001b[0m\n\u001b[1;32m     15\u001b[0m     \u001b[0mname_rank\u001b[0m \u001b[0;34m=\u001b[0m \u001b[0mmember\u001b[0m\u001b[0;34m.\u001b[0m\u001b[0mh4\u001b[0m\u001b[0;34m.\u001b[0m\u001b[0mtext\u001b[0m\u001b[0;34m.\u001b[0m\u001b[0msplit\u001b[0m\u001b[0;34m(\u001b[0m\u001b[0;34m', '\u001b[0m\u001b[0;34m)\u001b[0m\u001b[0;34m\u001b[0m\u001b[0;34m\u001b[0m\u001b[0m\n\u001b[1;32m     16\u001b[0m     \u001b[0mname\u001b[0m \u001b[0;34m=\u001b[0m \u001b[0mname_rank\u001b[0m\u001b[0;34m[\u001b[0m\u001b[0;36m0\u001b[0m\u001b[0;34m]\u001b[0m\u001b[0;34m\u001b[0m\u001b[0;34m\u001b[0m\u001b[0m\n\u001b[0;32m---> 17\u001b[0;31m     \u001b[0mrank\u001b[0m \u001b[0;34m=\u001b[0m \u001b[0mname_rank\u001b[0m\u001b[0;34m[\u001b[0m\u001b[0;36m1\u001b[0m\u001b[0;34m]\u001b[0m\u001b[0;34m.\u001b[0m\u001b[0mreplace\u001b[0m\u001b[0;34m(\u001b[0m\u001b[0;34mu'\\xa0'\u001b[0m\u001b[0;34m,\u001b[0m \u001b[0;34m''\u001b[0m\u001b[0;34m)\u001b[0m\u001b[0;34m.\u001b[0m\u001b[0mreplace\u001b[0m\u001b[0;34m(\u001b[0m\u001b[0;34m'\\n'\u001b[0m\u001b[0;34m,\u001b[0m \u001b[0;34m''\u001b[0m\u001b[0;34m)\u001b[0m\u001b[0;34m\u001b[0m\u001b[0;34m\u001b[0m\u001b[0m\n\u001b[0m\u001b[1;32m     18\u001b[0m     \u001b[0;32mif\u001b[0m \u001b[0;34m'Area:'\u001b[0m \u001b[0;32min\u001b[0m \u001b[0mrank\u001b[0m\u001b[0;34m:\u001b[0m\u001b[0;34m\u001b[0m\u001b[0;34m\u001b[0m\u001b[0m\n\u001b[1;32m     19\u001b[0m         \u001b[0mtemp\u001b[0m \u001b[0;34m=\u001b[0m \u001b[0mrank\u001b[0m\u001b[0;34m.\u001b[0m\u001b[0msplit\u001b[0m\u001b[0;34m(\u001b[0m\u001b[0;34m'Area:'\u001b[0m\u001b[0;34m)\u001b[0m\u001b[0;34m\u001b[0m\u001b[0;34m\u001b[0m\u001b[0m\n",
      "\u001b[0;31mIndexError\u001b[0m: list index out of range"
     ]
    }
   ],
   "source": [
    "import pandas as pd\n",
    "from bs4 import BeautifulSoup\n",
    "names = []\n",
    "ranks = []\n",
    "areas = []\n",
    "profiles = []\n",
    "homepages = []\n",
    "\n",
    "with open('csfaculty.html', 'r') as file:\n",
    "    contents = file.read()\n",
    "    soup = BeautifulSoup(contents, 'lxml')\n",
    "members = soup.find_all('div', class_=\"textimage section\")\n",
    "members = members[:-1]  # remove the last member\n",
    "for member in members:\n",
    "    name_rank = member.h4.text.split(', ')\n",
    "    name = name_rank[0]\n",
    "    rank = name_rank[1].replace(u'\\xa0', '').replace('\\n', '')\n",
    "    if 'Area:' in rank:\n",
    "        temp = rank.split('Area:')\n",
    "        rank = temp[0]\n",
    "        area = temp[1]\n",
    "    else:\n",
    "        area = member.p.text.replace('Area', '').replace(\n",
    "            ':', '').strip()\n",
    "    links = member.find_all('a', href=True)\n",
    "    profile = ''\n",
    "    homepage = ''\n",
    "    for l in links:\n",
    "        if 'Profile' in l.text:\n",
    "            if 'http://www.sfu.ca' in l['href']:\n",
    "                profile = l['href']\n",
    "            else:\n",
    "                profile = 'http://www.sfu.ca'+l['href']\n",
    "        elif l.text == 'Home Page':\n",
    "            homepage = l['href']\n",
    "    names.append(name)\n",
    "    ranks.append(rank)\n",
    "    areas.append(area)\n",
    "    profiles.append(profile)\n",
    "    homepages.append(homepage)\n",
    "df = pd.DataFrame({'name': names,\n",
    "                   'rank': ranks,\n",
    "                   'area': areas,\n",
    "                   'profile': profiles,\n",
    "                   'homepage': homepages\n",
    "                   })\n",
    "df.to_csv('faculty_table_test.csv', index=False)"
   ]
  },
  {
   "cell_type": "code",
   "execution_count": null,
   "metadata": {},
   "outputs": [],
   "source": []
  },
  {
   "cell_type": "markdown",
   "metadata": {},
   "source": [
    "### (c) Interesting Finding"
   ]
  },
  {
   "cell_type": "markdown",
   "metadata": {},
   "source": [
    "Note that you don't need to do anything for Task 1(c). The purpose of this part is to give you some sense about how to leverage exploratory data analysis (EDA) to come up with interesting questions about the data. EDA is an important topic in data science; you will  learn it soon from this course. \n",
    "\n",
    "\n",
    "First, please install [dataprep](http://dataprep.ai).\n",
    "Then, run the cell below. \n",
    "It shows a bar chart for every column. What intersting findings can you get from these visualizations? "
   ]
  },
  {
   "cell_type": "code",
   "execution_count": 1,
   "metadata": {},
   "outputs": [
    {
     "name": "stderr",
     "output_type": "stream",
     "text": [
      "/Library/Frameworks/Python.framework/Versions/3.8/lib/python3.8/site-packages/holoviews/plotting/util.py:685: MatplotlibDeprecationWarning: The global colormaps dictionary is no longer considered public API.\n",
      "  [cmap for cmap in cm.cmap_d if not\n"
     ]
    },
    {
     "data": {
      "application/javascript": [
       "\n",
       "(function(root) {\n",
       "  function now() {\n",
       "    return new Date();\n",
       "  }\n",
       "\n",
       "  var force = true;\n",
       "\n",
       "  if (typeof root._bokeh_onload_callbacks === \"undefined\" || force === true) {\n",
       "    root._bokeh_onload_callbacks = [];\n",
       "    root._bokeh_is_loading = undefined;\n",
       "  }\n",
       "\n",
       "  var JS_MIME_TYPE = 'application/javascript';\n",
       "  var HTML_MIME_TYPE = 'text/html';\n",
       "  var EXEC_MIME_TYPE = 'application/vnd.bokehjs_exec.v0+json';\n",
       "  var CLASS_NAME = 'output_bokeh rendered_html';\n",
       "\n",
       "  /**\n",
       "   * Render data to the DOM node\n",
       "   */\n",
       "  function render(props, node) {\n",
       "    var script = document.createElement(\"script\");\n",
       "    node.appendChild(script);\n",
       "  }\n",
       "\n",
       "  /**\n",
       "   * Handle when an output is cleared or removed\n",
       "   */\n",
       "  function handleClearOutput(event, handle) {\n",
       "    var cell = handle.cell;\n",
       "\n",
       "    var id = cell.output_area._bokeh_element_id;\n",
       "    var server_id = cell.output_area._bokeh_server_id;\n",
       "    // Clean up Bokeh references\n",
       "    if (id != null && id in Bokeh.index) {\n",
       "      Bokeh.index[id].model.document.clear();\n",
       "      delete Bokeh.index[id];\n",
       "    }\n",
       "\n",
       "    if (server_id !== undefined) {\n",
       "      // Clean up Bokeh references\n",
       "      var cmd = \"from bokeh.io.state import curstate; print(curstate().uuid_to_server['\" + server_id + \"'].get_sessions()[0].document.roots[0]._id)\";\n",
       "      cell.notebook.kernel.execute(cmd, {\n",
       "        iopub: {\n",
       "          output: function(msg) {\n",
       "            var id = msg.content.text.trim();\n",
       "            if (id in Bokeh.index) {\n",
       "              Bokeh.index[id].model.document.clear();\n",
       "              delete Bokeh.index[id];\n",
       "            }\n",
       "          }\n",
       "        }\n",
       "      });\n",
       "      // Destroy server and session\n",
       "      var cmd = \"import bokeh.io.notebook as ion; ion.destroy_server('\" + server_id + \"')\";\n",
       "      cell.notebook.kernel.execute(cmd);\n",
       "    }\n",
       "  }\n",
       "\n",
       "  /**\n",
       "   * Handle when a new output is added\n",
       "   */\n",
       "  function handleAddOutput(event, handle) {\n",
       "    var output_area = handle.output_area;\n",
       "    var output = handle.output;\n",
       "\n",
       "    // limit handleAddOutput to display_data with EXEC_MIME_TYPE content only\n",
       "    if ((output.output_type != \"display_data\") || (!output.data.hasOwnProperty(EXEC_MIME_TYPE))) {\n",
       "      return\n",
       "    }\n",
       "\n",
       "    var toinsert = output_area.element.find(\".\" + CLASS_NAME.split(' ')[0]);\n",
       "\n",
       "    if (output.metadata[EXEC_MIME_TYPE][\"id\"] !== undefined) {\n",
       "      toinsert[toinsert.length - 1].firstChild.textContent = output.data[JS_MIME_TYPE];\n",
       "      // store reference to embed id on output_area\n",
       "      output_area._bokeh_element_id = output.metadata[EXEC_MIME_TYPE][\"id\"];\n",
       "    }\n",
       "    if (output.metadata[EXEC_MIME_TYPE][\"server_id\"] !== undefined) {\n",
       "      var bk_div = document.createElement(\"div\");\n",
       "      bk_div.innerHTML = output.data[HTML_MIME_TYPE];\n",
       "      var script_attrs = bk_div.children[0].attributes;\n",
       "      for (var i = 0; i < script_attrs.length; i++) {\n",
       "        toinsert[toinsert.length - 1].firstChild.setAttribute(script_attrs[i].name, script_attrs[i].value);\n",
       "        toinsert[toinsert.length - 1].firstChild.textContent = bk_div.children[0].textContent\n",
       "      }\n",
       "      // store reference to server id on output_area\n",
       "      output_area._bokeh_server_id = output.metadata[EXEC_MIME_TYPE][\"server_id\"];\n",
       "    }\n",
       "  }\n",
       "\n",
       "  function register_renderer(events, OutputArea) {\n",
       "\n",
       "    function append_mime(data, metadata, element) {\n",
       "      // create a DOM node to render to\n",
       "      var toinsert = this.create_output_subarea(\n",
       "        metadata,\n",
       "        CLASS_NAME,\n",
       "        EXEC_MIME_TYPE\n",
       "      );\n",
       "      this.keyboard_manager.register_events(toinsert);\n",
       "      // Render to node\n",
       "      var props = {data: data, metadata: metadata[EXEC_MIME_TYPE]};\n",
       "      render(props, toinsert[toinsert.length - 1]);\n",
       "      element.append(toinsert);\n",
       "      return toinsert\n",
       "    }\n",
       "\n",
       "    /* Handle when an output is cleared or removed */\n",
       "    events.on('clear_output.CodeCell', handleClearOutput);\n",
       "    events.on('delete.Cell', handleClearOutput);\n",
       "\n",
       "    /* Handle when a new output is added */\n",
       "    events.on('output_added.OutputArea', handleAddOutput);\n",
       "\n",
       "    /**\n",
       "     * Register the mime type and append_mime function with output_area\n",
       "     */\n",
       "    OutputArea.prototype.register_mime_type(EXEC_MIME_TYPE, append_mime, {\n",
       "      /* Is output safe? */\n",
       "      safe: true,\n",
       "      /* Index of renderer in `output_area.display_order` */\n",
       "      index: 0\n",
       "    });\n",
       "  }\n",
       "\n",
       "  // register the mime type if in Jupyter Notebook environment and previously unregistered\n",
       "  if (root.Jupyter !== undefined) {\n",
       "    var events = require('base/js/events');\n",
       "    var OutputArea = require('notebook/js/outputarea').OutputArea;\n",
       "\n",
       "    if (OutputArea.prototype.mime_types().indexOf(EXEC_MIME_TYPE) == -1) {\n",
       "      register_renderer(events, OutputArea);\n",
       "    }\n",
       "  }\n",
       "\n",
       "  \n",
       "  if (typeof (root._bokeh_timeout) === \"undefined\" || force === true) {\n",
       "    root._bokeh_timeout = Date.now() + 5000;\n",
       "    root._bokeh_failed_load = false;\n",
       "  }\n",
       "\n",
       "  var NB_LOAD_WARNING = {'data': {'text/html':\n",
       "     \"<div style='background-color: #fdd'>\\n\"+\n",
       "     \"<p>\\n\"+\n",
       "     \"BokehJS does not appear to have successfully loaded. If loading BokehJS from CDN, this \\n\"+\n",
       "     \"may be due to a slow or bad network connection. Possible fixes:\\n\"+\n",
       "     \"</p>\\n\"+\n",
       "     \"<ul>\\n\"+\n",
       "     \"<li>re-rerun `output_notebook()` to attempt to load from CDN again, or</li>\\n\"+\n",
       "     \"<li>use INLINE resources instead, as so:</li>\\n\"+\n",
       "     \"</ul>\\n\"+\n",
       "     \"<code>\\n\"+\n",
       "     \"from bokeh.resources import INLINE\\n\"+\n",
       "     \"output_notebook(resources=INLINE)\\n\"+\n",
       "     \"</code>\\n\"+\n",
       "     \"</div>\"}};\n",
       "\n",
       "  function display_loaded() {\n",
       "    var el = document.getElementById(null);\n",
       "    if (el != null) {\n",
       "      el.textContent = \"BokehJS is loading...\";\n",
       "    }\n",
       "    if (root.Bokeh !== undefined) {\n",
       "      if (el != null) {\n",
       "        el.textContent = \"BokehJS \" + root.Bokeh.version + \" successfully loaded.\";\n",
       "      }\n",
       "    } else if (Date.now() < root._bokeh_timeout) {\n",
       "      setTimeout(display_loaded, 100)\n",
       "    }\n",
       "  }\n",
       "\n",
       "\n",
       "  function run_callbacks() {\n",
       "    try {\n",
       "      root._bokeh_onload_callbacks.forEach(function(callback) {\n",
       "        if (callback != null)\n",
       "          callback();\n",
       "      });\n",
       "    } finally {\n",
       "      delete root._bokeh_onload_callbacks\n",
       "    }\n",
       "    console.debug(\"Bokeh: all callbacks have finished\");\n",
       "  }\n",
       "\n",
       "  function load_libs(css_urls, js_urls, callback) {\n",
       "    if (css_urls == null) css_urls = [];\n",
       "    if (js_urls == null) js_urls = [];\n",
       "\n",
       "    root._bokeh_onload_callbacks.push(callback);\n",
       "    if (root._bokeh_is_loading > 0) {\n",
       "      console.debug(\"Bokeh: BokehJS is being loaded, scheduling callback at\", now());\n",
       "      return null;\n",
       "    }\n",
       "    if (js_urls == null || js_urls.length === 0) {\n",
       "      run_callbacks();\n",
       "      return null;\n",
       "    }\n",
       "    console.debug(\"Bokeh: BokehJS not loaded, scheduling load and callback at\", now());\n",
       "    root._bokeh_is_loading = css_urls.length + js_urls.length;\n",
       "\n",
       "    function on_load() {\n",
       "      root._bokeh_is_loading--;\n",
       "      if (root._bokeh_is_loading === 0) {\n",
       "        console.debug(\"Bokeh: all BokehJS libraries/stylesheets loaded\");\n",
       "        run_callbacks()\n",
       "      }\n",
       "    }\n",
       "\n",
       "    function on_error() {\n",
       "      console.error(\"failed to load \" + url);\n",
       "    }\n",
       "\n",
       "    for (var i = 0; i < css_urls.length; i++) {\n",
       "      var url = css_urls[i];\n",
       "      const element = document.createElement(\"link\");\n",
       "      element.onload = on_load;\n",
       "      element.onerror = on_error;\n",
       "      element.rel = \"stylesheet\";\n",
       "      element.type = \"text/css\";\n",
       "      element.href = url;\n",
       "      console.debug(\"Bokeh: injecting link tag for BokehJS stylesheet: \", url);\n",
       "      document.body.appendChild(element);\n",
       "    }\n",
       "\n",
       "    const hashes = {\"https://cdn.bokeh.org/bokeh/release/bokeh-2.0.2.min.js\": \"ufR9RFnRs6lniiaFvtJziE0YeidtAgBRH6ux2oUItHw5WTvE1zuk9uzhUU/FJXDp\", \"https://cdn.bokeh.org/bokeh/release/bokeh-widgets-2.0.2.min.js\": \"8QM/PGWBT+IssZuRcDcjzwIh1mkOmJSoNMmyYDZbCfXJg3Ap1lEvdVgFuSAwhb/J\", \"https://cdn.bokeh.org/bokeh/release/bokeh-tables-2.0.2.min.js\": \"Jm8cH3Rg0P6UeZhVY5cLy1WzKajUT9KImCY+76hEqrcJt59/d8GPvFHjCkYgnSIn\", \"https://cdn.bokeh.org/bokeh/release/bokeh-gl-2.0.2.min.js\": \"Ozhzj+SI7ywm74aOI/UajcWz+C0NjsPunEVyVIrxzYkB+jA+2tUw8x5xJCbVtK5I\"};\n",
       "\n",
       "    for (var i = 0; i < js_urls.length; i++) {\n",
       "      var url = js_urls[i];\n",
       "      var element = document.createElement('script');\n",
       "      element.onload = on_load;\n",
       "      element.onerror = on_error;\n",
       "      element.async = false;\n",
       "      element.src = url;\n",
       "      if (url in hashes) {\n",
       "        element.crossOrigin = \"anonymous\";\n",
       "        element.integrity = \"sha384-\" + hashes[url];\n",
       "      }\n",
       "      console.debug(\"Bokeh: injecting script tag for BokehJS library: \", url);\n",
       "      document.head.appendChild(element);\n",
       "    }\n",
       "  };\n",
       "\n",
       "  function inject_raw_css(css) {\n",
       "    const element = document.createElement(\"style\");\n",
       "    element.appendChild(document.createTextNode(css));\n",
       "    document.body.appendChild(element);\n",
       "  }\n",
       "\n",
       "  \n",
       "  var js_urls = [\"https://cdn.bokeh.org/bokeh/release/bokeh-2.0.2.min.js\", \"https://cdn.bokeh.org/bokeh/release/bokeh-widgets-2.0.2.min.js\", \"https://cdn.bokeh.org/bokeh/release/bokeh-tables-2.0.2.min.js\", \"https://cdn.bokeh.org/bokeh/release/bokeh-gl-2.0.2.min.js\", \"https://unpkg.com/@holoviz/panel@^0.9.7/dist/panel.min.js\"];\n",
       "  var css_urls = [];\n",
       "  \n",
       "\n",
       "  var inline_js = [\n",
       "    function(Bokeh) {\n",
       "      inject_raw_css(\".panel-widget-box {\\n\\tmin-height: 20px;\\n\\tbackground-color: #f5f5f5;\\n\\tborder: 1px solid #e3e3e3 !important;\\n\\tborder-radius: 4px;\\n\\t-webkit-box-shadow: inset 0 1px 1px rgba(0,0,0,.05);\\n\\tbox-shadow: inset 0 1px 1px rgba(0,0,0,.05);\\n\\toverflow-x: hidden;\\n\\toverflow-y: hidden;\\n}\\n\\n.scrollable {\\n  overflow: scroll;\\n}\\n\\nprogress {\\n\\tappearance: none;\\n\\t-moz-appearance: none;\\n\\t-webkit-appearance: none;\\n\\n\\tborder: none;\\n\\theight: 20px;\\n\\tbackground-color: whiteSmoke;\\n\\tborder-radius: 3px;\\n\\tbox-shadow: 0 2px 3px rgba(0,0,0,.5) inset;\\n\\tcolor: royalblue;\\n\\tposition: relative;\\n\\tmargin: 0 0 1.5em;\\n}\\n\\nprogress[value]::-webkit-progress-bar {\\n\\tbackground-color: whiteSmoke;\\n\\tborder-radius: 3px;\\n\\tbox-shadow: 0 2px 3px rgba(0,0,0,.5) inset;\\n}\\n\\nprogress[value]::-webkit-progress-value {\\n\\tposition: relative;\\n\\n\\tbackground-size: 35px 20px, 100% 100%, 100% 100%;\\n\\tborder-radius:3px;\\n}\\n\\nprogress.active:not([value])::before {\\n\\tbackground-position: 10%;\\n\\tanimation-name: stripes;\\n\\tanimation-duration: 3s;\\n\\tanimation-timing-function: linear;\\n\\tanimation-iteration-count: infinite;\\n}\\n\\nprogress[value]::-moz-progress-bar {\\n\\tbackground-size: 35px 20px, 100% 100%, 100% 100%;\\n\\tborder-radius:3px;\\n}\\n\\nprogress:not([value])::-moz-progress-bar {\\n\\tborder-radius:3px;\\n\\tbackground:\\n\\tlinear-gradient(-45deg, transparent 33%, rgba(0, 0, 0, 0.2) 33%, rgba(0, 0, 0, 0.2) 66%, transparent 66%) left/2.5em 1.5em;\\n\\n}\\n\\nprogress.active:not([value])::-moz-progress-bar {\\n\\tbackground-position: 10%;\\n\\tanimation-name: stripes;\\n\\tanimation-duration: 3s;\\n\\tanimation-timing-function: linear;\\n\\tanimation-iteration-count: infinite;\\n}\\n\\nprogress.active:not([value])::-webkit-progress-bar {\\n\\tbackground-position: 10%;\\n\\tanimation-name: stripes;\\n\\tanimation-duration: 3s;\\n\\tanimation-timing-function: linear;\\n\\tanimation-iteration-count: infinite;\\n}\\n\\nprogress.primary[value]::-webkit-progress-value { background-color: #007bff; }\\nprogress.primary:not([value])::before { background-color: #007bff; }\\nprogress.primary:not([value])::-webkit-progress-bar { background-color: #007bff; }\\nprogress.primary::-moz-progress-bar { background-color: #007bff; }\\n\\nprogress.secondary[value]::-webkit-progress-value { background-color: #6c757d; }\\nprogress.secondary:not([value])::before { background-color: #6c757d; }\\nprogress.secondary:not([value])::-webkit-progress-bar { background-color: #6c757d; }\\nprogress.secondary::-moz-progress-bar { background-color: #6c757d; }\\n\\nprogress.success[value]::-webkit-progress-value { background-color: #28a745; }\\nprogress.success:not([value])::before { background-color: #28a745; }\\nprogress.success:not([value])::-webkit-progress-bar { background-color: #28a745; }\\nprogress.success::-moz-progress-bar { background-color: #28a745; }\\n\\nprogress.danger[value]::-webkit-progress-value { background-color: #dc3545; }\\nprogress.danger:not([value])::before { background-color: #dc3545; }\\nprogress.danger:not([value])::-webkit-progress-bar { background-color: #dc3545; }\\nprogress.danger::-moz-progress-bar { background-color: #dc3545; }\\n\\nprogress.warning[value]::-webkit-progress-value { background-color: #ffc107; }\\nprogress.warning:not([value])::before { background-color: #ffc107; }\\nprogress.warning:not([value])::-webkit-progress-bar { background-color: #ffc107; }\\nprogress.warning::-moz-progress-bar { background-color: #ffc107; }\\n\\nprogress.info[value]::-webkit-progress-value { background-color: #17a2b8; }\\nprogress.info:not([value])::before { background-color: #17a2b8; }\\nprogress.info:not([value])::-webkit-progress-bar { background-color: #17a2b8; }\\nprogress.info::-moz-progress-bar { background-color: #17a2b8; }\\n\\nprogress.light[value]::-webkit-progress-value { background-color: #f8f9fa; }\\nprogress.light:not([value])::before { background-color: #f8f9fa; }\\nprogress.light:not([value])::-webkit-progress-bar { background-color: #f8f9fa; }\\nprogress.light::-moz-progress-bar { background-color: #f8f9fa; }\\n\\nprogress.dark[value]::-webkit-progress-value { background-color: #343a40; }\\nprogress.dark:not([value])::-webkit-progress-bar { background-color: #343a40; }\\nprogress.dark:not([value])::before { background-color: #343a40; }\\nprogress.dark::-moz-progress-bar { background-color: #343a40; }\\n\\nprogress:not([value])::-webkit-progress-bar {\\n\\tborder-radius: 3px;\\n\\tbackground:\\n\\tlinear-gradient(-45deg, transparent 33%, rgba(0, 0, 0, 0.2) 33%, rgba(0, 0, 0, 0.2) 66%, transparent 66%) left/2.5em 1.5em;\\n}\\nprogress:not([value])::before {\\n\\tcontent:\\\" \\\";\\n\\tposition:absolute;\\n\\theight: 20px;\\n\\ttop:0;\\n\\tleft:0;\\n\\tright:0;\\n\\tbottom:0;\\n\\tborder-radius: 3px;\\n\\tbackground:\\n\\tlinear-gradient(-45deg, transparent 33%, rgba(0, 0, 0, 0.2) 33%, rgba(0, 0, 0, 0.2) 66%, transparent 66%) left/2.5em 1.5em;\\n}\\n\\n@keyframes stripes {\\n  from {background-position: 0%}\\n  to {background-position: 100%}\\n}\\n\");\n",
       "    },\n",
       "    function(Bokeh) {\n",
       "      inject_raw_css(\".codehilite .hll { background-color: #ffffcc }\\n.codehilite  { background: #f8f8f8; }\\n.codehilite .c { color: #408080; font-style: italic } /* Comment */\\n.codehilite .err { border: 1px solid #FF0000 } /* Error */\\n.codehilite .k { color: #008000; font-weight: bold } /* Keyword */\\n.codehilite .o { color: #666666 } /* Operator */\\n.codehilite .ch { color: #408080; font-style: italic } /* Comment.Hashbang */\\n.codehilite .cm { color: #408080; font-style: italic } /* Comment.Multiline */\\n.codehilite .cp { color: #BC7A00 } /* Comment.Preproc */\\n.codehilite .cpf { color: #408080; font-style: italic } /* Comment.PreprocFile */\\n.codehilite .c1 { color: #408080; font-style: italic } /* Comment.Single */\\n.codehilite .cs { color: #408080; font-style: italic } /* Comment.Special */\\n.codehilite .gd { color: #A00000 } /* Generic.Deleted */\\n.codehilite .ge { font-style: italic } /* Generic.Emph */\\n.codehilite .gr { color: #FF0000 } /* Generic.Error */\\n.codehilite .gh { color: #000080; font-weight: bold } /* Generic.Heading */\\n.codehilite .gi { color: #00A000 } /* Generic.Inserted */\\n.codehilite .go { color: #888888 } /* Generic.Output */\\n.codehilite .gp { color: #000080; font-weight: bold } /* Generic.Prompt */\\n.codehilite .gs { font-weight: bold } /* Generic.Strong */\\n.codehilite .gu { color: #800080; font-weight: bold } /* Generic.Subheading */\\n.codehilite .gt { color: #0044DD } /* Generic.Traceback */\\n.codehilite .kc { color: #008000; font-weight: bold } /* Keyword.Constant */\\n.codehilite .kd { color: #008000; font-weight: bold } /* Keyword.Declaration */\\n.codehilite .kn { color: #008000; font-weight: bold } /* Keyword.Namespace */\\n.codehilite .kp { color: #008000 } /* Keyword.Pseudo */\\n.codehilite .kr { color: #008000; font-weight: bold } /* Keyword.Reserved */\\n.codehilite .kt { color: #B00040 } /* Keyword.Type */\\n.codehilite .m { color: #666666 } /* Literal.Number */\\n.codehilite .s { color: #BA2121 } /* Literal.String */\\n.codehilite .na { color: #7D9029 } /* Name.Attribute */\\n.codehilite .nb { color: #008000 } /* Name.Builtin */\\n.codehilite .nc { color: #0000FF; font-weight: bold } /* Name.Class */\\n.codehilite .no { color: #880000 } /* Name.Constant */\\n.codehilite .nd { color: #AA22FF } /* Name.Decorator */\\n.codehilite .ni { color: #999999; font-weight: bold } /* Name.Entity */\\n.codehilite .ne { color: #D2413A; font-weight: bold } /* Name.Exception */\\n.codehilite .nf { color: #0000FF } /* Name.Function */\\n.codehilite .nl { color: #A0A000 } /* Name.Label */\\n.codehilite .nn { color: #0000FF; font-weight: bold } /* Name.Namespace */\\n.codehilite .nt { color: #008000; font-weight: bold } /* Name.Tag */\\n.codehilite .nv { color: #19177C } /* Name.Variable */\\n.codehilite .ow { color: #AA22FF; font-weight: bold } /* Operator.Word */\\n.codehilite .w { color: #bbbbbb } /* Text.Whitespace */\\n.codehilite .mb { color: #666666 } /* Literal.Number.Bin */\\n.codehilite .mf { color: #666666 } /* Literal.Number.Float */\\n.codehilite .mh { color: #666666 } /* Literal.Number.Hex */\\n.codehilite .mi { color: #666666 } /* Literal.Number.Integer */\\n.codehilite .mo { color: #666666 } /* Literal.Number.Oct */\\n.codehilite .sa { color: #BA2121 } /* Literal.String.Affix */\\n.codehilite .sb { color: #BA2121 } /* Literal.String.Backtick */\\n.codehilite .sc { color: #BA2121 } /* Literal.String.Char */\\n.codehilite .dl { color: #BA2121 } /* Literal.String.Delimiter */\\n.codehilite .sd { color: #BA2121; font-style: italic } /* Literal.String.Doc */\\n.codehilite .s2 { color: #BA2121 } /* Literal.String.Double */\\n.codehilite .se { color: #BB6622; font-weight: bold } /* Literal.String.Escape */\\n.codehilite .sh { color: #BA2121 } /* Literal.String.Heredoc */\\n.codehilite .si { color: #BB6688; font-weight: bold } /* Literal.String.Interpol */\\n.codehilite .sx { color: #008000 } /* Literal.String.Other */\\n.codehilite .sr { color: #BB6688 } /* Literal.String.Regex */\\n.codehilite .s1 { color: #BA2121 } /* Literal.String.Single */\\n.codehilite .ss { color: #19177C } /* Literal.String.Symbol */\\n.codehilite .bp { color: #008000 } /* Name.Builtin.Pseudo */\\n.codehilite .fm { color: #0000FF } /* Name.Function.Magic */\\n.codehilite .vc { color: #19177C } /* Name.Variable.Class */\\n.codehilite .vg { color: #19177C } /* Name.Variable.Global */\\n.codehilite .vi { color: #19177C } /* Name.Variable.Instance */\\n.codehilite .vm { color: #19177C } /* Name.Variable.Magic */\\n.codehilite .il { color: #666666 } /* Literal.Number.Integer.Long */\\n\\n.markdown h1 { margin-block-start: 0.34em }\\n.markdown h2 { margin-block-start: 0.42em }\\n.markdown h3 { margin-block-start: 0.5em }\\n.markdown h4 { margin-block-start: 0.67em }\\n.markdown h5 { margin-block-start: 0.84em }\\n.markdown h6 { margin-block-start: 1.17em }\\n.markdown ul { padding-inline-start: 2em }\\n.markdown ol { padding-inline-start: 2em }\\n.markdown strong { font-weight: 600 }\\n.markdown a { color: -webkit-link }\\n.markdown a { color: -moz-hyperlinkText }\\n\");\n",
       "    },\n",
       "    function(Bokeh) {\n",
       "      inject_raw_css(\".json-formatter-row {\\n  font-family: monospace;\\n}\\n.json-formatter-row,\\n.json-formatter-row a,\\n.json-formatter-row a:hover {\\n  color: black;\\n  text-decoration: none;\\n}\\n.json-formatter-row .json-formatter-row {\\n  margin-left: 1rem;\\n}\\n.json-formatter-row .json-formatter-children.json-formatter-empty {\\n  opacity: 0.5;\\n  margin-left: 1rem;\\n}\\n.json-formatter-row .json-formatter-children.json-formatter-empty:after {\\n  display: none;\\n}\\n.json-formatter-row .json-formatter-children.json-formatter-empty.json-formatter-object:after {\\n  content: \\\"No properties\\\";\\n}\\n.json-formatter-row .json-formatter-children.json-formatter-empty.json-formatter-array:after {\\n  content: \\\"[]\\\";\\n}\\n.json-formatter-row .json-formatter-string,\\n.json-formatter-row .json-formatter-stringifiable {\\n  color: green;\\n  white-space: pre;\\n  word-wrap: break-word;\\n}\\n.json-formatter-row .json-formatter-number {\\n  color: blue;\\n}\\n.json-formatter-row .json-formatter-boolean {\\n  color: red;\\n}\\n.json-formatter-row .json-formatter-null {\\n  color: #855A00;\\n}\\n.json-formatter-row .json-formatter-undefined {\\n  color: #ca0b69;\\n}\\n.json-formatter-row .json-formatter-function {\\n  color: #FF20ED;\\n}\\n.json-formatter-row .json-formatter-date {\\n  background-color: rgba(0, 0, 0, 0.05);\\n}\\n.json-formatter-row .json-formatter-url {\\n  text-decoration: underline;\\n  color: blue;\\n  cursor: pointer;\\n}\\n.json-formatter-row .json-formatter-bracket {\\n  color: blue;\\n}\\n.json-formatter-row .json-formatter-key {\\n  color: #00008B;\\n  padding-right: 0.2rem;\\n}\\n.json-formatter-row .json-formatter-toggler-link {\\n  cursor: pointer;\\n}\\n.json-formatter-row .json-formatter-toggler {\\n  line-height: 1.2rem;\\n  font-size: 0.7rem;\\n  vertical-align: middle;\\n  opacity: 0.6;\\n  cursor: pointer;\\n  padding-right: 0.2rem;\\n}\\n.json-formatter-row .json-formatter-toggler:after {\\n  display: inline-block;\\n  transition: transform 100ms ease-in;\\n  content: \\\"\\\\25BA\\\";\\n}\\n.json-formatter-row > a > .json-formatter-preview-text {\\n  opacity: 0;\\n  transition: opacity 0.15s ease-in;\\n  font-style: italic;\\n}\\n.json-formatter-row:hover > a > .json-formatter-preview-text {\\n  opacity: 0.6;\\n}\\n.json-formatter-row.json-formatter-open > .json-formatter-toggler-link .json-formatter-toggler:after {\\n  transform: rotate(90deg);\\n}\\n.json-formatter-row.json-formatter-open > .json-formatter-children:after {\\n  display: inline-block;\\n}\\n.json-formatter-row.json-formatter-open > a > .json-formatter-preview-text {\\n  display: none;\\n}\\n.json-formatter-row.json-formatter-open.json-formatter-empty:after {\\n  display: block;\\n}\\n.json-formatter-dark.json-formatter-row {\\n  font-family: monospace;\\n}\\n.json-formatter-dark.json-formatter-row,\\n.json-formatter-dark.json-formatter-row a,\\n.json-formatter-dark.json-formatter-row a:hover {\\n  color: white;\\n  text-decoration: none;\\n}\\n.json-formatter-dark.json-formatter-row .json-formatter-row {\\n  margin-left: 1rem;\\n}\\n.json-formatter-dark.json-formatter-row .json-formatter-children.json-formatter-empty {\\n  opacity: 0.5;\\n  margin-left: 1rem;\\n}\\n.json-formatter-dark.json-formatter-row .json-formatter-children.json-formatter-empty:after {\\n  display: none;\\n}\\n.json-formatter-dark.json-formatter-row .json-formatter-children.json-formatter-empty.json-formatter-object:after {\\n  content: \\\"No properties\\\";\\n}\\n.json-formatter-dark.json-formatter-row .json-formatter-children.json-formatter-empty.json-formatter-array:after {\\n  content: \\\"[]\\\";\\n}\\n.json-formatter-dark.json-formatter-row .json-formatter-string,\\n.json-formatter-dark.json-formatter-row .json-formatter-stringifiable {\\n  color: #31F031;\\n  white-space: pre;\\n  word-wrap: break-word;\\n}\\n.json-formatter-dark.json-formatter-row .json-formatter-number {\\n  color: #66C2FF;\\n}\\n.json-formatter-dark.json-formatter-row .json-formatter-boolean {\\n  color: #EC4242;\\n}\\n.json-formatter-dark.json-formatter-row .json-formatter-null {\\n  color: #EEC97D;\\n}\\n.json-formatter-dark.json-formatter-row .json-formatter-undefined {\\n  color: #ef8fbe;\\n}\\n.json-formatter-dark.json-formatter-row .json-formatter-function {\\n  color: #FD48CB;\\n}\\n.json-formatter-dark.json-formatter-row .json-formatter-date {\\n  background-color: rgba(255, 255, 255, 0.05);\\n}\\n.json-formatter-dark.json-formatter-row .json-formatter-url {\\n  text-decoration: underline;\\n  color: #027BFF;\\n  cursor: pointer;\\n}\\n.json-formatter-dark.json-formatter-row .json-formatter-bracket {\\n  color: #9494FF;\\n}\\n.json-formatter-dark.json-formatter-row .json-formatter-key {\\n  color: #23A0DB;\\n  padding-right: 0.2rem;\\n}\\n.json-formatter-dark.json-formatter-row .json-formatter-toggler-link {\\n  cursor: pointer;\\n}\\n.json-formatter-dark.json-formatter-row .json-formatter-toggler {\\n  line-height: 1.2rem;\\n  font-size: 0.7rem;\\n  vertical-align: middle;\\n  opacity: 0.6;\\n  cursor: pointer;\\n  padding-right: 0.2rem;\\n}\\n.json-formatter-dark.json-formatter-row .json-formatter-toggler:after {\\n  display: inline-block;\\n  transition: transform 100ms ease-in;\\n  content: \\\"\\\\25BA\\\";\\n}\\n.json-formatter-dark.json-formatter-row > a > .json-formatter-preview-text {\\n  opacity: 0;\\n  transition: opacity 0.15s ease-in;\\n  font-style: italic;\\n}\\n.json-formatter-dark.json-formatter-row:hover > a > .json-formatter-preview-text {\\n  opacity: 0.6;\\n}\\n.json-formatter-dark.json-formatter-row.json-formatter-open > .json-formatter-toggler-link .json-formatter-toggler:after {\\n  transform: rotate(90deg);\\n}\\n.json-formatter-dark.json-formatter-row.json-formatter-open > .json-formatter-children:after {\\n  display: inline-block;\\n}\\n.json-formatter-dark.json-formatter-row.json-formatter-open > a > .json-formatter-preview-text {\\n  display: none;\\n}\\n.json-formatter-dark.json-formatter-row.json-formatter-open.json-formatter-empty:after {\\n  display: block;\\n}\\n\");\n",
       "    },\n",
       "    function(Bokeh) {\n",
       "      inject_raw_css(\"table.panel-df {\\n    margin-left: auto;\\n    margin-right: auto;\\n    border: none;\\n    border-collapse: collapse;\\n    border-spacing: 0;\\n    color: black;\\n    font-size: 12px;\\n    table-layout: fixed;\\n    width: 100%;\\n}\\n\\n.panel-df tr, .panel-df th, .panel-df td {\\n    text-align: right;\\n    vertical-align: middle;\\n    padding: 0.5em 0.5em !important;\\n    line-height: normal;\\n    white-space: normal;\\n    max-width: none;\\n    border: none;\\n}\\n\\n.panel-df tbody {\\n    display: table-row-group;\\n    vertical-align: middle;\\n    border-color: inherit;\\n}\\n\\n.panel-df tbody tr:nth-child(odd) {\\n    background: #f5f5f5;\\n}\\n\\n.panel-df thead {\\n    border-bottom: 1px solid black;\\n    vertical-align: bottom;\\n}\\n\\n.panel-df tr:hover {\\n    background: lightblue !important;\\n    cursor: pointer;\\n}\\n\");\n",
       "    },\n",
       "    function(Bokeh) {\n",
       "      Bokeh.set_log_level(\"info\");\n",
       "    },\n",
       "    function(Bokeh) {\n",
       "    \n",
       "    \n",
       "    }\n",
       "  ];\n",
       "\n",
       "  function run_inline_js() {\n",
       "    \n",
       "    if (root.Bokeh !== undefined || force === true) {\n",
       "      \n",
       "    for (var i = 0; i < inline_js.length; i++) {\n",
       "      inline_js[i].call(root, root.Bokeh);\n",
       "    }\n",
       "    } else if (Date.now() < root._bokeh_timeout) {\n",
       "      setTimeout(run_inline_js, 100);\n",
       "    } else if (!root._bokeh_failed_load) {\n",
       "      console.log(\"Bokeh: BokehJS failed to load within specified timeout.\");\n",
       "      root._bokeh_failed_load = true;\n",
       "    } else if (force !== true) {\n",
       "      var cell = $(document.getElementById(null)).parents('.cell').data().cell;\n",
       "      cell.output_area.append_execute_result(NB_LOAD_WARNING)\n",
       "    }\n",
       "\n",
       "  }\n",
       "\n",
       "  if (root._bokeh_is_loading === 0) {\n",
       "    console.debug(\"Bokeh: BokehJS loaded, going straight to plotting\");\n",
       "    run_inline_js();\n",
       "  } else {\n",
       "    load_libs(css_urls, js_urls, function() {\n",
       "      console.debug(\"Bokeh: BokehJS plotting callback run at\", now());\n",
       "      run_inline_js();\n",
       "    });\n",
       "  }\n",
       "}(window));"
      ],
      "application/vnd.bokehjs_load.v0+json": "\n(function(root) {\n  function now() {\n    return new Date();\n  }\n\n  var force = true;\n\n  if (typeof root._bokeh_onload_callbacks === \"undefined\" || force === true) {\n    root._bokeh_onload_callbacks = [];\n    root._bokeh_is_loading = undefined;\n  }\n\n  \n\n  \n  if (typeof (root._bokeh_timeout) === \"undefined\" || force === true) {\n    root._bokeh_timeout = Date.now() + 5000;\n    root._bokeh_failed_load = false;\n  }\n\n  var NB_LOAD_WARNING = {'data': {'text/html':\n     \"<div style='background-color: #fdd'>\\n\"+\n     \"<p>\\n\"+\n     \"BokehJS does not appear to have successfully loaded. If loading BokehJS from CDN, this \\n\"+\n     \"may be due to a slow or bad network connection. Possible fixes:\\n\"+\n     \"</p>\\n\"+\n     \"<ul>\\n\"+\n     \"<li>re-rerun `output_notebook()` to attempt to load from CDN again, or</li>\\n\"+\n     \"<li>use INLINE resources instead, as so:</li>\\n\"+\n     \"</ul>\\n\"+\n     \"<code>\\n\"+\n     \"from bokeh.resources import INLINE\\n\"+\n     \"output_notebook(resources=INLINE)\\n\"+\n     \"</code>\\n\"+\n     \"</div>\"}};\n\n  function display_loaded() {\n    var el = document.getElementById(null);\n    if (el != null) {\n      el.textContent = \"BokehJS is loading...\";\n    }\n    if (root.Bokeh !== undefined) {\n      if (el != null) {\n        el.textContent = \"BokehJS \" + root.Bokeh.version + \" successfully loaded.\";\n      }\n    } else if (Date.now() < root._bokeh_timeout) {\n      setTimeout(display_loaded, 100)\n    }\n  }\n\n\n  function run_callbacks() {\n    try {\n      root._bokeh_onload_callbacks.forEach(function(callback) {\n        if (callback != null)\n          callback();\n      });\n    } finally {\n      delete root._bokeh_onload_callbacks\n    }\n    console.debug(\"Bokeh: all callbacks have finished\");\n  }\n\n  function load_libs(css_urls, js_urls, callback) {\n    if (css_urls == null) css_urls = [];\n    if (js_urls == null) js_urls = [];\n\n    root._bokeh_onload_callbacks.push(callback);\n    if (root._bokeh_is_loading > 0) {\n      console.debug(\"Bokeh: BokehJS is being loaded, scheduling callback at\", now());\n      return null;\n    }\n    if (js_urls == null || js_urls.length === 0) {\n      run_callbacks();\n      return null;\n    }\n    console.debug(\"Bokeh: BokehJS not loaded, scheduling load and callback at\", now());\n    root._bokeh_is_loading = css_urls.length + js_urls.length;\n\n    function on_load() {\n      root._bokeh_is_loading--;\n      if (root._bokeh_is_loading === 0) {\n        console.debug(\"Bokeh: all BokehJS libraries/stylesheets loaded\");\n        run_callbacks()\n      }\n    }\n\n    function on_error() {\n      console.error(\"failed to load \" + url);\n    }\n\n    for (var i = 0; i < css_urls.length; i++) {\n      var url = css_urls[i];\n      const element = document.createElement(\"link\");\n      element.onload = on_load;\n      element.onerror = on_error;\n      element.rel = \"stylesheet\";\n      element.type = \"text/css\";\n      element.href = url;\n      console.debug(\"Bokeh: injecting link tag for BokehJS stylesheet: \", url);\n      document.body.appendChild(element);\n    }\n\n    const hashes = {\"https://cdn.bokeh.org/bokeh/release/bokeh-2.0.2.min.js\": \"ufR9RFnRs6lniiaFvtJziE0YeidtAgBRH6ux2oUItHw5WTvE1zuk9uzhUU/FJXDp\", \"https://cdn.bokeh.org/bokeh/release/bokeh-widgets-2.0.2.min.js\": \"8QM/PGWBT+IssZuRcDcjzwIh1mkOmJSoNMmyYDZbCfXJg3Ap1lEvdVgFuSAwhb/J\", \"https://cdn.bokeh.org/bokeh/release/bokeh-tables-2.0.2.min.js\": \"Jm8cH3Rg0P6UeZhVY5cLy1WzKajUT9KImCY+76hEqrcJt59/d8GPvFHjCkYgnSIn\", \"https://cdn.bokeh.org/bokeh/release/bokeh-gl-2.0.2.min.js\": \"Ozhzj+SI7ywm74aOI/UajcWz+C0NjsPunEVyVIrxzYkB+jA+2tUw8x5xJCbVtK5I\"};\n\n    for (var i = 0; i < js_urls.length; i++) {\n      var url = js_urls[i];\n      var element = document.createElement('script');\n      element.onload = on_load;\n      element.onerror = on_error;\n      element.async = false;\n      element.src = url;\n      if (url in hashes) {\n        element.crossOrigin = \"anonymous\";\n        element.integrity = \"sha384-\" + hashes[url];\n      }\n      console.debug(\"Bokeh: injecting script tag for BokehJS library: \", url);\n      document.head.appendChild(element);\n    }\n  };\n\n  function inject_raw_css(css) {\n    const element = document.createElement(\"style\");\n    element.appendChild(document.createTextNode(css));\n    document.body.appendChild(element);\n  }\n\n  \n  var js_urls = [\"https://cdn.bokeh.org/bokeh/release/bokeh-2.0.2.min.js\", \"https://cdn.bokeh.org/bokeh/release/bokeh-widgets-2.0.2.min.js\", \"https://cdn.bokeh.org/bokeh/release/bokeh-tables-2.0.2.min.js\", \"https://cdn.bokeh.org/bokeh/release/bokeh-gl-2.0.2.min.js\", \"https://unpkg.com/@holoviz/panel@^0.9.7/dist/panel.min.js\"];\n  var css_urls = [];\n  \n\n  var inline_js = [\n    function(Bokeh) {\n      inject_raw_css(\".panel-widget-box {\\n\\tmin-height: 20px;\\n\\tbackground-color: #f5f5f5;\\n\\tborder: 1px solid #e3e3e3 !important;\\n\\tborder-radius: 4px;\\n\\t-webkit-box-shadow: inset 0 1px 1px rgba(0,0,0,.05);\\n\\tbox-shadow: inset 0 1px 1px rgba(0,0,0,.05);\\n\\toverflow-x: hidden;\\n\\toverflow-y: hidden;\\n}\\n\\n.scrollable {\\n  overflow: scroll;\\n}\\n\\nprogress {\\n\\tappearance: none;\\n\\t-moz-appearance: none;\\n\\t-webkit-appearance: none;\\n\\n\\tborder: none;\\n\\theight: 20px;\\n\\tbackground-color: whiteSmoke;\\n\\tborder-radius: 3px;\\n\\tbox-shadow: 0 2px 3px rgba(0,0,0,.5) inset;\\n\\tcolor: royalblue;\\n\\tposition: relative;\\n\\tmargin: 0 0 1.5em;\\n}\\n\\nprogress[value]::-webkit-progress-bar {\\n\\tbackground-color: whiteSmoke;\\n\\tborder-radius: 3px;\\n\\tbox-shadow: 0 2px 3px rgba(0,0,0,.5) inset;\\n}\\n\\nprogress[value]::-webkit-progress-value {\\n\\tposition: relative;\\n\\n\\tbackground-size: 35px 20px, 100% 100%, 100% 100%;\\n\\tborder-radius:3px;\\n}\\n\\nprogress.active:not([value])::before {\\n\\tbackground-position: 10%;\\n\\tanimation-name: stripes;\\n\\tanimation-duration: 3s;\\n\\tanimation-timing-function: linear;\\n\\tanimation-iteration-count: infinite;\\n}\\n\\nprogress[value]::-moz-progress-bar {\\n\\tbackground-size: 35px 20px, 100% 100%, 100% 100%;\\n\\tborder-radius:3px;\\n}\\n\\nprogress:not([value])::-moz-progress-bar {\\n\\tborder-radius:3px;\\n\\tbackground:\\n\\tlinear-gradient(-45deg, transparent 33%, rgba(0, 0, 0, 0.2) 33%, rgba(0, 0, 0, 0.2) 66%, transparent 66%) left/2.5em 1.5em;\\n\\n}\\n\\nprogress.active:not([value])::-moz-progress-bar {\\n\\tbackground-position: 10%;\\n\\tanimation-name: stripes;\\n\\tanimation-duration: 3s;\\n\\tanimation-timing-function: linear;\\n\\tanimation-iteration-count: infinite;\\n}\\n\\nprogress.active:not([value])::-webkit-progress-bar {\\n\\tbackground-position: 10%;\\n\\tanimation-name: stripes;\\n\\tanimation-duration: 3s;\\n\\tanimation-timing-function: linear;\\n\\tanimation-iteration-count: infinite;\\n}\\n\\nprogress.primary[value]::-webkit-progress-value { background-color: #007bff; }\\nprogress.primary:not([value])::before { background-color: #007bff; }\\nprogress.primary:not([value])::-webkit-progress-bar { background-color: #007bff; }\\nprogress.primary::-moz-progress-bar { background-color: #007bff; }\\n\\nprogress.secondary[value]::-webkit-progress-value { background-color: #6c757d; }\\nprogress.secondary:not([value])::before { background-color: #6c757d; }\\nprogress.secondary:not([value])::-webkit-progress-bar { background-color: #6c757d; }\\nprogress.secondary::-moz-progress-bar { background-color: #6c757d; }\\n\\nprogress.success[value]::-webkit-progress-value { background-color: #28a745; }\\nprogress.success:not([value])::before { background-color: #28a745; }\\nprogress.success:not([value])::-webkit-progress-bar { background-color: #28a745; }\\nprogress.success::-moz-progress-bar { background-color: #28a745; }\\n\\nprogress.danger[value]::-webkit-progress-value { background-color: #dc3545; }\\nprogress.danger:not([value])::before { background-color: #dc3545; }\\nprogress.danger:not([value])::-webkit-progress-bar { background-color: #dc3545; }\\nprogress.danger::-moz-progress-bar { background-color: #dc3545; }\\n\\nprogress.warning[value]::-webkit-progress-value { background-color: #ffc107; }\\nprogress.warning:not([value])::before { background-color: #ffc107; }\\nprogress.warning:not([value])::-webkit-progress-bar { background-color: #ffc107; }\\nprogress.warning::-moz-progress-bar { background-color: #ffc107; }\\n\\nprogress.info[value]::-webkit-progress-value { background-color: #17a2b8; }\\nprogress.info:not([value])::before { background-color: #17a2b8; }\\nprogress.info:not([value])::-webkit-progress-bar { background-color: #17a2b8; }\\nprogress.info::-moz-progress-bar { background-color: #17a2b8; }\\n\\nprogress.light[value]::-webkit-progress-value { background-color: #f8f9fa; }\\nprogress.light:not([value])::before { background-color: #f8f9fa; }\\nprogress.light:not([value])::-webkit-progress-bar { background-color: #f8f9fa; }\\nprogress.light::-moz-progress-bar { background-color: #f8f9fa; }\\n\\nprogress.dark[value]::-webkit-progress-value { background-color: #343a40; }\\nprogress.dark:not([value])::-webkit-progress-bar { background-color: #343a40; }\\nprogress.dark:not([value])::before { background-color: #343a40; }\\nprogress.dark::-moz-progress-bar { background-color: #343a40; }\\n\\nprogress:not([value])::-webkit-progress-bar {\\n\\tborder-radius: 3px;\\n\\tbackground:\\n\\tlinear-gradient(-45deg, transparent 33%, rgba(0, 0, 0, 0.2) 33%, rgba(0, 0, 0, 0.2) 66%, transparent 66%) left/2.5em 1.5em;\\n}\\nprogress:not([value])::before {\\n\\tcontent:\\\" \\\";\\n\\tposition:absolute;\\n\\theight: 20px;\\n\\ttop:0;\\n\\tleft:0;\\n\\tright:0;\\n\\tbottom:0;\\n\\tborder-radius: 3px;\\n\\tbackground:\\n\\tlinear-gradient(-45deg, transparent 33%, rgba(0, 0, 0, 0.2) 33%, rgba(0, 0, 0, 0.2) 66%, transparent 66%) left/2.5em 1.5em;\\n}\\n\\n@keyframes stripes {\\n  from {background-position: 0%}\\n  to {background-position: 100%}\\n}\\n\");\n    },\n    function(Bokeh) {\n      inject_raw_css(\".codehilite .hll { background-color: #ffffcc }\\n.codehilite  { background: #f8f8f8; }\\n.codehilite .c { color: #408080; font-style: italic } /* Comment */\\n.codehilite .err { border: 1px solid #FF0000 } /* Error */\\n.codehilite .k { color: #008000; font-weight: bold } /* Keyword */\\n.codehilite .o { color: #666666 } /* Operator */\\n.codehilite .ch { color: #408080; font-style: italic } /* Comment.Hashbang */\\n.codehilite .cm { color: #408080; font-style: italic } /* Comment.Multiline */\\n.codehilite .cp { color: #BC7A00 } /* Comment.Preproc */\\n.codehilite .cpf { color: #408080; font-style: italic } /* Comment.PreprocFile */\\n.codehilite .c1 { color: #408080; font-style: italic } /* Comment.Single */\\n.codehilite .cs { color: #408080; font-style: italic } /* Comment.Special */\\n.codehilite .gd { color: #A00000 } /* Generic.Deleted */\\n.codehilite .ge { font-style: italic } /* Generic.Emph */\\n.codehilite .gr { color: #FF0000 } /* Generic.Error */\\n.codehilite .gh { color: #000080; font-weight: bold } /* Generic.Heading */\\n.codehilite .gi { color: #00A000 } /* Generic.Inserted */\\n.codehilite .go { color: #888888 } /* Generic.Output */\\n.codehilite .gp { color: #000080; font-weight: bold } /* Generic.Prompt */\\n.codehilite .gs { font-weight: bold } /* Generic.Strong */\\n.codehilite .gu { color: #800080; font-weight: bold } /* Generic.Subheading */\\n.codehilite .gt { color: #0044DD } /* Generic.Traceback */\\n.codehilite .kc { color: #008000; font-weight: bold } /* Keyword.Constant */\\n.codehilite .kd { color: #008000; font-weight: bold } /* Keyword.Declaration */\\n.codehilite .kn { color: #008000; font-weight: bold } /* Keyword.Namespace */\\n.codehilite .kp { color: #008000 } /* Keyword.Pseudo */\\n.codehilite .kr { color: #008000; font-weight: bold } /* Keyword.Reserved */\\n.codehilite .kt { color: #B00040 } /* Keyword.Type */\\n.codehilite .m { color: #666666 } /* Literal.Number */\\n.codehilite .s { color: #BA2121 } /* Literal.String */\\n.codehilite .na { color: #7D9029 } /* Name.Attribute */\\n.codehilite .nb { color: #008000 } /* Name.Builtin */\\n.codehilite .nc { color: #0000FF; font-weight: bold } /* Name.Class */\\n.codehilite .no { color: #880000 } /* Name.Constant */\\n.codehilite .nd { color: #AA22FF } /* Name.Decorator */\\n.codehilite .ni { color: #999999; font-weight: bold } /* Name.Entity */\\n.codehilite .ne { color: #D2413A; font-weight: bold } /* Name.Exception */\\n.codehilite .nf { color: #0000FF } /* Name.Function */\\n.codehilite .nl { color: #A0A000 } /* Name.Label */\\n.codehilite .nn { color: #0000FF; font-weight: bold } /* Name.Namespace */\\n.codehilite .nt { color: #008000; font-weight: bold } /* Name.Tag */\\n.codehilite .nv { color: #19177C } /* Name.Variable */\\n.codehilite .ow { color: #AA22FF; font-weight: bold } /* Operator.Word */\\n.codehilite .w { color: #bbbbbb } /* Text.Whitespace */\\n.codehilite .mb { color: #666666 } /* Literal.Number.Bin */\\n.codehilite .mf { color: #666666 } /* Literal.Number.Float */\\n.codehilite .mh { color: #666666 } /* Literal.Number.Hex */\\n.codehilite .mi { color: #666666 } /* Literal.Number.Integer */\\n.codehilite .mo { color: #666666 } /* Literal.Number.Oct */\\n.codehilite .sa { color: #BA2121 } /* Literal.String.Affix */\\n.codehilite .sb { color: #BA2121 } /* Literal.String.Backtick */\\n.codehilite .sc { color: #BA2121 } /* Literal.String.Char */\\n.codehilite .dl { color: #BA2121 } /* Literal.String.Delimiter */\\n.codehilite .sd { color: #BA2121; font-style: italic } /* Literal.String.Doc */\\n.codehilite .s2 { color: #BA2121 } /* Literal.String.Double */\\n.codehilite .se { color: #BB6622; font-weight: bold } /* Literal.String.Escape */\\n.codehilite .sh { color: #BA2121 } /* Literal.String.Heredoc */\\n.codehilite .si { color: #BB6688; font-weight: bold } /* Literal.String.Interpol */\\n.codehilite .sx { color: #008000 } /* Literal.String.Other */\\n.codehilite .sr { color: #BB6688 } /* Literal.String.Regex */\\n.codehilite .s1 { color: #BA2121 } /* Literal.String.Single */\\n.codehilite .ss { color: #19177C } /* Literal.String.Symbol */\\n.codehilite .bp { color: #008000 } /* Name.Builtin.Pseudo */\\n.codehilite .fm { color: #0000FF } /* Name.Function.Magic */\\n.codehilite .vc { color: #19177C } /* Name.Variable.Class */\\n.codehilite .vg { color: #19177C } /* Name.Variable.Global */\\n.codehilite .vi { color: #19177C } /* Name.Variable.Instance */\\n.codehilite .vm { color: #19177C } /* Name.Variable.Magic */\\n.codehilite .il { color: #666666 } /* Literal.Number.Integer.Long */\\n\\n.markdown h1 { margin-block-start: 0.34em }\\n.markdown h2 { margin-block-start: 0.42em }\\n.markdown h3 { margin-block-start: 0.5em }\\n.markdown h4 { margin-block-start: 0.67em }\\n.markdown h5 { margin-block-start: 0.84em }\\n.markdown h6 { margin-block-start: 1.17em }\\n.markdown ul { padding-inline-start: 2em }\\n.markdown ol { padding-inline-start: 2em }\\n.markdown strong { font-weight: 600 }\\n.markdown a { color: -webkit-link }\\n.markdown a { color: -moz-hyperlinkText }\\n\");\n    },\n    function(Bokeh) {\n      inject_raw_css(\".json-formatter-row {\\n  font-family: monospace;\\n}\\n.json-formatter-row,\\n.json-formatter-row a,\\n.json-formatter-row a:hover {\\n  color: black;\\n  text-decoration: none;\\n}\\n.json-formatter-row .json-formatter-row {\\n  margin-left: 1rem;\\n}\\n.json-formatter-row .json-formatter-children.json-formatter-empty {\\n  opacity: 0.5;\\n  margin-left: 1rem;\\n}\\n.json-formatter-row .json-formatter-children.json-formatter-empty:after {\\n  display: none;\\n}\\n.json-formatter-row .json-formatter-children.json-formatter-empty.json-formatter-object:after {\\n  content: \\\"No properties\\\";\\n}\\n.json-formatter-row .json-formatter-children.json-formatter-empty.json-formatter-array:after {\\n  content: \\\"[]\\\";\\n}\\n.json-formatter-row .json-formatter-string,\\n.json-formatter-row .json-formatter-stringifiable {\\n  color: green;\\n  white-space: pre;\\n  word-wrap: break-word;\\n}\\n.json-formatter-row .json-formatter-number {\\n  color: blue;\\n}\\n.json-formatter-row .json-formatter-boolean {\\n  color: red;\\n}\\n.json-formatter-row .json-formatter-null {\\n  color: #855A00;\\n}\\n.json-formatter-row .json-formatter-undefined {\\n  color: #ca0b69;\\n}\\n.json-formatter-row .json-formatter-function {\\n  color: #FF20ED;\\n}\\n.json-formatter-row .json-formatter-date {\\n  background-color: rgba(0, 0, 0, 0.05);\\n}\\n.json-formatter-row .json-formatter-url {\\n  text-decoration: underline;\\n  color: blue;\\n  cursor: pointer;\\n}\\n.json-formatter-row .json-formatter-bracket {\\n  color: blue;\\n}\\n.json-formatter-row .json-formatter-key {\\n  color: #00008B;\\n  padding-right: 0.2rem;\\n}\\n.json-formatter-row .json-formatter-toggler-link {\\n  cursor: pointer;\\n}\\n.json-formatter-row .json-formatter-toggler {\\n  line-height: 1.2rem;\\n  font-size: 0.7rem;\\n  vertical-align: middle;\\n  opacity: 0.6;\\n  cursor: pointer;\\n  padding-right: 0.2rem;\\n}\\n.json-formatter-row .json-formatter-toggler:after {\\n  display: inline-block;\\n  transition: transform 100ms ease-in;\\n  content: \\\"\\\\25BA\\\";\\n}\\n.json-formatter-row > a > .json-formatter-preview-text {\\n  opacity: 0;\\n  transition: opacity 0.15s ease-in;\\n  font-style: italic;\\n}\\n.json-formatter-row:hover > a > .json-formatter-preview-text {\\n  opacity: 0.6;\\n}\\n.json-formatter-row.json-formatter-open > .json-formatter-toggler-link .json-formatter-toggler:after {\\n  transform: rotate(90deg);\\n}\\n.json-formatter-row.json-formatter-open > .json-formatter-children:after {\\n  display: inline-block;\\n}\\n.json-formatter-row.json-formatter-open > a > .json-formatter-preview-text {\\n  display: none;\\n}\\n.json-formatter-row.json-formatter-open.json-formatter-empty:after {\\n  display: block;\\n}\\n.json-formatter-dark.json-formatter-row {\\n  font-family: monospace;\\n}\\n.json-formatter-dark.json-formatter-row,\\n.json-formatter-dark.json-formatter-row a,\\n.json-formatter-dark.json-formatter-row a:hover {\\n  color: white;\\n  text-decoration: none;\\n}\\n.json-formatter-dark.json-formatter-row .json-formatter-row {\\n  margin-left: 1rem;\\n}\\n.json-formatter-dark.json-formatter-row .json-formatter-children.json-formatter-empty {\\n  opacity: 0.5;\\n  margin-left: 1rem;\\n}\\n.json-formatter-dark.json-formatter-row .json-formatter-children.json-formatter-empty:after {\\n  display: none;\\n}\\n.json-formatter-dark.json-formatter-row .json-formatter-children.json-formatter-empty.json-formatter-object:after {\\n  content: \\\"No properties\\\";\\n}\\n.json-formatter-dark.json-formatter-row .json-formatter-children.json-formatter-empty.json-formatter-array:after {\\n  content: \\\"[]\\\";\\n}\\n.json-formatter-dark.json-formatter-row .json-formatter-string,\\n.json-formatter-dark.json-formatter-row .json-formatter-stringifiable {\\n  color: #31F031;\\n  white-space: pre;\\n  word-wrap: break-word;\\n}\\n.json-formatter-dark.json-formatter-row .json-formatter-number {\\n  color: #66C2FF;\\n}\\n.json-formatter-dark.json-formatter-row .json-formatter-boolean {\\n  color: #EC4242;\\n}\\n.json-formatter-dark.json-formatter-row .json-formatter-null {\\n  color: #EEC97D;\\n}\\n.json-formatter-dark.json-formatter-row .json-formatter-undefined {\\n  color: #ef8fbe;\\n}\\n.json-formatter-dark.json-formatter-row .json-formatter-function {\\n  color: #FD48CB;\\n}\\n.json-formatter-dark.json-formatter-row .json-formatter-date {\\n  background-color: rgba(255, 255, 255, 0.05);\\n}\\n.json-formatter-dark.json-formatter-row .json-formatter-url {\\n  text-decoration: underline;\\n  color: #027BFF;\\n  cursor: pointer;\\n}\\n.json-formatter-dark.json-formatter-row .json-formatter-bracket {\\n  color: #9494FF;\\n}\\n.json-formatter-dark.json-formatter-row .json-formatter-key {\\n  color: #23A0DB;\\n  padding-right: 0.2rem;\\n}\\n.json-formatter-dark.json-formatter-row .json-formatter-toggler-link {\\n  cursor: pointer;\\n}\\n.json-formatter-dark.json-formatter-row .json-formatter-toggler {\\n  line-height: 1.2rem;\\n  font-size: 0.7rem;\\n  vertical-align: middle;\\n  opacity: 0.6;\\n  cursor: pointer;\\n  padding-right: 0.2rem;\\n}\\n.json-formatter-dark.json-formatter-row .json-formatter-toggler:after {\\n  display: inline-block;\\n  transition: transform 100ms ease-in;\\n  content: \\\"\\\\25BA\\\";\\n}\\n.json-formatter-dark.json-formatter-row > a > .json-formatter-preview-text {\\n  opacity: 0;\\n  transition: opacity 0.15s ease-in;\\n  font-style: italic;\\n}\\n.json-formatter-dark.json-formatter-row:hover > a > .json-formatter-preview-text {\\n  opacity: 0.6;\\n}\\n.json-formatter-dark.json-formatter-row.json-formatter-open > .json-formatter-toggler-link .json-formatter-toggler:after {\\n  transform: rotate(90deg);\\n}\\n.json-formatter-dark.json-formatter-row.json-formatter-open > .json-formatter-children:after {\\n  display: inline-block;\\n}\\n.json-formatter-dark.json-formatter-row.json-formatter-open > a > .json-formatter-preview-text {\\n  display: none;\\n}\\n.json-formatter-dark.json-formatter-row.json-formatter-open.json-formatter-empty:after {\\n  display: block;\\n}\\n\");\n    },\n    function(Bokeh) {\n      inject_raw_css(\"table.panel-df {\\n    margin-left: auto;\\n    margin-right: auto;\\n    border: none;\\n    border-collapse: collapse;\\n    border-spacing: 0;\\n    color: black;\\n    font-size: 12px;\\n    table-layout: fixed;\\n    width: 100%;\\n}\\n\\n.panel-df tr, .panel-df th, .panel-df td {\\n    text-align: right;\\n    vertical-align: middle;\\n    padding: 0.5em 0.5em !important;\\n    line-height: normal;\\n    white-space: normal;\\n    max-width: none;\\n    border: none;\\n}\\n\\n.panel-df tbody {\\n    display: table-row-group;\\n    vertical-align: middle;\\n    border-color: inherit;\\n}\\n\\n.panel-df tbody tr:nth-child(odd) {\\n    background: #f5f5f5;\\n}\\n\\n.panel-df thead {\\n    border-bottom: 1px solid black;\\n    vertical-align: bottom;\\n}\\n\\n.panel-df tr:hover {\\n    background: lightblue !important;\\n    cursor: pointer;\\n}\\n\");\n    },\n    function(Bokeh) {\n      Bokeh.set_log_level(\"info\");\n    },\n    function(Bokeh) {\n    \n    \n    }\n  ];\n\n  function run_inline_js() {\n    \n    if (root.Bokeh !== undefined || force === true) {\n      \n    for (var i = 0; i < inline_js.length; i++) {\n      inline_js[i].call(root, root.Bokeh);\n    }\n    } else if (Date.now() < root._bokeh_timeout) {\n      setTimeout(run_inline_js, 100);\n    } else if (!root._bokeh_failed_load) {\n      console.log(\"Bokeh: BokehJS failed to load within specified timeout.\");\n      root._bokeh_failed_load = true;\n    } else if (force !== true) {\n      var cell = $(document.getElementById(null)).parents('.cell').data().cell;\n      cell.output_area.append_execute_result(NB_LOAD_WARNING)\n    }\n\n  }\n\n  if (root._bokeh_is_loading === 0) {\n    console.debug(\"Bokeh: BokehJS loaded, going straight to plotting\");\n    run_inline_js();\n  } else {\n    load_libs(css_urls, js_urls, function() {\n      console.debug(\"Bokeh: BokehJS plotting callback run at\", now());\n      run_inline_js();\n    });\n  }\n}(window));"
     },
     "metadata": {},
     "output_type": "display_data"
    },
    {
     "data": {
      "text/html": [
       "\n",
       "\n",
       "\n",
       "    \n",
       "    \n",
       "        \n",
       "        \n",
       "        \n",
       "            <div class=\"bk-root\" id=\"7557beb1-1043-48a1-a4b3-7a66e2ac5b30\" data-root-id=\"1185\"></div>\n",
       "        \n",
       "        \n",
       "    \n",
       "    \n",
       "    \n",
       "        <script type=\"application/json\" id=\"1516\">\n",
       "          {\"af454fc3-2ea6-4967-93e4-303d70363869\":{\"roots\":{\"references\":[{\"attributes\":{\"below\":[{\"id\":\"1012\"}],\"center\":[{\"id\":\"1014\"},{\"id\":\"1018\"}],\"left\":[{\"id\":\"1015\"}],\"plot_height\":300,\"plot_width\":324,\"renderers\":[{\"id\":\"1026\"}],\"title\":{\"id\":\"1002\"},\"toolbar\":{\"id\":\"1020\"},\"toolbar_location\":null,\"x_range\":{\"id\":\"1004\"},\"x_scale\":{\"id\":\"1008\"},\"y_range\":{\"id\":\"1006\"},\"y_scale\":{\"id\":\"1010\"}},\"id\":\"1001\",\"subtype\":\"Figure\",\"type\":\"Plot\"},{\"attributes\":{\"axis_label\":\"Count\",\"formatter\":{\"id\":\"1178\"},\"major_label_text_font_size\":\"0pt\",\"major_tick_line_color\":null,\"minor_tick_line_color\":\"white\",\"ticker\":{\"id\":\"1132\"}},\"id\":\"1131\",\"type\":\"LinearAxis\"},{\"attributes\":{},\"id\":\"1180\",\"type\":\"UnionRenderers\"},{\"attributes\":{\"callback\":null,\"tooltips\":[[\"homepage\",\"@col\"],[\"Count\",\"@cnt\"],[\"Percent\",\"@pct{0.2f}%\"]]},\"id\":\"1135\",\"type\":\"HoverTool\"},{\"attributes\":{},\"id\":\"1159\",\"type\":\"UnionRenderers\"},{\"attributes\":{},\"id\":\"1013\",\"type\":\"CategoricalTicker\"},{\"attributes\":{},\"id\":\"1132\",\"type\":\"BasicTicker\"},{\"attributes\":{\"axis\":{\"id\":\"1131\"},\"dimension\":1,\"grid_line_color\":null,\"ticker\":null},\"id\":\"1134\",\"type\":\"Grid\"},{\"attributes\":{\"bottom\":{\"value\":0.01},\"fill_color\":{\"value\":\"#1f77b4\"},\"line_color\":{\"value\":\"#1f77b4\"},\"top\":{\"field\":\"cnt\"},\"width\":{\"value\":0.9},\"x\":{\"field\":\"col\"}},\"id\":\"1140\",\"type\":\"VBar\"},{\"attributes\":{\"args\":{\"button\":{\"id\":\"1183\"},\"div\":{\"id\":\"1146\"}},\"code\":\"\\n        let buttonLabel = button.label;\\n        let isDivVisible = div.visible;\\n        div.visible = isDivVisible ? false : true;\\n        button.label = (buttonLabel === 'Show Stats Info') ? 'Hide Stats Info' : 'Show Stats Info';\\n    \"},\"id\":\"1184\",\"type\":\"CustomJS\"},{\"attributes\":{},\"id\":\"1074\",\"type\":\"BasicTicker\"},{\"attributes\":{\"source\":{\"id\":\"1080\"}},\"id\":\"1085\",\"type\":\"CDSView\"},{\"attributes\":{\"factors\":[\"Andrei Bulatov\",\"Angel Chang\",\"Angelica Lim\",\"Anne Lavergne\",\"Anoop Sarkar\",\"Arrvindh Shriraman\",\"Binay Bhattacharya\",\"Bobby Chan\",\"Brad Bart\",\"Brian Fraser\"]},\"id\":\"1004\",\"type\":\"FactorRange\"},{\"attributes\":{\"below\":[{\"id\":\"1128\"}],\"center\":[{\"id\":\"1130\"},{\"id\":\"1134\"}],\"left\":[{\"id\":\"1131\"}],\"plot_height\":300,\"plot_width\":324,\"renderers\":[{\"id\":\"1142\"}],\"title\":{\"id\":\"1118\"},\"toolbar\":{\"id\":\"1136\"},\"toolbar_location\":null,\"x_range\":{\"id\":\"1120\"},\"x_scale\":{\"id\":\"1124\"},\"y_range\":{\"id\":\"1122\"},\"y_scale\":{\"id\":\"1126\"}},\"id\":\"1117\",\"subtype\":\"Figure\",\"type\":\"Plot\"},{\"attributes\":{},\"id\":\"1010\",\"type\":\"LinearScale\"},{\"attributes\":{\"active_drag\":\"auto\",\"active_inspect\":\"auto\",\"active_multi\":null,\"active_scroll\":\"auto\",\"active_tap\":\"auto\",\"tools\":[{\"id\":\"1135\"}]},\"id\":\"1136\",\"type\":\"Toolbar\"},{\"attributes\":{\"text\":\"homepage (20.3% missing)\",\"text_font_size\":{\"value\":\"10pt\"}},\"id\":\"1118\",\"type\":\"Title\"},{\"attributes\":{},\"id\":\"1150\",\"type\":\"BasicTickFormatter\"},{\"attributes\":{\"bottom\":{\"value\":0.01},\"fill_color\":{\"value\":\"#1f77b4\"},\"line_color\":{\"value\":\"#1f77b4\"},\"top\":{\"field\":\"cnt\"},\"width\":{\"value\":0.9},\"x\":{\"field\":\"col\"}},\"id\":\"1082\",\"type\":\"VBar\"},{\"attributes\":{\"source\":{\"id\":\"1109\"}},\"id\":\"1114\",\"type\":\"CDSView\"},{\"attributes\":{\"data_source\":{\"id\":\"1109\"},\"glyph\":{\"id\":\"1111\"},\"hover_glyph\":null,\"muted_glyph\":null,\"nonselection_glyph\":{\"id\":\"1112\"},\"selection_glyph\":null,\"view\":{\"id\":\"1114\"}},\"id\":\"1113\",\"type\":\"GlyphRenderer\"},{\"attributes\":{},\"id\":\"1016\",\"type\":\"BasicTicker\"},{\"attributes\":{},\"id\":\"1171\",\"type\":\"BasicTickFormatter\"},{\"attributes\":{\"text\":\"name\",\"text_font_size\":{\"value\":\"10pt\"}},\"id\":\"1002\",\"type\":\"Title\"},{\"attributes\":{\"code\":\"\\n            if (tick.length &gt; 15) return tick.substring(0, 15-2) + '...';\\n            else return tick;\\n        \"},\"id\":\"1115\",\"type\":\"FuncTickFormatter\"},{\"attributes\":{},\"id\":\"1122\",\"type\":\"DataRange1d\"},{\"attributes\":{\"below\":[{\"id\":\"1099\"}],\"center\":[{\"id\":\"1101\"},{\"id\":\"1105\"}],\"left\":[{\"id\":\"1102\"}],\"plot_height\":300,\"plot_width\":324,\"renderers\":[{\"id\":\"1113\"}],\"title\":{\"id\":\"1089\"},\"toolbar\":{\"id\":\"1107\"},\"toolbar_location\":null,\"x_range\":{\"id\":\"1091\"},\"x_scale\":{\"id\":\"1095\"},\"y_range\":{\"id\":\"1093\"},\"y_scale\":{\"id\":\"1097\"}},\"id\":\"1088\",\"subtype\":\"Figure\",\"type\":\"Plot\"},{\"attributes\":{\"text\":\"profile\",\"text_font_size\":{\"value\":\"10pt\"}},\"id\":\"1089\",\"type\":\"Title\"},{\"attributes\":{\"data\":{\"cnt\":[1,1,1,1,1,1,1,1,1,1],\"col\":[\"Andrei Bulatov\",\"Angel Chang\",\"Angelica Lim\",\"Anne Lavergne\",\"Anoop Sarkar\",\"Arrvindh Shriraman\",\"Binay Bhattacharya\",\"Bobby Chan\",\"Brad Bart\",\"Brian Fraser\"],\"index\":[0,1,2,3,4,5,6,7,8,9],\"pct\":{\"__ndarray__\":\"AAAAAAAA+T8AAAAAAAD5PwAAAAAAAPk/AAAAAAAA+T8AAAAAAAD5PwAAAAAAAPk/AAAAAAAA+T8AAAAAAAD5PwAAAAAAAPk/AAAAAAAA+T8=\",\"dtype\":\"float64\",\"shape\":[10]}},\"selected\":{\"id\":\"1151\"},\"selection_policy\":{\"id\":\"1152\"}},\"id\":\"1022\",\"type\":\"ColumnDataSource\"},{\"attributes\":{},\"id\":\"1151\",\"type\":\"Selection\"},{\"attributes\":{\"active_drag\":\"auto\",\"active_inspect\":\"auto\",\"active_multi\":null,\"active_scroll\":\"auto\",\"active_tap\":\"auto\",\"tools\":[{\"id\":\"1077\"}]},\"id\":\"1078\",\"type\":\"Toolbar\"},{\"attributes\":{\"code\":\"\\n            if (tick.length &gt; 15) return tick.substring(0, 15-2) + '...';\\n            else return tick;\\n        \"},\"id\":\"1057\",\"type\":\"FuncTickFormatter\"},{\"attributes\":{},\"id\":\"1152\",\"type\":\"UnionRenderers\"},{\"attributes\":{\"axis\":{\"id\":\"1073\"},\"dimension\":1,\"grid_line_color\":null,\"ticker\":null},\"id\":\"1076\",\"type\":\"Grid\"},{\"attributes\":{\"data\":{\"cnt\":[1,1,1,1,1,1,1,1,1,1],\"col\":[\"http://www.sfu.ca/computing/people/faculty/ArrvindhShriraman.html\",\"http://www.sfu.ca/computing/people/faculty/EugeniaTernovska.html\",\"http://www.sfu.ca/computing/people/faculty/JosephPeters.html\",\"http://www.sfu.ca/computing/people/faculty/NickSumner.html\",\"http://www.sfu.ca/computing/people/faculty/QianpingGu.html\",\"http://www.sfu.ca/computing/people/faculty/RameshKrishnamurti.html\",\"http://www.sfu.ca/computing/people/faculty/andreibulatov.html\",\"http://www.sfu.ca/computing/people/faculty/angelchang.html\",\"http://www.sfu.ca/computing/people/faculty/angelicalim.html\",\"http://www.sfu.ca/computing/people/faculty/annelavergne.html\"],\"index\":[0,1,2,3,4,5,6,7,8,9],\"pct\":{\"__ndarray__\":\"AAAAAAAA+T8AAAAAAAD5PwAAAAAAAPk/AAAAAAAA+T8AAAAAAAD5PwAAAAAAAPk/AAAAAAAA+T8AAAAAAAD5PwAAAAAAAPk/AAAAAAAA+T8=\",\"dtype\":\"float64\",\"shape\":[10]}},\"selected\":{\"id\":\"1172\"},\"selection_policy\":{\"id\":\"1173\"}},\"id\":\"1109\",\"type\":\"ColumnDataSource\"},{\"attributes\":{\"children\":[{\"id\":\"1183\"},{\"id\":\"1146\"},{\"id\":\"1182\"}]},\"id\":\"1185\",\"type\":\"Column\"},{\"attributes\":{\"button_type\":\"primary\",\"icon\":null,\"js_event_callbacks\":{\"button_click\":[{\"id\":\"1184\"}]},\"label\":\"Show Stats Info\",\"width\":972},\"id\":\"1183\",\"type\":\"Button\"},{\"attributes\":{},\"id\":\"1093\",\"type\":\"DataRange1d\"},{\"attributes\":{\"data_source\":{\"id\":\"1022\"},\"glyph\":{\"id\":\"1024\"},\"hover_glyph\":null,\"muted_glyph\":null,\"nonselection_glyph\":{\"id\":\"1025\"},\"selection_glyph\":null,\"view\":{\"id\":\"1027\"}},\"id\":\"1026\",\"type\":\"GlyphRenderer\"},{\"attributes\":{\"data_source\":{\"id\":\"1080\"},\"glyph\":{\"id\":\"1082\"},\"hover_glyph\":null,\"muted_glyph\":null,\"nonselection_glyph\":{\"id\":\"1083\"},\"selection_glyph\":null,\"view\":{\"id\":\"1085\"}},\"id\":\"1084\",\"type\":\"GlyphRenderer\"},{\"attributes\":{},\"id\":\"1158\",\"type\":\"Selection\"},{\"attributes\":{\"code\":\"\\n            if (tick.length &gt; 15) return tick.substring(0, 15-2) + '...';\\n            else return tick;\\n        \"},\"id\":\"1086\",\"type\":\"FuncTickFormatter\"},{\"attributes\":{\"bottom\":{\"value\":0.01},\"fill_color\":{\"value\":\"#1f77b4\"},\"line_color\":{\"value\":\"#1f77b4\"},\"top\":{\"field\":\"cnt\"},\"width\":{\"value\":0.9},\"x\":{\"field\":\"col\"}},\"id\":\"1024\",\"type\":\"VBar\"},{\"attributes\":{},\"id\":\"1172\",\"type\":\"Selection\"},{\"attributes\":{\"factors\":[\"Instruction\",\"Databases and Data Mining\",\"Robotics and Autonomous Systems\",\"Artificial Intelligence, Robotics, Multi-Agent/Robot Systems, Machine Learning\",\"Automated debugging, debugging tools, concurrency &amp; parallelism, program analysis &amp; transformation\",\"Bioinformatics, Evolutionary Computation, Computational Intelligence, Visualization\",\"Combinatorial Optimization and Approximation Algorithms\",\"Computational Biology\",\"Computational Biology and Machine Learning\",\"Computational Color Vision\"]},\"id\":\"1062\",\"type\":\"FactorRange\"},{\"attributes\":{},\"id\":\"1124\",\"type\":\"CategoricalScale\"},{\"attributes\":{\"callback\":null,\"tooltips\":[[\"name\",\"@col\"],[\"Count\",\"@cnt\"],[\"Percent\",\"@pct{0.2f}%\"]]},\"id\":\"1019\",\"type\":\"HoverTool\"},{\"attributes\":{\"bottom\":{\"value\":0.01},\"fill_alpha\":{\"value\":0.1},\"fill_color\":{\"value\":\"#1f77b4\"},\"line_alpha\":{\"value\":0.1},\"line_color\":{\"value\":\"#1f77b4\"},\"top\":{\"field\":\"cnt\"},\"width\":{\"value\":0.9},\"x\":{\"field\":\"col\"}},\"id\":\"1025\",\"type\":\"VBar\"},{\"attributes\":{\"axis\":{\"id\":\"1012\"},\"grid_line_color\":null,\"ticker\":null},\"id\":\"1014\",\"type\":\"Grid\"},{\"attributes\":{},\"id\":\"1126\",\"type\":\"LinearScale\"},{\"attributes\":{},\"id\":\"1035\",\"type\":\"DataRange1d\"},{\"attributes\":{\"bottom\":{\"value\":0.01},\"fill_alpha\":{\"value\":0.1},\"fill_color\":{\"value\":\"#1f77b4\"},\"line_alpha\":{\"value\":0.1},\"line_color\":{\"value\":\"#1f77b4\"},\"top\":{\"field\":\"cnt\"},\"width\":{\"value\":0.9},\"x\":{\"field\":\"col\"}},\"id\":\"1083\",\"type\":\"VBar\"},{\"attributes\":{},\"id\":\"1173\",\"type\":\"UnionRenderers\"},{\"attributes\":{\"below\":[{\"id\":\"1070\"}],\"center\":[{\"id\":\"1072\"},{\"id\":\"1076\"}],\"left\":[{\"id\":\"1073\"}],\"plot_height\":300,\"plot_width\":324,\"renderers\":[{\"id\":\"1084\"}],\"title\":{\"id\":\"1060\"},\"toolbar\":{\"id\":\"1078\"},\"toolbar_location\":null,\"x_range\":{\"id\":\"1062\"},\"x_scale\":{\"id\":\"1066\"},\"y_range\":{\"id\":\"1064\"},\"y_scale\":{\"id\":\"1068\"}},\"id\":\"1059\",\"subtype\":\"Figure\",\"type\":\"Plot\"},{\"attributes\":{\"axis\":{\"id\":\"1099\"},\"grid_line_color\":null,\"ticker\":null},\"id\":\"1101\",\"type\":\"Grid\"},{\"attributes\":{},\"id\":\"1008\",\"type\":\"CategoricalScale\"},{\"attributes\":{},\"id\":\"1066\",\"type\":\"CategoricalScale\"},{\"attributes\":{\"data\":{\"cnt\":[10,2,2,1,1,1,1,1,1,1],\"col\":[\"Instruction\",\"Databases and Data Mining\",\"Robotics and Autonomous Systems\",\"Artificial Intelligence, Robotics, Multi-Agent/Robot Systems, Machine Learning\",\"Automated debugging, debugging tools, concurrency &amp; parallelism, program analysis &amp; transformation\",\"Bioinformatics, Evolutionary Computation, Computational Intelligence, Visualization\",\"Combinatorial Optimization and Approximation Algorithms\",\"Computational Biology\",\"Computational Biology and Machine Learning\",\"Computational Color Vision\"],\"index\":[0,1,2,3,4,5,6,7,8,9],\"pct\":{\"__ndarray__\":\"AAAAAABAL0AAAAAAAAAJQAAAAAAAAAlAAAAAAAAA+T8AAAAAAAD5PwAAAAAAAPk/AAAAAAAA+T8AAAAAAAD5PwAAAAAAAPk/AAAAAAAA+T8=\",\"dtype\":\"float64\",\"shape\":[10]}},\"selected\":{\"id\":\"1165\"},\"selection_policy\":{\"id\":\"1166\"}},\"id\":\"1080\",\"type\":\"ColumnDataSource\"},{\"attributes\":{\"axis_label\":\"Count\",\"formatter\":{\"id\":\"1150\"},\"major_label_text_font_size\":\"0pt\",\"major_tick_line_color\":null,\"minor_tick_line_color\":\"white\",\"ticker\":{\"id\":\"1016\"}},\"id\":\"1015\",\"type\":\"LinearAxis\"},{\"attributes\":{},\"id\":\"1006\",\"type\":\"DataRange1d\"},{\"attributes\":{\"factors\":[\"http://www.sfu.ca/computing/people/faculty/ArrvindhShriraman.html\",\"http://www.sfu.ca/computing/people/faculty/EugeniaTernovska.html\",\"http://www.sfu.ca/computing/people/faculty/JosephPeters.html\",\"http://www.sfu.ca/computing/people/faculty/NickSumner.html\",\"http://www.sfu.ca/computing/people/faculty/QianpingGu.html\",\"http://www.sfu.ca/computing/people/faculty/RameshKrishnamurti.html\",\"http://www.sfu.ca/computing/people/faculty/andreibulatov.html\",\"http://www.sfu.ca/computing/people/faculty/angelchang.html\",\"http://www.sfu.ca/computing/people/faculty/angelicalim.html\",\"http://www.sfu.ca/computing/people/faculty/annelavergne.html\"]},\"id\":\"1091\",\"type\":\"FactorRange\"},{\"attributes\":{},\"id\":\"1100\",\"type\":\"CategoricalTicker\"},{\"attributes\":{\"children\":[[{\"id\":\"1001\"},0,0],[{\"id\":\"1030\"},0,1],[{\"id\":\"1059\"},0,2],[{\"id\":\"1088\"},1,0],[{\"id\":\"1117\"},1,1]]},\"id\":\"1182\",\"type\":\"GridBox\"},{\"attributes\":{\"bottom\":{\"value\":0.01},\"fill_alpha\":{\"value\":0.1},\"fill_color\":{\"value\":\"#1f77b4\"},\"line_alpha\":{\"value\":0.1},\"line_color\":{\"value\":\"#1f77b4\"},\"top\":{\"field\":\"cnt\"},\"width\":{\"value\":0.9},\"x\":{\"field\":\"col\"}},\"id\":\"1112\",\"type\":\"VBar\"},{\"attributes\":{\"active_drag\":\"auto\",\"active_inspect\":\"auto\",\"active_multi\":null,\"active_scroll\":\"auto\",\"active_tap\":\"auto\",\"tools\":[{\"id\":\"1048\"}]},\"id\":\"1049\",\"type\":\"Toolbar\"},{\"attributes\":{\"factors\":[\"http://hci.cs.sfu.ca/\",\"http://people.inf.ethz.ch/aksoyy/\",\"http://www.cs.sfu.ca/~abulatov/\",\"http://www.cs.sfu.ca/~alavergn/\",\"http://www.cs.sfu.ca/~anoop/\",\"http://www.cs.sfu.ca/~ashriram/\",\"http://www.cs.sfu.ca/~bbart/\",\"http://www.cs.sfu.ca/~bfraser/\",\"http://www.cs.sfu.ca/~binay/\",\"http://www.cs.sfu.ca/~cameron/\"]},\"id\":\"1120\",\"type\":\"FactorRange\"},{\"attributes\":{\"data_source\":{\"id\":\"1051\"},\"glyph\":{\"id\":\"1053\"},\"hover_glyph\":null,\"muted_glyph\":null,\"nonselection_glyph\":{\"id\":\"1054\"},\"selection_glyph\":null,\"view\":{\"id\":\"1056\"}},\"id\":\"1055\",\"type\":\"GlyphRenderer\"},{\"attributes\":{\"code\":\"\\n            if (tick.length &gt; 15) return tick.substring(0, 15-2) + '...';\\n            else return tick;\\n        \"},\"id\":\"1144\",\"type\":\"FuncTickFormatter\"},{\"attributes\":{},\"id\":\"1164\",\"type\":\"BasicTickFormatter\"},{\"attributes\":{\"text\":\"area\",\"text_font_size\":{\"value\":\"10pt\"}},\"id\":\"1060\",\"type\":\"Title\"},{\"attributes\":{},\"id\":\"1039\",\"type\":\"LinearScale\"},{\"attributes\":{\"axis_label\":\"Top 10 of 64 profile\",\"axis_label_standoff\":0,\"formatter\":{\"id\":\"1115\"},\"major_label_orientation\":1.0471975511965976,\"major_label_text_font_size\":\"9pt\",\"minor_tick_line_color\":\"white\",\"ticker\":{\"id\":\"1100\"}},\"id\":\"1099\",\"type\":\"CategoricalAxis\"},{\"attributes\":{\"axis_label\":\"Top 10 of 64 name\",\"axis_label_standoff\":0,\"formatter\":{\"id\":\"1028\"},\"major_label_orientation\":1.0471975511965976,\"major_label_text_font_size\":\"9pt\",\"minor_tick_line_color\":\"white\",\"ticker\":{\"id\":\"1013\"}},\"id\":\"1012\",\"type\":\"CategoricalAxis\"},{\"attributes\":{\"callback\":null,\"tooltips\":[[\"rank\",\"@col\"],[\"Count\",\"@cnt\"],[\"Percent\",\"@pct{0.2f}%\"]]},\"id\":\"1048\",\"type\":\"HoverTool\"},{\"attributes\":{\"bottom\":{\"value\":0.01},\"fill_color\":{\"value\":\"#1f77b4\"},\"line_color\":{\"value\":\"#1f77b4\"},\"top\":{\"field\":\"cnt\"},\"width\":{\"value\":0.9},\"x\":{\"field\":\"col\"}},\"id\":\"1053\",\"type\":\"VBar\"},{\"attributes\":{\"axis_label\":\"Top 10 of 51 homepage\",\"axis_label_standoff\":0,\"formatter\":{\"id\":\"1144\"},\"major_label_orientation\":1.0471975511965976,\"major_label_text_font_size\":\"9pt\",\"minor_tick_line_color\":\"white\",\"ticker\":{\"id\":\"1129\"}},\"id\":\"1128\",\"type\":\"CategoricalAxis\"},{\"attributes\":{\"bottom\":{\"value\":0.01},\"fill_color\":{\"value\":\"#1f77b4\"},\"line_color\":{\"value\":\"#1f77b4\"},\"top\":{\"field\":\"cnt\"},\"width\":{\"value\":0.9},\"x\":{\"field\":\"col\"}},\"id\":\"1111\",\"type\":\"VBar\"},{\"attributes\":{},\"id\":\"1129\",\"type\":\"CategoricalTicker\"},{\"attributes\":{},\"id\":\"1103\",\"type\":\"BasicTicker\"},{\"attributes\":{},\"id\":\"1042\",\"type\":\"CategoricalTicker\"},{\"attributes\":{\"source\":{\"id\":\"1138\"}},\"id\":\"1143\",\"type\":\"CDSView\"},{\"attributes\":{},\"id\":\"1064\",\"type\":\"DataRange1d\"},{\"attributes\":{\"axis_label\":\"Count\",\"formatter\":{\"id\":\"1164\"},\"major_label_text_font_size\":\"0pt\",\"major_tick_line_color\":null,\"minor_tick_line_color\":\"white\",\"ticker\":{\"id\":\"1074\"}},\"id\":\"1073\",\"type\":\"LinearAxis\"},{\"attributes\":{\"axis\":{\"id\":\"1041\"},\"grid_line_color\":null,\"ticker\":null},\"id\":\"1043\",\"type\":\"Grid\"},{\"attributes\":{\"source\":{\"id\":\"1051\"}},\"id\":\"1056\",\"type\":\"CDSView\"},{\"attributes\":{},\"id\":\"1045\",\"type\":\"BasicTicker\"},{\"attributes\":{\"bottom\":{\"value\":0.01},\"fill_alpha\":{\"value\":0.1},\"fill_color\":{\"value\":\"#1f77b4\"},\"line_alpha\":{\"value\":0.1},\"line_color\":{\"value\":\"#1f77b4\"},\"top\":{\"field\":\"cnt\"},\"width\":{\"value\":0.9},\"x\":{\"field\":\"col\"}},\"id\":\"1054\",\"type\":\"VBar\"},{\"attributes\":{\"source\":{\"id\":\"1022\"}},\"id\":\"1027\",\"type\":\"CDSView\"},{\"attributes\":{},\"id\":\"1165\",\"type\":\"Selection\"},{\"attributes\":{},\"id\":\"1166\",\"type\":\"UnionRenderers\"},{\"attributes\":{\"height\":280,\"style\":{\"width\":\"100%\"},\"text\":\"\\n    &lt;div style=\\\"display: flex;\\\"&gt;\\n        \\n    &lt;div style=\\\"flex: 50%; margin-right: 6px;\\\"&gt;\\n        &lt;table style=\\\"width: 100%; table-layout: auto;\\\"&gt;\\n            &lt;tbody&gt;&lt;h3 style=\\\"text-align:center;\\\"&gt;Dataset Statistics&lt;/h3&gt;\\n    &lt;tr style=\\\"border-bottom: 1px solid;\\\"&gt;\\n        &lt;th style=\\\"text-align: left\\\"&gt;Number of Variables&lt;/th&gt;\\n        &lt;td style=\\\"text-align: left\\\"&gt;5&lt;/td&gt;\\n    &lt;/tr&gt;\\n    \\n    &lt;tr style=\\\"border-bottom: 1px solid;\\\"&gt;\\n        &lt;th style=\\\"text-align: left\\\"&gt;Number of Observations&lt;/th&gt;\\n        &lt;td style=\\\"text-align: left\\\"&gt;64&lt;/td&gt;\\n    &lt;/tr&gt;\\n    \\n    &lt;tr style=\\\"border-bottom: 1px solid;\\\"&gt;\\n        &lt;th style=\\\"text-align: left\\\"&gt;Missing Cells&lt;/th&gt;\\n        &lt;td style=\\\"text-align: left\\\"&gt;13&lt;/td&gt;\\n    &lt;/tr&gt;\\n    \\n    &lt;tr style=\\\"border-bottom: 1px solid;\\\"&gt;\\n        &lt;th style=\\\"text-align: left\\\"&gt;Missing Cells (%)&lt;/th&gt;\\n        &lt;td style=\\\"text-align: left\\\"&gt;4.1%&lt;/td&gt;\\n    &lt;/tr&gt;\\n    \\n    &lt;tr style=\\\"border-bottom: 1px solid;\\\"&gt;\\n        &lt;th style=\\\"text-align: left\\\"&gt;Duplicate Rows&lt;/th&gt;\\n        &lt;td style=\\\"text-align: left\\\"&gt;0&lt;/td&gt;\\n    &lt;/tr&gt;\\n    \\n    &lt;tr style=\\\"border-bottom: 1px solid;\\\"&gt;\\n        &lt;th style=\\\"text-align: left\\\"&gt;Duplicate Rows (%)&lt;/th&gt;\\n        &lt;td style=\\\"text-align: left\\\"&gt;0.0%&lt;/td&gt;\\n    &lt;/tr&gt;\\n    \\n    &lt;tr style=\\\"border-bottom: 1px solid;\\\"&gt;\\n        &lt;th style=\\\"text-align: left\\\"&gt;Total Size in Memory&lt;/th&gt;\\n        &lt;td style=\\\"text-align: left\\\"&gt;2.6 KB&lt;/td&gt;\\n    &lt;/tr&gt;\\n    \\n    &lt;tr style=\\\"border-bottom: 1px solid;\\\"&gt;\\n        &lt;th style=\\\"text-align: left\\\"&gt;Average Record Size in Memory&lt;/th&gt;\\n        &lt;td style=\\\"text-align: left\\\"&gt;42.0 B&lt;/td&gt;\\n    &lt;/tr&gt;\\n    &lt;/tbody&gt;\\n        &lt;/table&gt;\\n    &lt;/div&gt;\\n    \\n        \\n    &lt;div style=\\\"flex: 50%; margin-right: 6px;\\\"&gt;\\n        &lt;table style=\\\"width: 100%; table-layout: auto;\\\"&gt;\\n            &lt;tbody&gt;&lt;h3 style=\\\"text-align:center;\\\"&gt;Variable Types&lt;/h3&gt;\\n    &lt;tr style=\\\"border-bottom: 1px solid;\\\"&gt;\\n        &lt;th style=\\\"text-align: left\\\"&gt;Categorical&lt;/th&gt;\\n        &lt;td style=\\\"text-align: left\\\"&gt;5&lt;/td&gt;\\n    &lt;/tr&gt;\\n    &lt;/tbody&gt;\\n        &lt;/table&gt;\\n    &lt;/div&gt;\\n    \\n    &lt;/div&gt;\\n    \",\"visible\":false,\"width\":972},\"id\":\"1146\",\"type\":\"Div\"},{\"attributes\":{\"text\":\"rank\",\"text_font_size\":{\"value\":\"10pt\"}},\"id\":\"1031\",\"type\":\"Title\"},{\"attributes\":{\"factors\":[\"Professor\",\"Assistant Professor\",\"Associate Professor\",\"Senior Lecturer\",\"Lecturer\",\"University Lecturer\",\"Assistant Professor Of Professional Practice\"]},\"id\":\"1033\",\"type\":\"FactorRange\"},{\"attributes\":{\"axis\":{\"id\":\"1015\"},\"dimension\":1,\"grid_line_color\":null,\"ticker\":null},\"id\":\"1018\",\"type\":\"Grid\"},{\"attributes\":{\"bottom\":{\"value\":0.01},\"fill_alpha\":{\"value\":0.1},\"fill_color\":{\"value\":\"#1f77b4\"},\"line_alpha\":{\"value\":0.1},\"line_color\":{\"value\":\"#1f77b4\"},\"top\":{\"field\":\"cnt\"},\"width\":{\"value\":0.9},\"x\":{\"field\":\"col\"}},\"id\":\"1141\",\"type\":\"VBar\"},{\"attributes\":{\"data_source\":{\"id\":\"1138\"},\"glyph\":{\"id\":\"1140\"},\"hover_glyph\":null,\"muted_glyph\":null,\"nonselection_glyph\":{\"id\":\"1141\"},\"selection_glyph\":null,\"view\":{\"id\":\"1143\"}},\"id\":\"1142\",\"type\":\"GlyphRenderer\"},{\"attributes\":{\"axis_label\":\"Count\",\"formatter\":{\"id\":\"1157\"},\"major_label_text_font_size\":\"0pt\",\"major_tick_line_color\":null,\"minor_tick_line_color\":\"white\",\"ticker\":{\"id\":\"1045\"}},\"id\":\"1044\",\"type\":\"LinearAxis\"},{\"attributes\":{\"axis_label\":\"Top 10 of 53 area\",\"axis_label_standoff\":0,\"formatter\":{\"id\":\"1086\"},\"major_label_orientation\":1.0471975511965976,\"major_label_text_font_size\":\"9pt\",\"minor_tick_line_color\":\"white\",\"ticker\":{\"id\":\"1071\"}},\"id\":\"1070\",\"type\":\"CategoricalAxis\"},{\"attributes\":{\"below\":[{\"id\":\"1041\"}],\"center\":[{\"id\":\"1043\"},{\"id\":\"1047\"}],\"left\":[{\"id\":\"1044\"}],\"plot_height\":300,\"plot_width\":324,\"renderers\":[{\"id\":\"1055\"}],\"title\":{\"id\":\"1031\"},\"toolbar\":{\"id\":\"1049\"},\"toolbar_location\":null,\"x_range\":{\"id\":\"1033\"},\"x_scale\":{\"id\":\"1037\"},\"y_range\":{\"id\":\"1035\"},\"y_scale\":{\"id\":\"1039\"}},\"id\":\"1030\",\"subtype\":\"Figure\",\"type\":\"Plot\"},{\"attributes\":{\"callback\":null,\"tooltips\":[[\"profile\",\"@col\"],[\"Count\",\"@cnt\"],[\"Percent\",\"@pct{0.2f}%\"]]},\"id\":\"1106\",\"type\":\"HoverTool\"},{\"attributes\":{\"axis\":{\"id\":\"1102\"},\"dimension\":1,\"grid_line_color\":null,\"ticker\":null},\"id\":\"1105\",\"type\":\"Grid\"},{\"attributes\":{\"axis\":{\"id\":\"1128\"},\"grid_line_color\":null,\"ticker\":null},\"id\":\"1130\",\"type\":\"Grid\"},{\"attributes\":{},\"id\":\"1178\",\"type\":\"BasicTickFormatter\"},{\"attributes\":{},\"id\":\"1095\",\"type\":\"CategoricalScale\"},{\"attributes\":{\"data\":{\"cnt\":[1,1,1,1,1,1,1,1,1,1],\"col\":[\"http://hci.cs.sfu.ca/\",\"http://people.inf.ethz.ch/aksoyy/\",\"http://www.cs.sfu.ca/~abulatov/\",\"http://www.cs.sfu.ca/~alavergn/\",\"http://www.cs.sfu.ca/~anoop/\",\"http://www.cs.sfu.ca/~ashriram/\",\"http://www.cs.sfu.ca/~bbart/\",\"http://www.cs.sfu.ca/~bfraser/\",\"http://www.cs.sfu.ca/~binay/\",\"http://www.cs.sfu.ca/~cameron/\"],\"index\":[0,1,2,3,4,5,6,7,8,9],\"pct\":{\"__ndarray__\":\"AAAAAAAA+T8AAAAAAAD5PwAAAAAAAPk/AAAAAAAA+T8AAAAAAAD5PwAAAAAAAPk/AAAAAAAA+T8AAAAAAAD5PwAAAAAAAPk/AAAAAAAA+T8=\",\"dtype\":\"float64\",\"shape\":[10]}},\"selected\":{\"id\":\"1179\"},\"selection_policy\":{\"id\":\"1180\"}},\"id\":\"1138\",\"type\":\"ColumnDataSource\"},{\"attributes\":{\"axis\":{\"id\":\"1070\"},\"grid_line_color\":null,\"ticker\":null},\"id\":\"1072\",\"type\":\"Grid\"},{\"attributes\":{\"active_drag\":\"auto\",\"active_inspect\":\"auto\",\"active_multi\":null,\"active_scroll\":\"auto\",\"active_tap\":\"auto\",\"tools\":[{\"id\":\"1019\"}]},\"id\":\"1020\",\"type\":\"Toolbar\"},{\"attributes\":{},\"id\":\"1157\",\"type\":\"BasicTickFormatter\"},{\"attributes\":{\"callback\":null,\"tooltips\":[[\"area\",\"@col\"],[\"Count\",\"@cnt\"],[\"Percent\",\"@pct{0.2f}%\"]]},\"id\":\"1077\",\"type\":\"HoverTool\"},{\"attributes\":{\"active_drag\":\"auto\",\"active_inspect\":\"auto\",\"active_multi\":null,\"active_scroll\":\"auto\",\"active_tap\":\"auto\",\"tools\":[{\"id\":\"1106\"}]},\"id\":\"1107\",\"type\":\"Toolbar\"},{\"attributes\":{\"axis\":{\"id\":\"1044\"},\"dimension\":1,\"grid_line_color\":null,\"ticker\":null},\"id\":\"1047\",\"type\":\"Grid\"},{\"attributes\":{\"axis_label\":\"Count\",\"formatter\":{\"id\":\"1171\"},\"major_label_text_font_size\":\"0pt\",\"major_tick_line_color\":null,\"minor_tick_line_color\":\"white\",\"ticker\":{\"id\":\"1103\"}},\"id\":\"1102\",\"type\":\"LinearAxis\"},{\"attributes\":{\"formatter\":{\"id\":\"1057\"},\"major_label_orientation\":1.0471975511965976,\"major_label_text_font_size\":\"9pt\",\"minor_tick_line_color\":\"white\",\"ticker\":{\"id\":\"1042\"}},\"id\":\"1041\",\"type\":\"CategoricalAxis\"},{\"attributes\":{},\"id\":\"1097\",\"type\":\"LinearScale\"},{\"attributes\":{\"code\":\"\\n            if (tick.length &gt; 15) return tick.substring(0, 15-2) + '...';\\n            else return tick;\\n        \"},\"id\":\"1028\",\"type\":\"FuncTickFormatter\"},{\"attributes\":{\"data\":{\"cnt\":[29,12,9,8,3,2,1],\"col\":[\"Professor\",\"Assistant Professor\",\"Associate Professor\",\"Senior Lecturer\",\"Lecturer\",\"University Lecturer\",\"Assistant Professor Of Professional Practice\"],\"index\":[0,1,2,3,4,5,6],\"pct\":{\"__ndarray__\":\"AAAAAACoRkAAAAAAAMAyQAAAAAAAICxAAAAAAAAAKUAAAAAAAMASQAAAAAAAAAlAAAAAAAAA+T8=\",\"dtype\":\"float64\",\"shape\":[7]}},\"selected\":{\"id\":\"1158\"},\"selection_policy\":{\"id\":\"1159\"}},\"id\":\"1051\",\"type\":\"ColumnDataSource\"},{\"attributes\":{},\"id\":\"1071\",\"type\":\"CategoricalTicker\"},{\"attributes\":{},\"id\":\"1068\",\"type\":\"LinearScale\"},{\"attributes\":{},\"id\":\"1179\",\"type\":\"Selection\"},{\"attributes\":{},\"id\":\"1037\",\"type\":\"CategoricalScale\"}],\"root_ids\":[\"1185\"]},\"title\":\"Bokeh Application\",\"version\":\"2.0.2\"}}\n",
       "        </script>\n",
       "        <script type=\"text/javascript\">\n",
       "          (function() {\n",
       "            var fn = function() {\n",
       "              var __dataprep_bokeh_fix = (f) => document.Bokeh === undefined ? setTimeout(f, 1000) : f(); __dataprep_bokeh_fix(function() {\n",
       "                (function(root) {\n",
       "                  function embed_document(root) {\n",
       "                    \n",
       "                  var docs_json = document.getElementById('1516').textContent;\n",
       "                  var render_items = [{\"docid\":\"af454fc3-2ea6-4967-93e4-303d70363869\",\"root_ids\":[\"1185\"],\"roots\":{\"1185\":\"7557beb1-1043-48a1-a4b3-7a66e2ac5b30\"}}];\n",
       "                  root.Bokeh.embed.embed_items(docs_json, render_items);\n",
       "                \n",
       "                  }\n",
       "                  if (root.Bokeh !== undefined) {\n",
       "                    embed_document(root);\n",
       "                  } else {\n",
       "                    var attempts = 0;\n",
       "                    var timer = setInterval(function(root) {\n",
       "                      if (root.Bokeh !== undefined) {\n",
       "                        clearInterval(timer);\n",
       "                        embed_document(root);\n",
       "                      } else {\n",
       "                        attempts++;\n",
       "                        if (attempts > 100) {\n",
       "                          clearInterval(timer);\n",
       "                          console.log(\"Bokeh: ERROR: Unable to run BokehJS code because BokehJS library is missing\");\n",
       "                        }\n",
       "                      }\n",
       "                    }, 10, root)\n",
       "                  }\n",
       "                })(window);\n",
       "              });\n",
       "            };\n",
       "            if (document.readyState != \"loading\") fn();\n",
       "            else document.addEventListener(\"DOMContentLoaded\", fn);\n",
       "          })();\n",
       "        </script>\n"
      ],
      "text/plain": [
       "<dataprep.eda.report.Report at 0x7fbbeb7933a0>"
      ]
     },
     "execution_count": 1,
     "metadata": {},
     "output_type": "execute_result"
    }
   ],
   "source": [
    "from dataprep.eda import plot\n",
    "import pandas as pd\n",
    "\n",
    "df = pd.read_csv(\"faculty_table.csv\")\n",
    "plot(df)"
   ]
  },
  {
   "cell_type": "markdown",
   "metadata": {},
   "source": [
    "Below are some examples:\n",
    "\n",
    "**Finding 1:** Professor# (29) is more than 3x larger than Associate Professor# (9). \n",
    "\n",
    "**Questions:** Why did it happen? Is it common in all CS schools in Canada? Will the gap go larger or smaller in five years? What actions can be taken to enlarge/shrink the gap?\n",
    "\n",
    "\n",
    "**Finding 2:** Homepage has 20.3% missing values. \n",
    "\n",
    "**Questions:** Why are there so many missing values? Is it because many faculty do not have their own homepages or do not add their homepages to the school page? What actions can be taken to avoid this to happen in the future? "
   ]
  },
  {
   "cell_type": "markdown",
   "metadata": {},
   "source": [
    "## Task 2: Age Follows Normal Distribution?"
   ]
  },
  {
   "cell_type": "markdown",
   "metadata": {},
   "source": [
    "In this task, you start with a question and then figure out what data to collect.\n",
    "\n",
    "The question that you are intersted in is `Does SFU CS faculty age follow a normal distribution?`\n",
    "\n",
    "To estimate the age of a faculty member, you can collect the year in which s/he graduates from a university (`gradyear`) and then estimate `age` using the following equation:\n",
    "\n",
    "$$age \\approx 2020+23 - gradyear$$\n",
    "\n",
    "For example, if one graduates from a university in 1990, then the age is estimated as 2020+23-1990 = 53. \n",
    "\n"
   ]
  },
  {
   "cell_type": "markdown",
   "metadata": {},
   "source": [
    "### (a) Crawl Web Page"
   ]
  },
  {
   "cell_type": "markdown",
   "metadata": {},
   "source": [
    "You notice that faculty profile pages contain graduation information. For example, you can see that Dr. Jiannan Wang graduated from Harbin Institute of Technology in 2008 at [http://www.sfu.ca/computing/people/faculty/jiannanwang.html](http://www.sfu.ca/computing/people/faculty/jiannanwang.html). \n",
    "\n",
    "\n",
    "Please write code to download the 64 profile pages and save each page as a text file. "
   ]
  },
  {
   "cell_type": "code",
   "execution_count": null,
   "metadata": {},
   "outputs": [],
   "source": [
    "import pandas as pd\n",
    "from requests import get\n",
    "from time import sleep\n",
    "from random import randint\n",
    "import os\n",
    "dirs = 'members/'\n",
    "if not os.path.exists(dirs):\n",
    "    os.makedirs(dirs)\n",
    "df = pd.read_csv('faculty_table_test.csv')\n",
    "for index, row in df.iterrows():\n",
    "    with open(dirs+row['name']+'.txt', 'w') as file:\n",
    "        response = get(row['profile'])\n",
    "        file.write(response.text)\n",
    "        sleep(randint(1, 3))"
   ]
  },
  {
   "cell_type": "markdown",
   "metadata": {},
   "source": [
    "### (b) Extract Structured Data"
   ]
  },
  {
   "cell_type": "markdown",
   "metadata": {},
   "source": [
    "Please write code to extract the earliest graduation year (e.g., 2008 for Dr. Jiannan Wang) from each profile page, and create a csv file like [faculty_grad_year.csv](./faculty_grad_year.csv). "
   ]
  },
  {
   "cell_type": "code",
   "execution_count": null,
   "metadata": {},
   "outputs": [],
   "source": [
    "from bs4 import BeautifulSoup\n",
    "import re\n",
    "import os\n",
    "pattern = re.compile('\\d{4}')\n",
    "dirs = 'members/'\n",
    "files = os.listdir(dirs)\n",
    "names = []\n",
    "gradyears = []\n",
    "for f in files:\n",
    "    with open(dirs+f, 'r') as file:\n",
    "        contents = file.read()\n",
    "        soup = BeautifulSoup(contents, 'lxml')\n",
    "        education = soup.find('h2', text='Education').find_next_sibling()\n",
    "        s = education.text\n",
    "        year_str_list = pattern.findall(s)\n",
    "        year_int_list = list(map(int, year_str_list))\n",
    "        if len(year_int_list) == 0:\n",
    "            gradyears.append('')\n",
    "        else:\n",
    "            gradyears.append(min(year_int_list))\n",
    "        name = os.path.splitext(f)[0]\n",
    "        names.append(name)\n",
    "df = pd.DataFrame({'name': names,\n",
    "                   'gradyear': gradyears\n",
    "                   })\n",
    "df.to_csv('faculty_grad_year_test.csv')"
   ]
  },
  {
   "cell_type": "markdown",
   "metadata": {},
   "source": [
    "### (c) Interesting Finding"
   ]
  },
  {
   "cell_type": "markdown",
   "metadata": {},
   "source": [
    "Similar to Task 1(c), you don't need to do anything here. Just look at different visualizations w.r.t. age and give yourself an answer to the question: `Does SFU CS faculty age follow a normal distribution?`"
   ]
  },
  {
   "cell_type": "code",
   "execution_count": 2,
   "metadata": {},
   "outputs": [
    {
     "data": {
      "text/html": [
       "\n",
       "\n",
       "\n",
       "    \n",
       "    \n",
       "        \n",
       "        \n",
       "        \n",
       "            <div class=\"bk-root\" id=\"49e13fee-3540-49a3-b02d-1deda6bd307d\" data-root-id=\"1698\"></div>\n",
       "        \n",
       "        \n",
       "    \n",
       "    \n",
       "    \n",
       "        <script type=\"application/json\" id=\"2073\">\n",
       "          {\"4898ecd8-d7d6-49c8-9146-0b5fe5362f9d\":{\"roots\":{\"references\":[{\"attributes\":{\"source\":{\"id\":\"1666\"}},\"id\":\"1671\",\"type\":\"CDSView\"},{\"attributes\":{},\"id\":\"1722\",\"type\":\"UnionRenderers\"},{\"attributes\":{},\"id\":\"1522\",\"type\":\"DataRange1d\"},{\"attributes\":{},\"id\":\"1708\",\"type\":\"BasicTickFormatter\"},{\"attributes\":{},\"id\":\"1713\",\"type\":\"Selection\"},{\"attributes\":{},\"id\":\"1723\",\"type\":\"Selection\"},{\"attributes\":{},\"id\":\"1714\",\"type\":\"UnionRenderers\"},{\"attributes\":{},\"id\":\"1724\",\"type\":\"UnionRenderers\"},{\"attributes\":{\"axis\":{\"id\":\"1646\"},\"grid_line_color\":null,\"ticker\":null},\"id\":\"1648\",\"type\":\"Grid\"},{\"attributes\":{\"text\":\"age (3.1% missing)\",\"text_font_size\":{\"value\":\"10pt\"}},\"id\":\"1520\",\"type\":\"Title\"},{\"attributes\":{},\"id\":\"1725\",\"type\":\"Selection\"},{\"attributes\":{},\"id\":\"1715\",\"type\":\"Selection\"},{\"attributes\":{},\"id\":\"1726\",\"type\":\"UnionRenderers\"},{\"attributes\":{},\"id\":\"1716\",\"type\":\"UnionRenderers\"},{\"attributes\":{\"callback\":null,\"mode\":\"vline\",\"renderers\":[{\"id\":\"1578\"}],\"tooltips\":[[\"Bin\",\"@intervals\"],[\"Density\",\"@freq\"]]},\"id\":\"1580\",\"type\":\"HoverTool\"},{\"attributes\":{\"line_alpha\":0.1,\"line_color\":\"#9467bd\",\"line_width\":2,\"x\":{\"field\":\"x\"},\"y\":{\"field\":\"y\"}},\"id\":\"1583\",\"type\":\"Line\"},{\"attributes\":{\"data_source\":{\"id\":\"1581\"},\"glyph\":{\"id\":\"1582\"},\"hover_glyph\":null,\"muted_glyph\":null,\"nonselection_glyph\":{\"id\":\"1583\"},\"selection_glyph\":null,\"view\":{\"id\":\"1585\"}},\"id\":\"1584\",\"type\":\"GlyphRenderer\"},{\"attributes\":{},\"id\":\"1727\",\"type\":\"Selection\"},{\"attributes\":{},\"id\":\"1728\",\"type\":\"UnionRenderers\"},{\"attributes\":{\"height\":420,\"style\":{\"width\":\"100%\"},\"text\":\"\\n    &lt;h4 style=\\\"text-align: center; margin:0 auto 0.2em;\\\"&gt;Overview&lt;/h4&gt;\\n    &lt;div style=\\\"columns: 2\\\"&gt;\\n    &lt;table style=\\\"width: 100%; table-layout: auto; font-size:11px;\\\"&gt;\\n        &lt;tbody&gt;\\n    &lt;tr style=\\\"border-bottom: 1px solid;\\\"&gt;\\n        &lt;th style=\\\"text-align: left\\\"&gt;Distinct Count&lt;/th&gt;\\n        &lt;td style=\\\"text-align: left\\\"&gt;33&lt;/td&gt;\\n    &lt;/tr&gt;\\n    \\n    &lt;tr style=\\\"border-bottom: 1px solid;\\\"&gt;\\n        &lt;th style=\\\"text-align: left\\\"&gt;Unique (%)&lt;/th&gt;\\n        &lt;td style=\\\"text-align: left\\\"&gt;53.2%&lt;/td&gt;\\n    &lt;/tr&gt;\\n    \\n    &lt;tr style=\\\"color: #f00; border-bottom: 1px solid;\\\"&gt;\\n        &lt;th style=\\\"text-align: left\\\"&gt;Missing&lt;/th&gt;\\n        &lt;td style=\\\"text-align: left\\\"&gt;2&lt;/td&gt;    &lt;/tr&gt;\\n    \\n    &lt;tr style=\\\"color: #f00; border-bottom: 1px solid;\\\"&gt;\\n        &lt;th style=\\\"text-align: left\\\"&gt;Missing (%)&lt;/th&gt;\\n        &lt;td style=\\\"text-align: left\\\"&gt;3.1%&lt;/td&gt;    &lt;/tr&gt;\\n    \\n    &lt;tr style=\\\"border-bottom: 1px solid;\\\"&gt;\\n        &lt;th style=\\\"text-align: left\\\"&gt;Infinite&lt;/th&gt;\\n        &lt;td style=\\\"text-align: left\\\"&gt;0&lt;/td&gt;\\n    &lt;/tr&gt;\\n    \\n    &lt;tr style=\\\"border-bottom: 1px solid;\\\"&gt;\\n        &lt;th style=\\\"text-align: left\\\"&gt;Infinite (%)&lt;/th&gt;\\n        &lt;td style=\\\"text-align: left\\\"&gt;0.0%&lt;/td&gt;\\n    &lt;/tr&gt;\\n    \\n    &lt;tr style=\\\"border-bottom: 1px solid;\\\"&gt;\\n        &lt;th style=\\\"text-align: left\\\"&gt;Mean&lt;/th&gt;\\n        &lt;td style=\\\"text-align: left\\\"&gt;48.9355&lt;/td&gt;\\n    &lt;/tr&gt;\\n    \\n    &lt;tr style=\\\"border-bottom: 1px solid;\\\"&gt;\\n        &lt;th style=\\\"text-align: left\\\"&gt;Minimum&lt;/th&gt;\\n        &lt;td style=\\\"text-align: left\\\"&gt;26&lt;/td&gt;\\n    &lt;/tr&gt;\\n    \\n    &lt;tr style=\\\"border-bottom: 1px solid;\\\"&gt;\\n        &lt;th style=\\\"text-align: left\\\"&gt;Maximum&lt;/th&gt;\\n        &lt;td style=\\\"text-align: left\\\"&gt;75&lt;/td&gt;\\n    &lt;/tr&gt;\\n    \\n    &lt;tr style=\\\"border-bottom: 1px solid;\\\"&gt;\\n        &lt;th style=\\\"text-align: left\\\"&gt;Zeros&lt;/th&gt;\\n        &lt;td style=\\\"text-align: left\\\"&gt;0&lt;/td&gt;\\n    &lt;/tr&gt;\\n    \\n    &lt;tr style=\\\"border-bottom: 1px solid;\\\"&gt;\\n        &lt;th style=\\\"text-align: left\\\"&gt;Zeros (%)&lt;/th&gt;\\n        &lt;td style=\\\"text-align: left\\\"&gt;0.0%&lt;/td&gt;\\n    &lt;/tr&gt;\\n    \\n    &lt;tr style=\\\"border-bottom: 1px solid;\\\"&gt;\\n        &lt;th style=\\\"text-align: left\\\"&gt;Memory Size&lt;/th&gt;\\n        &lt;td style=\\\"text-align: left\\\"&gt;640.0 B&lt;/td&gt;\\n    &lt;/tr&gt;\\n    &lt;/tbody&gt;\\n    &lt;/table&gt;\\n    &lt;/div&gt;\\n    &lt;div style=\\\"display: flex;\\\"&gt;\\n    &lt;div style=\\\"flex: 50%; margin-right: 6px;\\\"&gt;\\n        &lt;table style=\\\"width: 100%; table-layout: auto; font-size:11px;\\\"&gt;\\n            &lt;tbody&gt;&lt;h4 style=\\\"text-align:center; margin:1em auto 0.2em;\\\"&gt;Quantile Statistics&lt;/h4&gt;\\n    &lt;tr style=\\\"border-bottom: 1px solid;\\\"&gt;\\n        &lt;th style=\\\"text-align: left\\\"&gt;Minimum&lt;/th&gt;\\n        &lt;td style=\\\"text-align: left\\\"&gt;26&lt;/td&gt;\\n    &lt;/tr&gt;\\n    \\n    &lt;tr style=\\\"border-bottom: 1px solid;\\\"&gt;\\n        &lt;th style=\\\"text-align: left\\\"&gt;5-th Percentile&lt;/th&gt;\\n        &lt;td style=\\\"text-align: left\\\"&gt;28.6292&lt;/td&gt;\\n    &lt;/tr&gt;\\n    \\n    &lt;tr style=\\\"border-bottom: 1px solid;\\\"&gt;\\n        &lt;th style=\\\"text-align: left\\\"&gt;Q1&lt;/th&gt;\\n        &lt;td style=\\\"text-align: left\\\"&gt;38.1021&lt;/td&gt;\\n    &lt;/tr&gt;\\n    \\n    &lt;tr style=\\\"border-bottom: 1px solid;\\\"&gt;\\n        &lt;th style=\\\"text-align: left\\\"&gt;Median&lt;/th&gt;\\n        &lt;td style=\\\"text-align: left\\\"&gt;49.8019&lt;/td&gt;\\n    &lt;/tr&gt;\\n    \\n    &lt;tr style=\\\"border-bottom: 1px solid;\\\"&gt;\\n        &lt;th style=\\\"text-align: left\\\"&gt;Q3&lt;/th&gt;\\n        &lt;td style=\\\"text-align: left\\\"&gt;59&lt;/td&gt;\\n    &lt;/tr&gt;\\n    \\n    &lt;tr style=\\\"border-bottom: 1px solid;\\\"&gt;\\n        &lt;th style=\\\"text-align: left\\\"&gt;95-th Percentile&lt;/th&gt;\\n        &lt;td style=\\\"text-align: left\\\"&gt;70.1124&lt;/td&gt;\\n    &lt;/tr&gt;\\n    \\n    &lt;tr style=\\\"border-bottom: 1px solid;\\\"&gt;\\n        &lt;th style=\\\"text-align: left\\\"&gt;Maximum&lt;/th&gt;\\n        &lt;td style=\\\"text-align: left\\\"&gt;75&lt;/td&gt;\\n    &lt;/tr&gt;\\n    \\n    &lt;tr style=\\\"border-bottom: 1px solid;\\\"&gt;\\n        &lt;th style=\\\"text-align: left\\\"&gt;Range&lt;/th&gt;\\n        &lt;td style=\\\"text-align: left\\\"&gt;49&lt;/td&gt;\\n    &lt;/tr&gt;\\n    \\n    &lt;tr style=\\\"border-bottom: 1px solid;\\\"&gt;\\n        &lt;th style=\\\"text-align: left\\\"&gt;IQR&lt;/th&gt;\\n        &lt;td style=\\\"text-align: left\\\"&gt;20.8979&lt;/td&gt;\\n    &lt;/tr&gt;\\n    &lt;/tbody&gt;\\n        &lt;/table&gt;\\n    &lt;/div&gt;\\n    \\n    &lt;div style=\\\"flex: 50%; margin-right: 6px;\\\"&gt;\\n        &lt;table style=\\\"width: 100%; table-layout: auto; font-size:11px;\\\"&gt;\\n            &lt;tbody&gt;&lt;h4 style=\\\"text-align:center; margin:1em auto 0.2em;\\\"&gt;Descriptive Statistics&lt;/h4&gt;\\n    &lt;tr style=\\\"border-bottom: 1px solid;\\\"&gt;\\n        &lt;th style=\\\"text-align: left\\\"&gt;Standard Deviation&lt;/th&gt;\\n        &lt;td style=\\\"text-align: left\\\"&gt;13.0809&lt;/td&gt;\\n    &lt;/tr&gt;\\n    \\n    &lt;tr style=\\\"border-bottom: 1px solid;\\\"&gt;\\n        &lt;th style=\\\"text-align: left\\\"&gt;Coefficient of Variation&lt;/th&gt;\\n        &lt;td style=\\\"text-align: left\\\"&gt;0.2673&lt;/td&gt;\\n    &lt;/tr&gt;\\n    \\n    &lt;tr style=\\\"border-bottom: 1px solid;\\\"&gt;\\n        &lt;th style=\\\"text-align: left\\\"&gt;Kurtosis&lt;/th&gt;\\n        &lt;td style=\\\"text-align: left\\\"&gt;-0.798&lt;/td&gt;\\n    &lt;/tr&gt;\\n    \\n    &lt;tr style=\\\"border-bottom: 1px solid;\\\"&gt;\\n        &lt;th style=\\\"text-align: left\\\"&gt;Mean&lt;/th&gt;\\n        &lt;td style=\\\"text-align: left\\\"&gt;48.9355&lt;/td&gt;\\n    &lt;/tr&gt;\\n    \\n    &lt;tr style=\\\"border-bottom: 1px solid;\\\"&gt;\\n        &lt;th style=\\\"text-align: left\\\"&gt;Median Absolute Deviation&lt;/th&gt;\\n        &lt;td style=\\\"text-align: left\\\"&gt;14.826&lt;/td&gt;\\n    &lt;/tr&gt;\\n    \\n    &lt;tr style=\\\"border-bottom: 1px solid;\\\"&gt;\\n        &lt;th style=\\\"text-align: left\\\"&gt;Skewness&lt;/th&gt;\\n        &lt;td style=\\\"text-align: left\\\"&gt;0.08165&lt;/td&gt;\\n    &lt;/tr&gt;\\n    \\n    &lt;tr style=\\\"border-bottom: 1px solid;\\\"&gt;\\n        &lt;th style=\\\"text-align: left\\\"&gt;Sum&lt;/th&gt;\\n        &lt;td style=\\\"text-align: left\\\"&gt;3034&lt;/td&gt;\\n    &lt;/tr&gt;\\n    \\n    &lt;tr style=\\\"border-bottom: 1px solid;\\\"&gt;\\n        &lt;th style=\\\"text-align: left\\\"&gt;Variance&lt;/th&gt;\\n        &lt;td style=\\\"text-align: left\\\"&gt;171.1105&lt;/td&gt;\\n    &lt;/tr&gt;\\n    &lt;/tbody&gt;\\n        &lt;/table&gt;\\n    &lt;/div&gt;\\n    &lt;/div&gt;\",\"width\":450},\"id\":\"1517\",\"type\":\"Div\"},{\"attributes\":{\"axis\":{\"id\":\"1530\"},\"grid_line_color\":null,\"ticker\":{\"id\":\"1547\"}},\"id\":\"1533\",\"type\":\"Grid\"},{\"attributes\":{\"child\":{\"id\":\"1635\"},\"title\":\"Box Plot\"},\"id\":\"1697\",\"type\":\"Panel\"},{\"attributes\":{},\"id\":\"1710\",\"type\":\"BasicTickFormatter\"},{\"attributes\":{},\"id\":\"1717\",\"type\":\"Selection\"},{\"attributes\":{\"child\":{\"id\":\"1517\"},\"title\":\"Stats\"},\"id\":\"1518\",\"type\":\"Panel\"},{\"attributes\":{},\"id\":\"1718\",\"type\":\"UnionRenderers\"},{\"attributes\":{},\"id\":\"1729\",\"type\":\"Selection\"},{\"attributes\":{},\"id\":\"1730\",\"type\":\"UnionRenderers\"},{\"attributes\":{\"source\":{\"id\":\"1581\"}},\"id\":\"1585\",\"type\":\"CDSView\"},{\"attributes\":{\"line_alpha\":0.5,\"line_color\":\"#9467bd\",\"line_width\":2,\"x\":{\"field\":\"x\"},\"y\":{\"field\":\"y\"}},\"id\":\"1582\",\"type\":\"Line\"},{\"attributes\":{},\"id\":\"1719\",\"type\":\"Selection\"},{\"attributes\":{},\"id\":\"1720\",\"type\":\"UnionRenderers\"},{\"attributes\":{},\"id\":\"1731\",\"type\":\"Selection\"},{\"attributes\":{},\"id\":\"1732\",\"type\":\"UnionRenderers\"},{\"attributes\":{},\"id\":\"1711\",\"type\":\"Selection\"},{\"attributes\":{},\"id\":\"1712\",\"type\":\"UnionRenderers\"},{\"attributes\":{},\"id\":\"1647\",\"type\":\"CategoricalTicker\"},{\"attributes\":{\"axis_label\":null,\"formatter\":{\"id\":\"1692\"},\"major_label_orientation\":1.0471975511965976,\"major_label_text_font_size\":\"0pt\",\"major_tick_line_color\":null,\"minor_tick_line_color\":\"white\",\"ticker\":{\"id\":\"1647\"}},\"id\":\"1646\",\"type\":\"CategoricalAxis\"},{\"attributes\":{\"bottom\":{\"value\":0},\"fill_alpha\":{\"value\":0.5},\"fill_color\":{\"value\":\"#6baed6\"},\"left\":{\"field\":\"left\"},\"line_alpha\":{\"value\":0.5},\"line_color\":{\"value\":\"#1f77b4\"},\"right\":{\"field\":\"right\"},\"top\":{\"field\":\"freq\"}},\"id\":\"1541\",\"type\":\"Quad\"},{\"attributes\":{\"axis_label\":\"age\",\"formatter\":{\"id\":\"1710\"},\"major_label_overrides\":{\"30\":\"30\",\"40\":\"40\",\"50\":\"50\",\"60\":\"60\",\"70\":\"70\"},\"major_label_text_font_size\":\"10pt\",\"minor_tick_line_color\":\"white\",\"ticker\":{\"id\":\"1695\"}},\"id\":\"1649\",\"type\":\"LinearAxis\"},{\"attributes\":{\"data\":{\"x\":{\"__ndarray__\":\"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\",\"dtype\":\"float64\",\"shape\":[1000]},\"y\":{\"__ndarray__\":\"lyLEdeBuhD9LVqGJ+Y2EP2KP3wENrYQ/dpRVcRrMhD9IroxrIeuEP5PxxYQhCoU/oXf/URophT8DhfloC0iFPzmeO2D0ZoU/C4oZz9SFhT8MQbhNrKSFPy3KEnV6w4U/LQT/3j7ihT8lWzIm+QCGP5JqRuaoH4Y/Lou9u00+hj95TAdE51yGP6nZhB11e4Y/GUqN5/aZhj9P3HFCbLiGP2Ecgs/U1oY/dfQPMTD1hj9IqHMKfhOHP6W6DwC+MYc/E71Ut+9Phz+wCcXWEm6HP/pm+AUnjIc/DpWf7Suqhz/1xIc3IciHP1H5nY4G5oc/j1DyntsDiD+SOLsVoCGIP7uLWKFTP4g/IZdW8fVciD8qCnG2hnqIP2TPlaIFmIg/gM7naHK1iD9yl8G9zNKIPw73t1YU8Ig/V3Sc6kgNiT+qt38xaiqJP4jas+R3R4k/OaHOvnFkiT9Rnat7V4GJP/I5btgonok/O7GDk+W6iT+a66RsjdeJP0VI2CQg9Ik/2k9zfp0Qij+EUBw9BS2KPzHkyyVXSYo/tGDO/pJlij85MsWPuIGKP8gfqKHHnYo/bXrG/r+5ij/PNshyodWKP4Lxrspr8Yo/Wd7W1B4Niz+hovdguiiLP7waJUA+RIs/1ArQRKpfiz+Qu8ZC/nqLP0mCNQ86los/ODWngF2xiz/jiwVvaMyLP9VrmbNa54s/ISILKTQCjD9giWKr9ByMP+EcBxicN4w/GPm/TSpSjD93ybMsn2yMP+yjaJb6how/c9LDbTyhjD+ZigmXZLuMP4KT3Pdy1Yw/o9o9d2fvjD8+94v9QQmNPwadgnQCI40/Gv45x6g8jT+9HCbiNFaNP8EMFrOmb40/HSUzKf6IjT8PIgA1O6KNP3Q3WMhdu40/chRu1mXUjT/q18pTU+2NP4z2TDYmBo4/PRIndd4ejj+0w94IfDeOP+hVS+v+T44/JHSUF2dojj94yjCKtICOPz6Z5EDnmI4/lTvAOv+wjj9GoR54/MiOP1i8o/re4I4/YeI6xab4jj/KIRXcUxCPP7CLp0TmJ48/IXKpBV4/jz/3mhInu1aPPxpoGbL9bY8/h/QwsSWFjz8CJwcwM5yPP4S6gjsms48/PTzB4f7Jjz/u/xQyveCPP1wKAz1h948/MXkgivUGkD86XFllLRKQP6BKNDpYHZA/ml9OE3YokD+bk9j7hjOQP4OWlv+KPpA/YaXdKoJJkD9NXJOKbFSQPxuELCxKX5A/EtyrHRtqkD/N36Bt33SQP0aJJiuXf5A/Lw/iZUKKkD92nwEu4ZSQP1sWO5Rzn5A/8rHKqfmpkD8AwnGAc7SQP69UdSrhvpA/jt+cukLJkD+h5TBEmNOQP9SZ+drh3ZA/YH49kx/okD8MAcCBUfKQPyAUwLt3/JA/ecT2VpIGkT9DzJVpoRCRP/oiRgqlGpE/NoomUJ0kkT+NF8pSii6RP4i7NipsOJE/psXj7kJCkT95Zbi5DkyRP+IoCqTPVZE/aXebx4VfkT/ACpo+MWmRP2xknSPScpE/gkClkWh8kT/CBRik9IWRP5AywXZ2j5E/YsfPJe6YkT8srtTNW6KRP/kewYu/q5E/zQHlfBm1kT9yTe2+ab6RP6Fj4m+wx5E/NGomru3QkT9eoXOYIdqRPyW32k1M45E/2xfB7W3skT+bO9+XhvWRP9/wPmyW/pE/IKQ5i50Hkj9YpHYVnBCSP6Jk6SuSGZI/m7rP738ikj/vGbCCZSuSP3HMVwZDNJI/ZSfZnBg9kj9kvYlo5kWSPxiNAIysTpI/1CwUKmtXkj+38thlImCSP7MZn2LSaJI/E+PwQ3txkj/HtJAtHXqSPyI0d0O4gpI/S13RqUyLkj8Sl/6E2pOSP2fDjvlhnJI/HkxALOOkkj8/LP5BXq2SP6v13V/TtZI/HdMdq0K+kj9whiJJrMaSP1ZjdV8Qz5I/HUbCE2/Xkj/chtWLyN+SP7Home0c6JI/O4UWX2zwkj9BtGwGt/iSP1nv1Qn9AJM/w7Ghjz4Jkz9KVDO+exGTPybl/7u0GZM/EfyLr+khkz8Nimm/GiqTP4elNRJIMpM/K1KWznE6kz/NRDgbmEKTP1WjzB67SpM/fMAGANtSkz+T05nl91qTPz6sNvYRY5M/BWKJWClrkz/y/zYzPnOTPxks26xQe5M/EcsF7GCDkz90nzgXb4uTPz3l5FR7k5M/TOloy4Wbkz/GnA2hjqOTP7MkBPyVq5M/fmVjApyzkz+uiiXaoLuTP7OKJamkw5M/8aYclafLkz/u55/DqdOTP9eVHVqr25M/Pa3afazjkz9VUPBTreuTP4E0SQGu85M/Ywyfqq77kz997nd0rwOUP3a4I4OwC5Q/EW+5+rETlD/ImhT/sxuUP32h0rO2I5Q/7RxQPLorlD81Lqa7vjOUP5HOp1TEO5Q/Mh3fKctDlD+Hqopd00uUP9fAmhHdU5Q/mqquZ+hblD9O9hGB9WOUPyy4uX4EbJQ/4clBgRV0lD8mCOqoKHyUP7mOkxU+hJQ/j/K95lWMlD+geoQ7cJSUPyNXmzKNnJQ/29dM6qyklD8ZoXaAz6yUPwnghhL1tJQ/On55vR29lD+QVNWdScWUP/Rdqc94zZQ/1OmJbqvVlD+czo2V4d2UP3acS18b5pQ/a9DW5VjulD8vCL1CmvaUP6I2A4/f/pQ/lNki4ygHlT+GMAdXdg+VPyR1CgLIF5U/WBXz+h0glT877/BXeCiVP06Pmi7XMJU/MXHqkzo5lT+oQjycokGVP/wpSlsPSpU/IA8q5IBSlT+Q6EpJ91qVP48LcpxyY5U/foC47vJrlT9zW4hQeHSVPxMZmtECfZU/awDygJKFlT99id1sJ46VP4HJ8KLBlpU/Q+QDMGGflT/TgzAgBqiVPwlWz36wsJU/oZB1VmC5lT8TfPKwFcKVP2wFTZfQypU/k1fBEZHTlT8efL4nV9yVPy4E5N8i5ZU/d7n/P/TtlT/uVwtNy/aVP2dQKguo/5U/I5SnfYoIlj86avOmchGWP5dOoYhgGpY/ONtlI1Qjlj/PuxR3TSyWPzesnoJMNZY/GoIPRFE+lj/FQYy4W0eWPwI/UdxrUJY/zEmwqoFZlj+F5w4enWKWP9mY5C++a5Y/lyy52OR0lj8HICMQEX6WP9EMxsxCh5Y/4CRRBHqQlj+kvH2rtpmWP+jjDbb4opY/rQ3LFkCslj8Px4S/jLWWPxx+D6HevpY/GFhDqzXIlj9eGPvMkdGWP2gXE/Ty2pY/5EpoDVnklj+0XtcExO2WP2XfO8Uz95Y/dXZvOKgAlz9NOElHIQqXP8IEndmeE5c/D/o61iAdlz+X+u4ipyaXP8tFgKQxMJc/dSSxPsA5lz/BqD7UUkOXP96B4EbpTJc/N+RId4NWlz+9hSRFIWCXPwyvGo/CaZc/a2HNMmdzlz/hkdkMD32XP7t51/i5hpc/qfxa0WeQlz+UJPRvGJqXP4izL63Lo5c/0MuXYIGtlz+GrrRgObeXP6aQDYPzwJc/8IYpnK/Klz/BiJB/bdSXPx+KzP8s3pc/waxq7u3nlz/giPwbsPGXPz6NGVhz+5c/KXdgcTcFmD8G4ng1/A6YPxbvFHHBGJg/1wTz74YimD/mpt98TCyYP/Blt+ERNpg/tOdo59Y/mD+9B/dVm0mYPzwQe/ReU5g/RwsniSFdmD/KLEjZ4maYP79USamicJg//qm1vGB6mD99TTvWHISYPzMmrrfWjZg/McUKIo6XmD9wYnnVQqGYP8PxUJH0qpg/SFAaFKO0mD8pipMbTr6YP0I4s2T1x5g/K/arq5jRmD8m8O+rN9uYP+OINCDS5Jg/+hZ2wmfumD8guvtL+PeYP7dHW3WDAZk/kk599ggLmT8UMqGGiBSZP/hbYdwBHpk/5IS3rXQnmT+QEwGw4DCZPxKSA5hFOpk/RTnxGaNDmT/lkW3p+EyZPywrkrlGVpk/zWbzPIxfmT+kWaUlyWiZPx/BQCX9cZk/Bg3o7Cd7mT8WfUwtSYSZP2ZSs5ZgjZk/8xP72G2WmT8g5qCjcJ+ZP7H0xaVoqJk/6e40jlWxmT+DlWcLN7qZP59ZjMsMw5k//AyMfNbLmT80og/Mk9SZP0b9hWdE3Zk/ZtMp/OflmT/cmQc3fu6ZP4CDA8UG95k/HozfUoH/mT9tkUGN7QeaP+x4uSBLEJo/TWLHuZkYmj+e5eEE2SCaP+5cfK4IKZo/fzgNYygxmj90XRTPNzmaP6uNIZ82QZo/ANnafyRJmj+lFgMeAVGaP01mgCbMWJo/hbhiRoVgmj9rXeoqLGiaP2KZjoHAb5o/2z4E+EF3mj+CTEQ8sH6aP5qPkvwKhpo/BUmE51GNmj9S1QashJSaPw1WZvmim5o/flxUf6yimj+OlO7toKmaP3VvxfV/sJo/Rs3iR0m3mj+dpNCV/L2aP/Cnn5GZxJo/a+ft7R/Lmj8Db+1dj9GaP4zfapXn15o/ZQLUSCjemj8FVz4tUeSaP1qZbfhh6po/g0DaYFrwmj/L9LcdOvaaP8f8++YA/Jo//Z9jda4Bmz/wfnqCQgebP5PfoMi8DJs/au0RAx0Smz+F7OntYhebP6FeLEaOHJs/sBnKyZ4hmz8KT6c3lCabP1mCoU9uK5s/w2+V0iwwmz9c4GSCzzSbPyts/CFWOZs/NSlZdcA9mz95Ro5BDkKbP1OSykw/Rps/sOtdXlNKmz/+nL4+Sk6bP3+gjrcjUps/E82gk99Vmz+J6v2efVmbP6Ot6ab9XJs/0pnneV9gmz9Oyb/nomObP8GZg8HHZps/qT2S2c1pmz9nMZ0DtWybP02TrBR9b5s/XF4j4yVymz+thsNGr3SbP0L3sRgZd5s/YHB6M2N5mz8VRhNzjXubPy7+4LSXfZs/SM2514F/mz/28ei7S4GbPz7uMUP1gps/753TUH6Emz9kKovJ5oWbPxjalpMuh5s/mry4llWImz/EMTm8W4mbP+5L6e5Aips/5wwlGwWLmz8BfdUuqIubP/abchkqjJs/ZSsFzIqMmz9GUig5yoybPyUZC1XojJs/EL9xFeWMmz9u5rZxwIybP/qZzGJ6jJs/Pik94xKMmz+u3CvviYubP86AVYTfips/bsgQohOKmz/+hU5JJombPzS7mXwXiJs/p38XQOeGmz+xvYaZlYWbP9fFP5AihJs/frgzLY6Cmz/lxet62ICbP4lEiIUBf5s/np2/Wgl9mz8yEN0J8HqbPz9Kv6O1eJs/gNjWOlp2mz/HbCTj3XObP9T6NrJAcZs/Hqwpv4Jumz98qqEipGubP+/By/akaJs/9tlZV4Vlmz8TRoBhRWKbP53u8jPlXps/X1Hi7mRbmz+0WvizxFebP2IXVaYEVJs/kj+L6iRQmz8nm5ymJUybP/Y/9gEHSJs/RKpsJclDmz++rzc7bD+bP/JN7m7wOps/BlSC7VU2mz+u6DvlnDGbP8fstIXFLJs/EzvU/88nmz+zxciFvCKbP86RBEuLHZs/W5I3hDwYmz8tYkpn0BKbP1beWCtHDZs/QaGsCKEHmz9PX7c43gGbP8slDfb++5o/c3xefAP2mj/0anII7O+aP5ZiINi46Zo/Mw1KKmrjmj/0AdU+AN2aP+lgpFZ71po/GlaSs9vPmj8ShWmYIcmaP2td3khNwpo/uFmICV+7mj8dKdsfV7SaP9/EH9I1rZo/rnJtZ/ulmj+PtKInqJ6aPzAnXls8l5o/HlD3S7iPmj/jW3dDHIiaPwDOkYxogJo/6iKdcp14mj+HZYtBu3CaP/q44kXCaJo/l9e1zLJgmj86iJwjjViaP9EKrJhRUJo/S31vegBImj+oOeAXmj+aP4MuXsAeN5o/2zKow44umj8oVtRx6iWaP9stSBsyHZo/YiGxEGYUmj9ZtfyihguaP2HXUCOUApo/YSsE4475mT9FW5Yzd/CZP09qqGZN55k/6Az1zRHemT8VBkm7xNSZP2SLe4Bmy5k/nbBmb/fBmT/529/Zd7iZP+hDsBHorpk/h3eNaEilmT+58hEwmZuZP6u+tbnakZk/FiDHVg2ImT/VU2NYMX6ZPzVbbw9HdJk/YtiQzE5qmT91/CbgSGCZP46HQ5o1Vpk/VdyjShVMmT9zJ6pA6EGZPwOcVsuuN5k/8sVAOWktmT/y8pDYFyOZPzGz+fa6GJk/NXKx4VIOmT8MKWzl3wOZP4sqVU5i+Zg/BAoJaNrumD8Lno99SOSYP94eVtms2Zg/ZWIpxQfPmD92NTCKWcSYP77T5XCiuZg/rn4UweKumD8PNNDBGqSYP+CEcblKmZg/b42Q7XKOmD95DgCjk4OYP+eoyB2teJg/yjskob9tmD+oZXlvy2KYP14pV8rQV5g/Hbdw8s9MmD/yWZknyUGYP2CKwKi8Npg/Libus6ormD8Xzj6GkyCYP31p4Ft3FZg/n9AOcFYKmD9mnRD9MP+XP28jNDwH9Jc/7Y7MZdnolz9pKy+xp92XPwTSsFRy0pc/g3+jhTnHlz9pElR4/buXPyAxCGC+sJc/W1j8bnyllz/fEWLWN5qXP1NTXsbwjpc/pQUIbqeDlz+wtGb7W3iXPw5ncZsObZc/WZ4Ner9hlz9ufw7CblaXP60iNJ0cS5c/PAwrNMk/lz/+y4uudDSXPwPF2jIfKZc/WxyI5sgdlz/+zu/tcRKXP47uWWwaB5c/lwT7g8L7lj8onPRVavCWPxzxVQIS5ZY/MMUcqLnZlj8cWjZlYc6WP3KQgFYJw5Y/2CrLl7G3lj8tNdlDWqyWP/6OYnQDoZY/B5kVQq2Vlj8iBZnEV4qWP9fHjRIDf5Y/kCuRQa9zlj95BD9mXGiWP1gENJQKXZY/Ji4Q3rlRlj+PaHlVakaWP5suHgscO5Y/Il64Ds8vlj/pIhBvgySWP0f+/jk5GZY/IepyfPANlj+wlnFCqQKWP27CG5dj95U/NKuwhB/slT/Zl5EU3eCVP8d5RU+c1ZU/IaV8PF3KlT9lnxTjH7+VPy0DHEnks5U/injWc6qolT/YwMBncp2VP7DVlCg8kpU/cRlOuQeHlT8nmS0c1XuVP4NevlKkcJU/L9HZXXVllT+2Jqw9SFqVP8DfuPEcT5U/P1LfePNDlT8xP1/RyziVP1tz3filLZU/93Fo7IEilT+AKH2oXxeVP5SqCyk/DJU/MvV7aSABlT82uLJkA/aUP2IlFhXo6pQ/7sOSdM7flD+tR6B8ttSUPxprRiagyZQ/7cohaou+lD8Xw2hAeLOUP3xL8KBmqJQ/39Mwg1adlD9yHkveR5KUP1wXDak6h5Q/Rqn22S58lD9ijT5nJHGUP2cW10YbZpQ/nPVybhNblD8U+YnTDFCUP07CXWsHRZQ/gXT+KgM6lD+iWU8HAC+UP2t9C/X9I5Q/sD3K6PwYlD8qzwPX/A2UP++1FbT9ApQ/CzFHdP/3kz9AmM0LAu2TP3Sr0G4F4pM/9NJukQnXkz8CUMFnDsyTP9xc4OUTwZM/wzvn/xm2kz9ENPipIKuTP0B+QNgnoJM/7xn8fi+Vkz+llHmSN4qTP025HQdAf5M/kixn0Uh0kz/G8/HlUWmTP23mejlbXpM/fQnjwGRTkz9e1DJxbkiTP8xenT94PZM/eHeDIYIykz/gonYMjCeTPwACPPaVHJM/myDP1J8Rkz+fqmSeqQaTP3YIbUmz+5I/2uGWzLzwkj8Th9EexuWSPyVATzfP2pI/8YGHDdjPkj/WCDmZ4MSSP9TYa9LouZI/ECNzsfCukj8sEO8u+KOSPwVwzkP/mJI/B05Q6QWOkj+ZagUZDIOSPwqZ0cwReJI/lQLt/hZtkj/nTeWpG2KSP0OrnsgfV5I/5sVUViNMkj+lmZtOJkGSP/gtYK0oNpI/nzXpbiorkj+Uk9ePKyCSPzHFJg0sFZI/rzEt5CsKkj8yX5wSK/+RP64NgZYp9JE/kTdDbifpkT/h+KWYJN6RP59cxxQh05E/1hAg4hzIkT/JAYMAGL2RP3PcHHASspE/dHhzMQynkT80KmVFBZyRPyz9J639kJE/7NZIavWFkT9Dg6p+7HqRP82phOzib5E/cK1itthkkT9GdiLfzVmRPyQm82nCTpE/lLhTWrZDkT9djhG0qTiRP2jlRnucLZE/ND1ZtI4ikT/MqPdjgBeRPx0OGY9xDJE//FP6OmIBkT/cfhxtUvaQP8y8QitC65A/ymFwezHgkD8y1OZjINWQP91qI+sOypA/cjzdF/2+kD+Q4QLx6rOQP4kpuH3YqJA/EMNTxcWdkD/N2FzPspKQP/+iiKOfh5A/pe63SYx8kD94mvTJeHGQPwkLbyxlZpA/G5Z7eVFbkD8f5o+5PVCQP2ZWQPUpRZA/x0g9NRY6kD9CdVCCAi+QP2Q0WuXuI5A/NcVOZ9sYkD/KjjMRyA2QPxpfHOy0ApA/aU1RAkTvjz/TZQGzHtmPP5vMpfz5wo8/ruGh8dWsjz/KD1qkspaPPwg+LieQgI8/hEN0jG5qjz/AX3LmTVSPP6K3WUcuPo8/5dhAwQ8ojz/ARR5m8hGPP+EIw0fW+44/PVTVd7vljj+rKssHos+OP48W5QiKuY4/R+4ojHOjjj9Vp1yiXo2OPwQ6AVxLd44/CJZNyTlhjj+iqSn6KUuOP1F8Kf4bNY4/KF6I5A8fjj9fLCS8BQmOPyCteJP98o0/lwKbePfcjT/vNjV588aNP8jhgaLxsI0/dehHAfKajT+QWdah9ISNPwhlAJD5bo0/snEZ1wBZjT9YUPGBCkONP42O0JoWLY0/d+h0KyUXjT+p2w09NgGNP9haOdhJ64w/naMABWDVjD/TNtXKeL+MPzf0jTCUqYw/yVlkPLKTjD+y5/Hz0n2MPyGpLVz2Z4w/ruJpeRxSjD/S5lFPRTyMP7QQ6OBwJow/8+WDMJ8QjD/QX9A/0PqLP+hbyg8E5Ys/zjS/oDrPiz9sg0vyc7mLP14IWgOwo4s/k74i0u6Niz/fFipcMHiLP2hcQJ50Yos/BEOBlLtMiz+TnlM6BTeLPwpEaYpRIYs/HBS/fqALiz+NL50Q8vWKP8xUlzhG4Io/g2eN7pzKij9HIawp9rSKP8nrbeBRn4o/N+SbCLCJij+ZB0+XEHSKPx2I8YBzXoo/zUpAudhIij/qjUwzQDOKP+u2feGpHYo/gkiTtRUIij8BAKegg/KJP40ZL5Pz3Ik/CbsAfWXHiT8ShVJN2bGJP/1Jv/JOnIk/aulIW8aGiT86UVt0P3GJPymizyq6W4k/J3jvajZGiT/kVXggtDCJP1QynzYzG4k/TSgUmLMFiT8ERwYvNfCIPxiDJ+W32og/9cawozvFiD+5ImZTwK+IP8IZm9xFmog/9w03J8yEiD+vx7kaU2+IP1QZQJ7aWYg/MZ6ImGJEiD89k/jv6i6IP2fJoIpzGYg/CrBCTvwDiD9Hd1Ughe6HP4tIC+YN2Yc/RpVWhJbDhz/4ee/fHq6HP1s1Wd2mmIc/M7LnYC6Dhz89I8VOtW2HP6iv94o7WIc/xy9n+cBChz+W+OJ9RS2HP/q0J/zIF4c/IEzlV0sChz9l08R0zOyGP1eLbjZM14Y/T+aPgMrBhj/ll+E2R6yGP9arLT3CloY/zqNVdzuBhj+8mljJsmuGP1NsWRcoVoY/iOCkRZtAhj8h2bc4DCuGP6KARdV6FYY/lnk9AOf/hT8/DdKeUOqFP/lXfpa31IU/VnMMzRu/hT/cm5sofamFPxNSpo/bk4U/lHUI6TZ+hT/oWAUcj2iFP4LNTRDkUoU/syYGrjU9hT+IMszdgyeFP2QnvYjOEYU/BoZ7mBX8hD/57TT3WOaEP4jkp4+Y0IQ/V4wpTdS6hD9pTasbDKWEPxBswOc/j4Q/P46jnm95hD8nLjwum2OEP0v5I4XCTYQ/MRuskuU3hD9/cuJGBCKEP3awlpIeDIQ/6GBfZzT2gz+82p63ReCDP6UXiHZSyoM/k3IjmFq0gz8XTFMRXp6DP3qT2NdciIM/4jRX4lZygz9calooTFyDP37wWKI8RoM/JB25SSgwgz+519QYDxqDP8Fy/QrxA4M/rWV/HM7tgj+T5qVKpteCPyljvpN5wYI/otgb90ergj99CRp1EZWCP1CRIA/WfoI/uNWlx5Vogj8T1DGiUFKCP57LYKMGPII/m8Pl0Lclgj/W7IwxZA+CP5zePc0L+YE/oq79rK7igT8T4/DaTMyBP2U/XWLmtYE/BWurT3ufgT+scWiwC4mBP3EdR5OXcoE/OSohCB9cgT8pUvgfokWBP5Az9+wgL4E/Og9ygpsYgT8WYOf0EQKBP2VLAFqE64A/vemQyPLUgD+vaJhYXb6APzEFQSPEp4A/yt7fQieRgD9vo/TShnqAP18UKfDiY4A/uGNQuDtNgD9ea2ZKkTaAP/28jsbjH4A/VIsTTjMJgD992sgGAOV/P3j0KRSUt38/yoK2DSOKfz8lNBw/rVx/Pw2fRvYyL38/S05bg7QBfz+2g7U4MtR+PxKy4Wqspn4/eq6YcCN5fj85mrqil0t+P8yFSVwJHn4/Ss5j+njwfT/jND7c5sJ9Pz6zHWNTlX0/uwtR8r5nfT8BGCrvKTp9Pw/W9sCUDH0/MjX60P/efD/2o2SKa7F8P8FfTFrYg3w/aoilr0ZWfD/s9jn7tih8P/TaoK8p+3s/RB42QZ/Nez8=\",\"dtype\":\"float64\",\"shape\":[1000]}},\"selected\":{\"id\":\"1715\"},\"selection_policy\":{\"id\":\"1716\"}},\"id\":\"1581\",\"type\":\"ColumnDataSource\"},{\"attributes\":{},\"id\":\"1721\",\"type\":\"Selection\"},{\"attributes\":{\"text\":\"age\",\"text_font_size\":{\"value\":\"10pt\"}},\"id\":\"1636\",\"type\":\"Title\"},{\"attributes\":{\"data_source\":{\"id\":\"1666\"},\"glyph\":{\"id\":\"1668\"},\"hover_glyph\":null,\"muted_glyph\":null,\"nonselection_glyph\":{\"id\":\"1669\"},\"selection_glyph\":null,\"view\":{\"id\":\"1671\"}},\"id\":\"1670\",\"type\":\"GlyphRenderer\"},{\"attributes\":{\"ticks\":[30,40,50,60,70]},\"id\":\"1590\",\"type\":\"FixedTicker\"},{\"attributes\":{\"x0\":{\"field\":\"x0\"},\"x1\":{\"field\":\"x1\"},\"y0\":{\"field\":\"uw\"},\"y1\":{\"field\":\"uw\"}},\"id\":\"1686\",\"type\":\"Segment\"},{\"attributes\":{\"source\":{\"id\":\"1618\"}},\"id\":\"1622\",\"type\":\"CDSView\"},{\"attributes\":{\"ticks\":[20,30,40,50,60,70]},\"id\":\"1628\",\"type\":\"FixedTicker\"},{\"attributes\":{\"data_source\":{\"id\":\"1618\"},\"glyph\":{\"id\":\"1619\"},\"hover_glyph\":null,\"muted_glyph\":null,\"nonselection_glyph\":{\"id\":\"1620\"},\"selection_glyph\":null,\"view\":{\"id\":\"1622\"}},\"id\":\"1621\",\"type\":\"GlyphRenderer\"},{\"attributes\":{},\"id\":\"1640\",\"type\":\"DataRange1d\"},{\"attributes\":{\"code\":\"\\n            if (tick.length &gt; 15) return tick.substring(0, 15-2) + '...';\\n            else return tick;\\n        \"},\"id\":\"1692\",\"type\":\"FuncTickFormatter\"},{\"attributes\":{\"callback\":null,\"renderers\":[{\"id\":\"1584\"}],\"tooltips\":[[\"x\",\"@x\"],[\"y\",\"@y\"]]},\"id\":\"1586\",\"type\":\"HoverTool\"},{\"attributes\":{\"below\":[{\"id\":\"1530\"}],\"center\":[{\"id\":\"1533\"},{\"id\":\"1537\"}],\"left\":[{\"id\":\"1534\"}],\"plot_height\":400,\"plot_width\":450,\"renderers\":[{\"id\":\"1543\"}],\"title\":{\"id\":\"1520\"},\"toolbar\":{\"id\":\"1538\"},\"toolbar_location\":null,\"x_range\":{\"id\":\"1522\"},\"x_scale\":{\"id\":\"1526\"},\"y_range\":{\"id\":\"1524\"},\"y_scale\":{\"id\":\"1528\"}},\"id\":\"1519\",\"subtype\":\"Figure\",\"type\":\"Plot\"},{\"attributes\":{\"data\":{\"grp\":[\"age\"],\"index\":[0],\"lw\":[26.0],\"otlrs\":[[]],\"q1\":[38.25],\"q2\":[49.5],\"q3\":[59.0],\"uw\":[75.0],\"x\":[1],\"x0\":[0.19999999999999996],\"x1\":[0.8]},\"selected\":{\"id\":\"1721\"},\"selection_policy\":{\"id\":\"1722\"}},\"id\":\"1654\",\"type\":\"ColumnDataSource\"},{\"attributes\":{\"callback\":null,\"point_policy\":\"follow_mouse\",\"renderers\":[{\"id\":\"1688\"},{\"id\":\"1658\"},{\"id\":\"1670\"},{\"id\":\"1676\"},{\"id\":\"1664\"},{\"id\":\"1682\"}],\"tooltips\":[[\"Upper Whisker\",\"@uw\"],[\"Upper Quartile\",\"@q3\"],[\"Median\",\"@q2\"],[\"Lower Quartile\",\"@q1\"],[\"Lower Whisker\",\"@lw\"]]},\"id\":\"1690\",\"type\":\"HoverTool\"},{\"attributes\":{\"data\":{\"x\":[18.50470850456522,79.36625923737027],\"y\":[18.50470850456522,79.36625923737027]},\"selected\":{\"id\":\"1719\"},\"selection_policy\":{\"id\":\"1720\"}},\"id\":\"1623\",\"type\":\"ColumnDataSource\"},{\"attributes\":{\"source\":{\"id\":\"1684\"}},\"id\":\"1689\",\"type\":\"CDSView\"},{\"attributes\":{\"line_alpha\":{\"value\":0.1},\"x0\":{\"field\":\"x0\"},\"x1\":{\"field\":\"x1\"},\"y0\":{\"field\":\"uw\"},\"y1\":{\"field\":\"uw\"}},\"id\":\"1687\",\"type\":\"Segment\"},{\"attributes\":{},\"id\":\"1601\",\"type\":\"DataRange1d\"},{\"attributes\":{\"data_source\":{\"id\":\"1623\"},\"glyph\":{\"id\":\"1624\"},\"hover_glyph\":null,\"muted_glyph\":null,\"nonselection_glyph\":{\"id\":\"1625\"},\"selection_glyph\":null,\"view\":{\"id\":\"1627\"}},\"id\":\"1626\",\"type\":\"GlyphRenderer\"},{\"attributes\":{\"data_source\":{\"id\":\"1684\"},\"glyph\":{\"id\":\"1686\"},\"hover_glyph\":null,\"muted_glyph\":null,\"nonselection_glyph\":{\"id\":\"1687\"},\"selection_glyph\":null,\"view\":{\"id\":\"1689\"}},\"id\":\"1688\",\"type\":\"GlyphRenderer\"},{\"attributes\":{\"data_source\":{\"id\":\"1574\"},\"glyph\":{\"id\":\"1576\"},\"hover_glyph\":null,\"muted_glyph\":null,\"nonselection_glyph\":{\"id\":\"1577\"},\"selection_glyph\":null,\"view\":{\"id\":\"1579\"}},\"id\":\"1578\",\"type\":\"GlyphRenderer\"},{\"attributes\":{\"fill_alpha\":{\"value\":0.1},\"fill_color\":{\"value\":\"#1f77b4\"},\"line_alpha\":{\"value\":0.1},\"line_color\":{\"value\":\"#1f77b4\"},\"size\":{\"units\":\"screen\",\"value\":3},\"x\":{\"field\":\"x\"},\"y\":{\"field\":\"y\"}},\"id\":\"1620\",\"type\":\"Circle\"},{\"attributes\":{\"ticks\":[30,40,50,60,70]},\"id\":\"1694\",\"type\":\"FixedTicker\"},{\"attributes\":{\"tabs\":[{\"id\":\"1518\"},{\"id\":\"1553\"},{\"id\":\"1595\"},{\"id\":\"1634\"},{\"id\":\"1697\"}]},\"id\":\"1698\",\"type\":\"Tabs\"},{\"attributes\":{\"active_drag\":\"auto\",\"active_inspect\":\"auto\",\"active_multi\":null,\"active_scroll\":\"auto\",\"active_tap\":\"auto\",\"tools\":[{\"id\":\"1615\"}]},\"id\":\"1616\",\"type\":\"Toolbar\"},{\"attributes\":{\"ticks\":[30,40,50,60,70]},\"id\":\"1695\",\"type\":\"FixedTicker\"},{\"attributes\":{\"data\":{\"freq\":[5,7,5,7,9,10,5,6,4,4],\"index\":[0,1,2,3,4,5,6,7,8,9],\"intvls\":[\"[26, 30.9)\",\"[30.9, 35.8)\",\"[35.8, 40.7)\",\"[40.7, 45.6)\",\"[45.6, 50.5)\",\"[50.5, 55.4)\",\"[55.4, 60.3)\",\"[60.3, 65.2)\",\"[65.2, 70.1)\",\"[70.1,75]\"],\"left\":{\"__ndarray__\":\"AAAAAAAAOkBmZmZmZuY+QGZmZmZm5kFAmpmZmZlZREDNzMzMzMxGQAAAAAAAQElANDMzMzOzS0BnZmZmZiZOQM3MzMzMTFBAZmZmZmaGUUA=\",\"dtype\":\"float64\",\"shape\":[10]},\"pct\":{\"__ndarray__\":\"AAAAAABAH0AAAAAAAOAlQAAAAAAAQB9AAAAAAADgJUAAAAAAACAsQAAAAAAAQC9AAAAAAABAH0AAAAAAAMAiQAAAAAAAABlAAAAAAAAAGUA=\",\"dtype\":\"float64\",\"shape\":[10]},\"right\":{\"__ndarray__\":\"ZmZmZmbmPkBmZmZmZuZBQJqZmZmZWURAzczMzMzMRkAAAAAAAEBJQDQzMzMzs0tAZ2ZmZmYmTkDNzMzMzExQQGZmZmZmhlFAAAAAAADAUkA=\",\"dtype\":\"float64\",\"shape\":[10]}},\"selected\":{\"id\":\"1711\"},\"selection_policy\":{\"id\":\"1712\"}},\"id\":\"1539\",\"type\":\"ColumnDataSource\"},{\"attributes\":{\"factors\":[\"age\"]},\"id\":\"1638\",\"type\":\"FactorRange\"},{\"attributes\":{\"axis\":{\"id\":\"1565\"},\"grid_line_color\":null,\"ticker\":{\"id\":\"1589\"}},\"id\":\"1568\",\"type\":\"Grid\"},{\"attributes\":{\"bottom\":{\"value\":0},\"fill_alpha\":{\"value\":0.1},\"fill_color\":{\"value\":\"#6baed6\"},\"left\":{\"field\":\"left\"},\"line_alpha\":{\"value\":0.1},\"line_color\":{\"value\":\"#1f77b4\"},\"right\":{\"field\":\"right\"},\"top\":{\"field\":\"freq\"}},\"id\":\"1577\",\"type\":\"Quad\"},{\"attributes\":{\"ticks\":[20,30,40,50,60,70]},\"id\":\"1629\",\"type\":\"FixedTicker\"},{\"attributes\":{\"data_source\":{\"id\":\"1672\"},\"glyph\":{\"id\":\"1674\"},\"hover_glyph\":null,\"muted_glyph\":null,\"nonselection_glyph\":{\"id\":\"1675\"},\"selection_glyph\":null,\"view\":{\"id\":\"1677\"}},\"id\":\"1676\",\"type\":\"GlyphRenderer\"},{\"attributes\":{\"source\":{\"id\":\"1574\"}},\"id\":\"1579\",\"type\":\"CDSView\"},{\"attributes\":{},\"id\":\"1707\",\"type\":\"BasicTickFormatter\"},{\"attributes\":{\"axis\":{\"id\":\"1649\"},\"dimension\":1,\"ticker\":{\"id\":\"1694\"}},\"id\":\"1652\",\"type\":\"Grid\"},{\"attributes\":{\"data\":{\"x\":{\"__ndarray__\":\"5R6ZkzSBMkBBMLCPDws2QK0TkgtFSzhAMZc8AR/9OUDFyd3ALF47QFEBg2u+ijxALu4zCVCSPUDUsfBdUX4+QFPaUdH0VD9Aggl8eEMNQEAu72sMEmlAQOi76w4Qv0BAGJRjiyIQQUD+Yv+f/VxBQABR1qsxpkFAzAKLTzTsQUDQeT/AZi9CQCg3ulQacEJALDjQ3ZOuQkDQKqonDutCQKIH5+G7JUNA1letGMleQ0AEftBbXJZDQBLenaiXzENADN8YJZkBREBfnWy3ezVEQES0i4FXaERA8bD2RkKaREAq7i/BT8tEQPXeVOaR+0RA1kGMJBkrRUBWfGKU9FlFQNGvuyMyiEVArD6sut61RUDyiEVbBuNFQA6kMD20D0ZAQRjI5fI7RkBsk0E9zGdGQG8HX6FJk0ZARVYK9nO+RkAEYC60U+lGQC8kE/fwE0dA2gl4iFM+R0Cvx57rgmhHQLZqcmeGkkdAslPwD2W8R0BKcvTOJeZHQBJdhmzPD0hAxwDClmg5SEDJZHTp92JIQCdZg/WDjEhAKb01SBO2SEDeYHFyrN9IQKZLAxBWCUlAPmoHzxYzSUA6U4V39VxJQEH2WPP4hklAFbR/ViixSUDBmeTnittJQOxdySooBkpAqmft6AcxSkCBtpg9MlxKQIMqtqGvh0pAr6Uv+YizSkDiGcehx99KQP00soN1DEtARH9LJJ05S0AfDjy7SWdLQJpBlUqHlUtAGnxrumLES0D73qL46fNLQMbPxx0sJExA/wwBmDlVTECsCWxdJIdMQJEgiycAukxA5N7eueLtTEDe31k25CJNQOw/J4MfWU1AGmZKxrKQTUBOthD9v8lNQCCTTbdtBE5AxIUnAehATkDIhj2KYX9OQCBEuB4VwE5AJLtsj0cDT0DwbCEzSklPQPFa+D5+kk9A2CmUU1nfT0AEAQboNRhQQGLnRek0Q1BAN9o9MxxxUEBiaCe7gKJQQIOy/5cp2FBAbOMu7SkTUUCkHptUDlVRQIZsRL8yoFFALLksL3b4UUAMWpes7GRSQObSjwv69FJAP5eVynDXU0A=\",\"dtype\":\"float64\",\"shape\":[100]},\"y\":{\"__ndarray__\":\"AAAAAAAAOkAAAAAAAAA6QAAAAAAAADpAWA191dDXOkBxLr2RfQY8QDbWu7gSoTxA9vt0v093PUCBS3INeqw+QIbNty3ScD9AAAAAAAAAQEAAAAAAAABAQAAAAAAAAEBAAAAAAAAAQEAAAAAAAABAQBPe14soCEFA9jFXH3NVQUAAAAAAAIBBQAAAAAAAgEFAAAAAAACAQUA6W6qzpfpBQICBVG2dikJAY9XTAOjXQkAAAAAAAABDQAAAAAAAAENAAAAAAAAAQ0DtJNFOEg1DQNB4UOJcWkNAZZmf607PQ0AqQZ4S5GlEQAAAAAAAgERAWshNMIePREA8HM3D0dxEQCBwTFccKkVAAsTL6mZ3RUDkF0t+scRFQAAAAAAAAEZAAAAAAAAARkBvZ0jM23lGQFK7x18mx0ZAAAAAAAAAR0AAAAAAAABHQPq2RRoGL0dA3ArFrVB8R0AAAAAAAIBHQKKyw9TllkdAhAZDaDDkR0AAAAAAAABIQAAAAAAAAEhALALBIhBMSEAPVkC2WplIQPGpv0ml5khAAAAAAAAASUC2Ub5wOgFJQJmlPQSFTklAAAAAAACASUAAAAAAAIBJQAAAAAAAgElAJPU6Uq+DSUAGSbrl+dBJQAAAAAAAAEpAAAAAAAAASkAAAAAAAABKQAAAAAAAAEpAAAAAAAAASkAAAAAAAABKQAAAAAAAAEpANtBpA512SkAAAAAAAABLQAAAAAAAAEtAhsdleFxGS0BMb2Sf8eBLQJiilClKuUxAAAAAAACATUAAAAAAAIBNQAAAAAAAgE1AAAAAAACATUAAAAAAAIBNQLAFW7AFm01AdK1Z15o1TkAAAAAAAIBOQAAAAAAAgE5AAAAAAACATkBFJqq5949OQCd6KU1C3U5AAAAAAAAAT0AAAAAAAABPQAAAAAAAAE9AnutOD0SKT0CyySabbBJQQJQdpi63X1BAAAAAAACAUEAAAAAAAIBQQNoltl1i61BAAAAAAABAUUAAAAAAAEBRQFgfc/Uxh1FAKh2y0iH7UUBUXlDlBSVSQAAAAAAAQFJAAAAAAABAUkA=\",\"dtype\":\"float64\",\"shape\":[100]}},\"selected\":{\"id\":\"1717\"},\"selection_policy\":{\"id\":\"1718\"}},\"id\":\"1618\",\"type\":\"ColumnDataSource\"},{\"attributes\":{\"ticks\":[30,40,50,60,70]},\"id\":\"1589\",\"type\":\"FixedTicker\"},{\"attributes\":{\"x0\":{\"field\":\"grp\"},\"x1\":{\"field\":\"grp\"},\"y0\":{\"field\":\"uw\"},\"y1\":{\"field\":\"q3\"}},\"id\":\"1656\",\"type\":\"Segment\"},{\"attributes\":{\"active_drag\":\"auto\",\"active_inspect\":\"auto\",\"active_multi\":null,\"active_scroll\":\"auto\",\"active_tap\":\"auto\",\"tools\":[{\"id\":\"1690\"}]},\"id\":\"1653\",\"type\":\"Toolbar\"},{\"attributes\":{\"line_alpha\":0.1,\"line_color\":\"red\",\"x\":{\"field\":\"x\"},\"y\":{\"field\":\"y\"}},\"id\":\"1625\",\"type\":\"Line\"},{\"attributes\":{},\"id\":\"1642\",\"type\":\"CategoricalScale\"},{\"attributes\":{\"axis\":{\"id\":\"1611\"},\"dimension\":1,\"grid_line_color\":null,\"ticker\":{\"id\":\"1631\"}},\"id\":\"1614\",\"type\":\"Grid\"},{\"attributes\":{\"x0\":{\"field\":\"grp\"},\"x1\":{\"field\":\"grp\"},\"y0\":{\"field\":\"lw\"},\"y1\":{\"field\":\"q1\"}},\"id\":\"1662\",\"type\":\"Segment\"},{\"attributes\":{\"line_color\":\"red\",\"x\":{\"field\":\"x\"},\"y\":{\"field\":\"y\"}},\"id\":\"1624\",\"type\":\"Line\"},{\"attributes\":{\"axis_label\":\"age\",\"formatter\":{\"id\":\"1705\"},\"major_label_overrides\":{\"30\":\"30\",\"40\":\"40\",\"50\":\"50\",\"60\":\"60\",\"70\":\"70\"},\"major_label_standoff\":7,\"major_label_text_font_size\":\"10pt\",\"major_tick_line_color\":null,\"minor_tick_line_color\":\"white\",\"ticker\":{\"id\":\"1590\"}},\"id\":\"1565\",\"type\":\"LinearAxis\"},{\"attributes\":{\"active_drag\":\"auto\",\"active_inspect\":\"auto\",\"active_multi\":null,\"active_scroll\":\"auto\",\"active_tap\":\"auto\",\"tools\":[{\"id\":\"1545\"}]},\"id\":\"1538\",\"type\":\"Toolbar\"},{\"attributes\":{},\"id\":\"1703\",\"type\":\"BasicTickFormatter\"},{\"attributes\":{\"data\":{\"grp\":[\"age\"],\"index\":[0],\"lw\":[26.0],\"otlrs\":[[]],\"q1\":[38.25],\"q2\":[49.5],\"q3\":[59.0],\"uw\":[75.0],\"x\":[1],\"x0\":[0.19999999999999996],\"x1\":[0.8]},\"selected\":{\"id\":\"1725\"},\"selection_policy\":{\"id\":\"1726\"}},\"id\":\"1666\",\"type\":\"ColumnDataSource\"},{\"attributes\":{},\"id\":\"1603\",\"type\":\"LinearScale\"},{\"attributes\":{\"ticks\":[0,0.007,0.014,0.021,0.028]},\"id\":\"1592\",\"type\":\"FixedTicker\"},{\"attributes\":{},\"id\":\"1563\",\"type\":\"LinearScale\"},{\"attributes\":{\"axis_label\":\"Normal Quantiles\",\"formatter\":{\"id\":\"1707\"},\"major_label_overrides\":{\"20\":\"20\",\"30\":\"30\",\"40\":\"40\",\"50\":\"50\",\"60\":\"60\",\"70\":\"70\"},\"major_label_standoff\":7,\"major_label_text_font_size\":\"10pt\",\"major_tick_line_color\":null,\"minor_tick_line_color\":\"white\",\"ticker\":{\"id\":\"1629\"}},\"id\":\"1607\",\"type\":\"LinearAxis\"},{\"attributes\":{\"fill_color\":{\"value\":\"#1f77b4\"},\"line_color\":{\"value\":\"#1f77b4\"},\"size\":{\"units\":\"screen\",\"value\":3},\"x\":{\"field\":\"x\"},\"y\":{\"field\":\"y\"}},\"id\":\"1619\",\"type\":\"Circle\"},{\"attributes\":{\"axis\":{\"id\":\"1607\"},\"grid_line_color\":null,\"ticker\":{\"id\":\"1628\"}},\"id\":\"1610\",\"type\":\"Grid\"},{\"attributes\":{\"bottom\":{\"field\":\"q1\"},\"fill_alpha\":{\"value\":0.1},\"fill_color\":{\"value\":\"#1f77b4\"},\"line_alpha\":{\"value\":0.1},\"top\":{\"field\":\"q2\"},\"width\":{\"value\":0.7},\"x\":{\"field\":\"grp\"}},\"id\":\"1675\",\"type\":\"VBar\"},{\"attributes\":{\"below\":[{\"id\":\"1607\"}],\"center\":[{\"id\":\"1610\"},{\"id\":\"1614\"}],\"left\":[{\"id\":\"1611\"}],\"plot_height\":400,\"plot_width\":450,\"renderers\":[{\"id\":\"1621\"},{\"id\":\"1626\"}],\"title\":{\"id\":\"1597\"},\"toolbar\":{\"id\":\"1616\"},\"toolbar_location\":null,\"x_range\":{\"id\":\"1599\"},\"x_scale\":{\"id\":\"1603\"},\"y_range\":{\"id\":\"1601\"},\"y_scale\":{\"id\":\"1605\"}},\"id\":\"1596\",\"subtype\":\"Figure\",\"type\":\"Plot\"},{\"attributes\":{},\"id\":\"1644\",\"type\":\"LinearScale\"},{\"attributes\":{\"text\":\"age\",\"text_font_size\":{\"value\":\"10pt\"}},\"id\":\"1597\",\"type\":\"Title\"},{\"attributes\":{\"axis\":{\"id\":\"1569\"},\"dimension\":1,\"ticker\":{\"id\":\"1592\"}},\"id\":\"1572\",\"type\":\"Grid\"},{\"attributes\":{\"ticks\":[20,30,40,50,60,70]},\"id\":\"1631\",\"type\":\"FixedTicker\"},{\"attributes\":{\"data\":{\"grp\":[\"age\"],\"index\":[0],\"lw\":[26.0],\"otlrs\":[[]],\"q1\":[38.25],\"q2\":[49.5],\"q3\":[59.0],\"uw\":[75.0],\"x\":[1],\"x0\":[0.19999999999999996],\"x1\":[0.8]},\"selected\":{\"id\":\"1731\"},\"selection_policy\":{\"id\":\"1732\"}},\"id\":\"1684\",\"type\":\"ColumnDataSource\"},{\"attributes\":{\"bottom\":{\"value\":0},\"fill_alpha\":{\"value\":0.1},\"fill_color\":{\"value\":\"#6baed6\"},\"left\":{\"field\":\"left\"},\"line_alpha\":{\"value\":0.1},\"line_color\":{\"value\":\"#1f77b4\"},\"right\":{\"field\":\"right\"},\"top\":{\"field\":\"freq\"}},\"id\":\"1542\",\"type\":\"Quad\"},{\"attributes\":{\"ticks\":[0,2,4,6,8]},\"id\":\"1550\",\"type\":\"FixedTicker\"},{\"attributes\":{},\"id\":\"1704\",\"type\":\"BasicTickFormatter\"},{\"attributes\":{\"x0\":{\"field\":\"x0\"},\"x1\":{\"field\":\"x1\"},\"y0\":{\"field\":\"lw\"},\"y1\":{\"field\":\"lw\"}},\"id\":\"1680\",\"type\":\"Segment\"},{\"attributes\":{},\"id\":\"1528\",\"type\":\"LinearScale\"},{\"attributes\":{\"callback\":null,\"tooltips\":[[\"x\",\"@x\"],[\"y\",\"@y\"]]},\"id\":\"1615\",\"type\":\"HoverTool\"},{\"attributes\":{\"callback\":null,\"mode\":\"vline\",\"tooltips\":[[\"Bin\",\"@intvls\"],[\"Frequency\",\"@freq\"],[\"Percent\",\"@pct{0.2f}%\"]]},\"id\":\"1545\",\"type\":\"HoverTool\"},{\"attributes\":{\"data\":{\"grp\":[\"age\"],\"index\":[0],\"lw\":[26.0],\"otlrs\":[[]],\"q1\":[38.25],\"q2\":[49.5],\"q3\":[59.0],\"uw\":[75.0],\"x\":[1],\"x0\":[0.19999999999999996],\"x1\":[0.8]},\"selected\":{\"id\":\"1723\"},\"selection_policy\":{\"id\":\"1724\"}},\"id\":\"1660\",\"type\":\"ColumnDataSource\"},{\"attributes\":{\"source\":{\"id\":\"1539\"}},\"id\":\"1544\",\"type\":\"CDSView\"},{\"attributes\":{\"ticks\":[0,0.007,0.014,0.021,0.028]},\"id\":\"1593\",\"type\":\"FixedTicker\"},{\"attributes\":{\"source\":{\"id\":\"1672\"}},\"id\":\"1677\",\"type\":\"CDSView\"},{\"attributes\":{\"data_source\":{\"id\":\"1539\"},\"glyph\":{\"id\":\"1541\"},\"hover_glyph\":null,\"muted_glyph\":null,\"nonselection_glyph\":{\"id\":\"1542\"},\"selection_glyph\":null,\"view\":{\"id\":\"1544\"}},\"id\":\"1543\",\"type\":\"GlyphRenderer\"},{\"attributes\":{},\"id\":\"1605\",\"type\":\"LinearScale\"},{\"attributes\":{\"source\":{\"id\":\"1654\"}},\"id\":\"1659\",\"type\":\"CDSView\"},{\"attributes\":{},\"id\":\"1599\",\"type\":\"DataRange1d\"},{\"attributes\":{\"data_source\":{\"id\":\"1654\"},\"glyph\":{\"id\":\"1656\"},\"hover_glyph\":null,\"muted_glyph\":null,\"nonselection_glyph\":{\"id\":\"1657\"},\"selection_glyph\":null,\"view\":{\"id\":\"1659\"}},\"id\":\"1658\",\"type\":\"GlyphRenderer\"},{\"attributes\":{},\"id\":\"1524\",\"type\":\"DataRange1d\"},{\"attributes\":{\"active_drag\":\"auto\",\"active_inspect\":\"auto\",\"active_multi\":null,\"active_scroll\":\"auto\",\"active_tap\":\"auto\",\"tools\":[{\"id\":\"1580\"},{\"id\":\"1586\"}]},\"id\":\"1573\",\"type\":\"Toolbar\"},{\"attributes\":{\"line_alpha\":{\"value\":0.1},\"x0\":{\"field\":\"grp\"},\"x1\":{\"field\":\"grp\"},\"y0\":{\"field\":\"uw\"},\"y1\":{\"field\":\"q3\"}},\"id\":\"1657\",\"type\":\"Segment\"},{\"attributes\":{\"axis_label\":\"age\",\"formatter\":{\"id\":\"1703\"},\"major_label_overrides\":{\"30\":\"30\",\"40\":\"40\",\"50\":\"50\",\"60\":\"60\",\"70\":\"70\"},\"major_label_standoff\":7,\"major_label_text_font_size\":\"10pt\",\"major_tick_line_color\":null,\"minor_tick_line_color\":\"white\",\"ticker\":{\"id\":\"1548\"}},\"id\":\"1530\",\"type\":\"LinearAxis\"},{\"attributes\":{},\"id\":\"1559\",\"type\":\"DataRange1d\"},{\"attributes\":{\"ticks\":[20,30,40,50,60,70]},\"id\":\"1632\",\"type\":\"FixedTicker\"},{\"attributes\":{\"axis_label\":\"Frequency\",\"formatter\":{\"id\":\"1704\"},\"major_label_overrides\":{\"0\":\"0\",\"2\":\"2\",\"4\":\"4\",\"6\":\"6\",\"8\":\"8\"},\"major_label_text_font_size\":\"10pt\",\"minor_tick_line_color\":\"white\",\"ticker\":{\"id\":\"1551\"}},\"id\":\"1534\",\"type\":\"LinearAxis\"},{\"attributes\":{\"data\":{\"freq\":{\"__ndarray__\":\"9vtn2WrakD+/YF4wL5iXP+/7Z9lq2pA/v2BeMC+Ylz+HxVSH81WeP+/7Z9lq2qA/9vtn2WrakD9aLuMETTmUPy6T2VsR94o/GJPZWxH3ij8=\",\"dtype\":\"float64\",\"shape\":[10]},\"index\":[0,1,2,3,4,5,6,7,8,9],\"intervals\":[\"[26, 30.9)\",\"[30.9, 35.8)\",\"[35.8, 40.7)\",\"[40.7, 45.6)\",\"[45.6, 50.5)\",\"[50.5, 55.4)\",\"[55.4, 60.3)\",\"[60.3, 65.2)\",\"[65.2, 70.1)\",\"[70.1,75]\"],\"left\":{\"__ndarray__\":\"AAAAAAAAOkBmZmZmZuY+QGZmZmZm5kFAmpmZmZlZREDNzMzMzMxGQAAAAAAAQElANDMzMzOzS0BnZmZmZiZOQM3MzMzMTFBAZmZmZmaGUUA=\",\"dtype\":\"float64\",\"shape\":[10]},\"right\":{\"__ndarray__\":\"ZmZmZmbmPkBmZmZmZuZBQJqZmZmZWURAzczMzMzMRkAAAAAAAEBJQDQzMzMzs0tAZ2ZmZmYmTkDNzMzMzExQQGZmZmZmhlFAAAAAAADAUkA=\",\"dtype\":\"float64\",\"shape\":[10]}},\"selected\":{\"id\":\"1713\"},\"selection_policy\":{\"id\":\"1714\"}},\"id\":\"1574\",\"type\":\"ColumnDataSource\"},{\"attributes\":{\"source\":{\"id\":\"1623\"}},\"id\":\"1627\",\"type\":\"CDSView\"},{\"attributes\":{\"child\":{\"id\":\"1596\"},\"title\":\"QQ Normal Plot\"},\"id\":\"1634\",\"type\":\"Panel\"},{\"attributes\":{\"axis_label\":\"Quantiles of age\",\"formatter\":{\"id\":\"1708\"},\"major_label_overrides\":{\"20\":\"20\",\"30\":\"30\",\"40\":\"40\",\"50\":\"50\",\"60\":\"60\",\"70\":\"70\"},\"major_label_text_font_size\":\"10pt\",\"minor_tick_line_color\":\"white\",\"ticker\":{\"id\":\"1632\"}},\"id\":\"1611\",\"type\":\"LinearAxis\"},{\"attributes\":{\"bottom\":{\"field\":\"q1\"},\"fill_color\":{\"value\":\"#1f77b4\"},\"top\":{\"field\":\"q2\"},\"width\":{\"value\":0.7},\"x\":{\"field\":\"grp\"}},\"id\":\"1674\",\"type\":\"VBar\"},{\"attributes\":{\"child\":{\"id\":\"1519\"},\"title\":\"Histogram\"},\"id\":\"1553\",\"type\":\"Panel\"},{\"attributes\":{\"ticks\":[30,40,50,60,70]},\"id\":\"1548\",\"type\":\"FixedTicker\"},{\"attributes\":{\"data\":{\"grp\":[\"age\"],\"index\":[0],\"lw\":[26.0],\"otlrs\":[[]],\"q1\":[38.25],\"q2\":[49.5],\"q3\":[59.0],\"uw\":[75.0],\"x\":[1],\"x0\":[0.19999999999999996],\"x1\":[0.8]},\"selected\":{\"id\":\"1729\"},\"selection_policy\":{\"id\":\"1730\"}},\"id\":\"1678\",\"type\":\"ColumnDataSource\"},{\"attributes\":{\"bottom\":{\"value\":0},\"fill_alpha\":{\"value\":0.5},\"fill_color\":{\"value\":\"#6baed6\"},\"left\":{\"field\":\"left\"},\"line_alpha\":{\"value\":0.5},\"line_color\":{\"value\":\"#1f77b4\"},\"right\":{\"field\":\"right\"},\"top\":{\"field\":\"freq\"}},\"id\":\"1576\",\"type\":\"Quad\"},{\"attributes\":{\"line_alpha\":{\"value\":0.1},\"x0\":{\"field\":\"x0\"},\"x1\":{\"field\":\"x1\"},\"y0\":{\"field\":\"lw\"},\"y1\":{\"field\":\"lw\"}},\"id\":\"1681\",\"type\":\"Segment\"},{\"attributes\":{},\"id\":\"1705\",\"type\":\"BasicTickFormatter\"},{\"attributes\":{\"text\":\"age\",\"text_font_size\":{\"value\":\"10pt\"}},\"id\":\"1555\",\"type\":\"Title\"},{\"attributes\":{},\"id\":\"1561\",\"type\":\"LinearScale\"},{\"attributes\":{\"source\":{\"id\":\"1660\"}},\"id\":\"1665\",\"type\":\"CDSView\"},{\"attributes\":{\"bottom\":{\"field\":\"q2\"},\"fill_color\":{\"value\":\"#1f77b4\"},\"top\":{\"field\":\"q3\"},\"width\":{\"value\":0.7},\"x\":{\"field\":\"grp\"}},\"id\":\"1668\",\"type\":\"VBar\"},{\"attributes\":{\"below\":[{\"id\":\"1565\"}],\"center\":[{\"id\":\"1568\"},{\"id\":\"1572\"}],\"left\":[{\"id\":\"1569\"}],\"plot_height\":400,\"plot_width\":450,\"renderers\":[{\"id\":\"1578\"},{\"id\":\"1584\"}],\"title\":{\"id\":\"1555\"},\"toolbar\":{\"id\":\"1573\"},\"toolbar_location\":null,\"x_range\":{\"id\":\"1557\"},\"x_scale\":{\"id\":\"1561\"},\"y_range\":{\"id\":\"1559\"},\"y_scale\":{\"id\":\"1563\"}},\"id\":\"1554\",\"subtype\":\"Figure\",\"type\":\"Plot\"},{\"attributes\":{\"line_alpha\":{\"value\":0.1},\"x0\":{\"field\":\"grp\"},\"x1\":{\"field\":\"grp\"},\"y0\":{\"field\":\"lw\"},\"y1\":{\"field\":\"q1\"}},\"id\":\"1663\",\"type\":\"Segment\"},{\"attributes\":{\"ticks\":[30,40,50,60,70]},\"id\":\"1547\",\"type\":\"FixedTicker\"},{\"attributes\":{\"bottom\":{\"field\":\"q2\"},\"fill_alpha\":{\"value\":0.1},\"fill_color\":{\"value\":\"#1f77b4\"},\"line_alpha\":{\"value\":0.1},\"top\":{\"field\":\"q3\"},\"width\":{\"value\":0.7},\"x\":{\"field\":\"grp\"}},\"id\":\"1669\",\"type\":\"VBar\"},{\"attributes\":{\"axis\":{\"id\":\"1534\"},\"dimension\":1,\"ticker\":{\"id\":\"1550\"}},\"id\":\"1537\",\"type\":\"Grid\"},{\"attributes\":{},\"id\":\"1557\",\"type\":\"DataRange1d\"},{\"attributes\":{\"data_source\":{\"id\":\"1660\"},\"glyph\":{\"id\":\"1662\"},\"hover_glyph\":null,\"muted_glyph\":null,\"nonselection_glyph\":{\"id\":\"1663\"},\"selection_glyph\":null,\"view\":{\"id\":\"1665\"}},\"id\":\"1664\",\"type\":\"GlyphRenderer\"},{\"attributes\":{},\"id\":\"1526\",\"type\":\"LinearScale\"},{\"attributes\":{\"ticks\":[0,2,4,6,8]},\"id\":\"1551\",\"type\":\"FixedTicker\"},{\"attributes\":{\"data\":{\"grp\":[\"age\"],\"index\":[0],\"lw\":[26.0],\"otlrs\":[[]],\"q1\":[38.25],\"q2\":[49.5],\"q3\":[59.0],\"uw\":[75.0],\"x\":[1],\"x0\":[0.19999999999999996],\"x1\":[0.8]},\"selected\":{\"id\":\"1727\"},\"selection_policy\":{\"id\":\"1728\"}},\"id\":\"1672\",\"type\":\"ColumnDataSource\"},{\"attributes\":{\"child\":{\"id\":\"1554\"},\"title\":\"KDE plot\"},\"id\":\"1595\",\"type\":\"Panel\"},{\"attributes\":{\"below\":[{\"id\":\"1646\"}],\"center\":[{\"id\":\"1648\"},{\"id\":\"1652\"}],\"left\":[{\"id\":\"1649\"}],\"plot_height\":400,\"plot_width\":450,\"renderers\":[{\"id\":\"1658\"},{\"id\":\"1664\"},{\"id\":\"1670\"},{\"id\":\"1676\"},{\"id\":\"1682\"},{\"id\":\"1688\"}],\"title\":{\"id\":\"1636\"},\"toolbar\":{\"id\":\"1653\"},\"toolbar_location\":null,\"x_range\":{\"id\":\"1638\"},\"x_scale\":{\"id\":\"1642\"},\"y_range\":{\"id\":\"1640\"},\"y_scale\":{\"id\":\"1644\"}},\"id\":\"1635\",\"subtype\":\"Figure\",\"type\":\"Plot\"},{\"attributes\":{\"source\":{\"id\":\"1678\"}},\"id\":\"1683\",\"type\":\"CDSView\"},{\"attributes\":{\"axis_label\":\"Density\",\"formatter\":{\"id\":\"1706\"},\"major_label_overrides\":{\"0\":\"0\",\"0.007\":\"0.007\",\"0.014\":\"0.014\",\"0.021\":\"0.021\",\"0.028\":\"0.028\"},\"major_label_text_font_size\":\"10pt\",\"minor_tick_line_color\":\"white\",\"ticker\":{\"id\":\"1593\"}},\"id\":\"1569\",\"type\":\"LinearAxis\"},{\"attributes\":{},\"id\":\"1706\",\"type\":\"BasicTickFormatter\"},{\"attributes\":{\"data_source\":{\"id\":\"1678\"},\"glyph\":{\"id\":\"1680\"},\"hover_glyph\":null,\"muted_glyph\":null,\"nonselection_glyph\":{\"id\":\"1681\"},\"selection_glyph\":null,\"view\":{\"id\":\"1683\"}},\"id\":\"1682\",\"type\":\"GlyphRenderer\"}],\"root_ids\":[\"1698\"]},\"title\":\"Bokeh Application\",\"version\":\"2.0.2\"}}\n",
       "        </script>\n",
       "        <script type=\"text/javascript\">\n",
       "          (function() {\n",
       "            var fn = function() {\n",
       "              var __dataprep_bokeh_fix = (f) => document.Bokeh === undefined ? setTimeout(f, 1000) : f(); __dataprep_bokeh_fix(function() {\n",
       "                (function(root) {\n",
       "                  function embed_document(root) {\n",
       "                    \n",
       "                  var docs_json = document.getElementById('2073').textContent;\n",
       "                  var render_items = [{\"docid\":\"4898ecd8-d7d6-49c8-9146-0b5fe5362f9d\",\"root_ids\":[\"1698\"],\"roots\":{\"1698\":\"49e13fee-3540-49a3-b02d-1deda6bd307d\"}}];\n",
       "                  root.Bokeh.embed.embed_items(docs_json, render_items);\n",
       "                \n",
       "                  }\n",
       "                  if (root.Bokeh !== undefined) {\n",
       "                    embed_document(root);\n",
       "                  } else {\n",
       "                    var attempts = 0;\n",
       "                    var timer = setInterval(function(root) {\n",
       "                      if (root.Bokeh !== undefined) {\n",
       "                        clearInterval(timer);\n",
       "                        embed_document(root);\n",
       "                      } else {\n",
       "                        attempts++;\n",
       "                        if (attempts > 100) {\n",
       "                          clearInterval(timer);\n",
       "                          console.log(\"Bokeh: ERROR: Unable to run BokehJS code because BokehJS library is missing\");\n",
       "                        }\n",
       "                      }\n",
       "                    }, 10, root)\n",
       "                  }\n",
       "                })(window);\n",
       "              });\n",
       "            };\n",
       "            if (document.readyState != \"loading\") fn();\n",
       "            else document.addEventListener(\"DOMContentLoaded\", fn);\n",
       "          })();\n",
       "        </script>\n"
      ],
      "text/plain": [
       "<dataprep.eda.report.Report at 0x7fbbec03d160>"
      ]
     },
     "execution_count": 2,
     "metadata": {},
     "output_type": "execute_result"
    }
   ],
   "source": [
    "from dataprep.eda import plot\n",
    "import pandas as pd\n",
    "\n",
    "df = pd.read_csv(\"faculty_grad_year.csv\")\n",
    "df[\"age\"] = 2020+23-df[\"gradyear\"]\n",
    "\n",
    "plot(df, \"age\")"
   ]
  },
  {
   "cell_type": "markdown",
   "metadata": {},
   "source": [
    "## Submission"
   ]
  },
  {
   "cell_type": "markdown",
   "metadata": {},
   "source": [
    "Complete the code in this [notebook](https://github.com/sfu-db/bigdata-cmpt733/blob/master/Assignments/A1/A1.ipynb), and submit it to the CourSys activity `Assignment 1`."
   ]
  },
  {
   "cell_type": "markdown",
   "metadata": {},
   "source": [
    "<hr/>\n",
    "## <span style=\"color:red\">Bonus: Contribute to dataprep</span>"
   ]
  },
  {
   "cell_type": "markdown",
   "metadata": {},
   "source": [
    "**Total Bonus: 0.2 + 0.3 = 0.5**\n",
    "\n",
    "1. If you create an issue (i.e., report a bug or request a feature) at [link1](https://github.com/sfu-db/dataprep/issues) or [link2](https://github.com/sfu-db/DataConnectorConfigs/issues), you will get **0.2** bonus points.\n",
    "\n",
    "2.  Creating more issues will *not* give you more bonus points, but you are encouraged to do so for learning more.\n",
    "\n",
    "2. If you send a pull request (i.e., fix a bug or implement a feature or add data connector for a new website) at [link1](https://github.com/sfu-db/dataprep/pulls) or [link2](https://github.com/sfu-db/DataConnectorConfigs/pulls) and the pull request gets merged into the repo, you will get **0.3** bonus points. \n",
    "\n",
    "4.  Sending more pull requests will *not* give you more bonus points, but you are encouraged to do so for learning more.\n",
    "\n",
    "5. These bonus points will be directly added to your final grade.\n",
    "\n",
    "\n",
    "\n",
    "\n",
    "\n",
    "\n",
    "**How to Submit**\n",
    "* Submit github link(s) to the CourSys activity `Bonus`.\n",
    "* Due on `March 15, 2020`\n",
    "\n",
    "If you love dataprep, please support it by simply clicking the **<span style=\"color:red\">Star</span>** on [Github](https://github.com/sfu-db/dataprep).\n",
    "<img src=\"dataprep-star.png\" width=\"1000\">"
   ]
  }
 ],
 "metadata": {
  "kernelspec": {
   "display_name": "Python 3",
   "language": "python",
   "name": "python3"
  },
  "language_info": {
   "codemirror_mode": {
    "name": "ipython",
    "version": 3
   },
   "file_extension": ".py",
   "mimetype": "text/x-python",
   "name": "python",
   "nbconvert_exporter": "python",
   "pygments_lexer": "ipython3",
   "version": "3.8.5"
  },
  "toc": {
   "base_numbering": 1,
   "nav_menu": {},
   "number_sections": true,
   "sideBar": true,
   "skip_h1_title": false,
   "title_cell": "Table of Contents",
   "title_sidebar": "Contents",
   "toc_cell": false,
   "toc_position": {},
   "toc_section_display": true,
   "toc_window_display": false
  }
 },
 "nbformat": 4,
 "nbformat_minor": 1
}
